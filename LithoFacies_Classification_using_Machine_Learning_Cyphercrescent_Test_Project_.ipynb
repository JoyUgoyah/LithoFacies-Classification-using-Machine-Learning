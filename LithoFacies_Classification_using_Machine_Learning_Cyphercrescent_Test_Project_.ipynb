{
  "nbformat": 4,
  "nbformat_minor": 0,
  "metadata": {
    "colab": {
      "provenance": [],
      "collapsed_sections": [
        "oCkX9GqJbm7l",
        "xiFdjY0ab1kz",
        "Ih5MCFnYb7S5",
        "b0fWXZ_GctlM"
      ],
      "include_colab_link": true
    },
    "kernelspec": {
      "name": "python3",
      "display_name": "Python 3"
    },
    "language_info": {
      "name": "python"
    }
  },
  "cells": [
    {
      "cell_type": "markdown",
      "metadata": {
        "id": "view-in-github",
        "colab_type": "text"
      },
      "source": [
        "<a href=\"https://colab.research.google.com/github/JoyUgoyah/LithoFacies-Classification-using-Machine-Learning/blob/main/LithoFacies_Classification_using_Machine_Learning_Cyphercrescent_Test_Project_.ipynb\" target=\"_parent\"><img src=\"https://colab.research.google.com/assets/colab-badge.svg\" alt=\"Open In Colab\"/></a>"
      ]
    },
    {
      "cell_type": "markdown",
      "source": [
        "#Machine Learning Test Project - Litho Facies Classification\n",
        "\n",
        "##Objective\n",
        "\n",
        "This notebook uses machine learning written in python language to train different algorithms (in the ScikitLearn and TensorFlow framework) that classify LithoFacies from well log data with the aim of determining the stratigraphy present at a given depth of exploration in a subsurface area."
      ],
      "metadata": {
        "id": "XLQTrhsPSsV6"
      }
    },
    {
      "cell_type": "code",
      "source": [
        "# Import basic libraries for data wrangling, analysis and visualization\n",
        "\n",
        "import numpy as np\n",
        "import pandas as pd\n",
        "import matplotlib.pyplot as plt\n",
        "import seaborn as sns"
      ],
      "metadata": {
        "id": "CtL151eBxVd9"
      },
      "execution_count": 2,
      "outputs": []
    },
    {
      "cell_type": "code",
      "source": [
        "# Load data to a pandas DataFrame\n",
        "file_path = \"https://raw.githubusercontent.com/seg/2016-ml-contest/master/training_data.csv\"\n",
        "facies_data = pd.read_csv(file_path)"
      ],
      "metadata": {
        "id": "KiKH4_46LV6x"
      },
      "execution_count": 3,
      "outputs": []
    },
    {
      "cell_type": "code",
      "source": [
        "# View a few points in the data set\n",
        "facies_data.sample(10)"
      ],
      "metadata": {
        "id": "oX2SzqrGLyoh",
        "outputId": "5c606936-248b-41c5-92ec-e29d17898d87",
        "colab": {
          "base_uri": "https://localhost:8080/",
          "height": 363
        }
      },
      "execution_count": null,
      "outputs": [
        {
          "output_type": "execute_result",
          "data": {
            "text/plain": [
              "      Facies Formation   Well Name   Depth       GR  ILD_log10  DeltaPHI  \\\n",
              "2322       9     B2 LM  Recruit F9  3013.0   32.188      0.821     -1.42   \n",
              "283        3     B5 SH   SHRIMPLIN  2934.5  100.170      0.391     11.60   \n",
              "2374       3     A1 SH       NEWBY  2830.5   67.330      0.719      7.30   \n",
              "424        5      C LM   SHRIMPLIN  3005.0   52.630      0.942      7.60   \n",
              "1294       2      C SH    LUKE G U  2797.5   72.140      0.549     13.90   \n",
              "312        3      C SH   SHRIMPLIN  2949.0  127.250      0.519      7.50   \n",
              "2518       2     B1 SH       NEWBY  2902.5   63.970      0.632      0.40   \n",
              "873        6      C LM     SHANKLE  2985.0   39.550      0.792      1.90   \n",
              "931        2     A1 SH    LUKE G U  2616.0   73.650      0.675      6.30   \n",
              "1          3     A1 SH   SHRIMPLIN  2793.5   78.260      0.661     14.20   \n",
              "\n",
              "       PHIND     PE  NM_M  RELPOS  \n",
              "2322   9.721  4.961     2   0.600  \n",
              "283   18.110  3.200     1   0.471  \n",
              "2374  10.750  3.400     1   0.791  \n",
              "424    7.840  5.000     2   0.461  \n",
              "1294  13.050  3.400     1   0.439  \n",
              "312   17.585  3.600     1   0.982  \n",
              "2518  19.400  3.100     1   0.097  \n",
              "873    8.035  3.300     2   0.672  \n",
              "931   10.650  3.500     1   0.792  \n",
              "1     12.565  4.100     1   0.979  "
            ],
            "text/html": [
              "\n",
              "  <div id=\"df-95513d06-7cef-4484-a960-ab821d09e924\">\n",
              "    <div class=\"colab-df-container\">\n",
              "      <div>\n",
              "<style scoped>\n",
              "    .dataframe tbody tr th:only-of-type {\n",
              "        vertical-align: middle;\n",
              "    }\n",
              "\n",
              "    .dataframe tbody tr th {\n",
              "        vertical-align: top;\n",
              "    }\n",
              "\n",
              "    .dataframe thead th {\n",
              "        text-align: right;\n",
              "    }\n",
              "</style>\n",
              "<table border=\"1\" class=\"dataframe\">\n",
              "  <thead>\n",
              "    <tr style=\"text-align: right;\">\n",
              "      <th></th>\n",
              "      <th>Facies</th>\n",
              "      <th>Formation</th>\n",
              "      <th>Well Name</th>\n",
              "      <th>Depth</th>\n",
              "      <th>GR</th>\n",
              "      <th>ILD_log10</th>\n",
              "      <th>DeltaPHI</th>\n",
              "      <th>PHIND</th>\n",
              "      <th>PE</th>\n",
              "      <th>NM_M</th>\n",
              "      <th>RELPOS</th>\n",
              "    </tr>\n",
              "  </thead>\n",
              "  <tbody>\n",
              "    <tr>\n",
              "      <th>2322</th>\n",
              "      <td>9</td>\n",
              "      <td>B2 LM</td>\n",
              "      <td>Recruit F9</td>\n",
              "      <td>3013.0</td>\n",
              "      <td>32.188</td>\n",
              "      <td>0.821</td>\n",
              "      <td>-1.42</td>\n",
              "      <td>9.721</td>\n",
              "      <td>4.961</td>\n",
              "      <td>2</td>\n",
              "      <td>0.600</td>\n",
              "    </tr>\n",
              "    <tr>\n",
              "      <th>283</th>\n",
              "      <td>3</td>\n",
              "      <td>B5 SH</td>\n",
              "      <td>SHRIMPLIN</td>\n",
              "      <td>2934.5</td>\n",
              "      <td>100.170</td>\n",
              "      <td>0.391</td>\n",
              "      <td>11.60</td>\n",
              "      <td>18.110</td>\n",
              "      <td>3.200</td>\n",
              "      <td>1</td>\n",
              "      <td>0.471</td>\n",
              "    </tr>\n",
              "    <tr>\n",
              "      <th>2374</th>\n",
              "      <td>3</td>\n",
              "      <td>A1 SH</td>\n",
              "      <td>NEWBY</td>\n",
              "      <td>2830.5</td>\n",
              "      <td>67.330</td>\n",
              "      <td>0.719</td>\n",
              "      <td>7.30</td>\n",
              "      <td>10.750</td>\n",
              "      <td>3.400</td>\n",
              "      <td>1</td>\n",
              "      <td>0.791</td>\n",
              "    </tr>\n",
              "    <tr>\n",
              "      <th>424</th>\n",
              "      <td>5</td>\n",
              "      <td>C LM</td>\n",
              "      <td>SHRIMPLIN</td>\n",
              "      <td>3005.0</td>\n",
              "      <td>52.630</td>\n",
              "      <td>0.942</td>\n",
              "      <td>7.60</td>\n",
              "      <td>7.840</td>\n",
              "      <td>5.000</td>\n",
              "      <td>2</td>\n",
              "      <td>0.461</td>\n",
              "    </tr>\n",
              "    <tr>\n",
              "      <th>1294</th>\n",
              "      <td>2</td>\n",
              "      <td>C SH</td>\n",
              "      <td>LUKE G U</td>\n",
              "      <td>2797.5</td>\n",
              "      <td>72.140</td>\n",
              "      <td>0.549</td>\n",
              "      <td>13.90</td>\n",
              "      <td>13.050</td>\n",
              "      <td>3.400</td>\n",
              "      <td>1</td>\n",
              "      <td>0.439</td>\n",
              "    </tr>\n",
              "    <tr>\n",
              "      <th>312</th>\n",
              "      <td>3</td>\n",
              "      <td>C SH</td>\n",
              "      <td>SHRIMPLIN</td>\n",
              "      <td>2949.0</td>\n",
              "      <td>127.250</td>\n",
              "      <td>0.519</td>\n",
              "      <td>7.50</td>\n",
              "      <td>17.585</td>\n",
              "      <td>3.600</td>\n",
              "      <td>1</td>\n",
              "      <td>0.982</td>\n",
              "    </tr>\n",
              "    <tr>\n",
              "      <th>2518</th>\n",
              "      <td>2</td>\n",
              "      <td>B1 SH</td>\n",
              "      <td>NEWBY</td>\n",
              "      <td>2902.5</td>\n",
              "      <td>63.970</td>\n",
              "      <td>0.632</td>\n",
              "      <td>0.40</td>\n",
              "      <td>19.400</td>\n",
              "      <td>3.100</td>\n",
              "      <td>1</td>\n",
              "      <td>0.097</td>\n",
              "    </tr>\n",
              "    <tr>\n",
              "      <th>873</th>\n",
              "      <td>6</td>\n",
              "      <td>C LM</td>\n",
              "      <td>SHANKLE</td>\n",
              "      <td>2985.0</td>\n",
              "      <td>39.550</td>\n",
              "      <td>0.792</td>\n",
              "      <td>1.90</td>\n",
              "      <td>8.035</td>\n",
              "      <td>3.300</td>\n",
              "      <td>2</td>\n",
              "      <td>0.672</td>\n",
              "    </tr>\n",
              "    <tr>\n",
              "      <th>931</th>\n",
              "      <td>2</td>\n",
              "      <td>A1 SH</td>\n",
              "      <td>LUKE G U</td>\n",
              "      <td>2616.0</td>\n",
              "      <td>73.650</td>\n",
              "      <td>0.675</td>\n",
              "      <td>6.30</td>\n",
              "      <td>10.650</td>\n",
              "      <td>3.500</td>\n",
              "      <td>1</td>\n",
              "      <td>0.792</td>\n",
              "    </tr>\n",
              "    <tr>\n",
              "      <th>1</th>\n",
              "      <td>3</td>\n",
              "      <td>A1 SH</td>\n",
              "      <td>SHRIMPLIN</td>\n",
              "      <td>2793.5</td>\n",
              "      <td>78.260</td>\n",
              "      <td>0.661</td>\n",
              "      <td>14.20</td>\n",
              "      <td>12.565</td>\n",
              "      <td>4.100</td>\n",
              "      <td>1</td>\n",
              "      <td>0.979</td>\n",
              "    </tr>\n",
              "  </tbody>\n",
              "</table>\n",
              "</div>\n",
              "      <button class=\"colab-df-convert\" onclick=\"convertToInteractive('df-95513d06-7cef-4484-a960-ab821d09e924')\"\n",
              "              title=\"Convert this dataframe to an interactive table.\"\n",
              "              style=\"display:none;\">\n",
              "        \n",
              "  <svg xmlns=\"http://www.w3.org/2000/svg\" height=\"24px\"viewBox=\"0 0 24 24\"\n",
              "       width=\"24px\">\n",
              "    <path d=\"M0 0h24v24H0V0z\" fill=\"none\"/>\n",
              "    <path d=\"M18.56 5.44l.94 2.06.94-2.06 2.06-.94-2.06-.94-.94-2.06-.94 2.06-2.06.94zm-11 1L8.5 8.5l.94-2.06 2.06-.94-2.06-.94L8.5 2.5l-.94 2.06-2.06.94zm10 10l.94 2.06.94-2.06 2.06-.94-2.06-.94-.94-2.06-.94 2.06-2.06.94z\"/><path d=\"M17.41 7.96l-1.37-1.37c-.4-.4-.92-.59-1.43-.59-.52 0-1.04.2-1.43.59L10.3 9.45l-7.72 7.72c-.78.78-.78 2.05 0 2.83L4 21.41c.39.39.9.59 1.41.59.51 0 1.02-.2 1.41-.59l7.78-7.78 2.81-2.81c.8-.78.8-2.07 0-2.86zM5.41 20L4 18.59l7.72-7.72 1.47 1.35L5.41 20z\"/>\n",
              "  </svg>\n",
              "      </button>\n",
              "      \n",
              "  <style>\n",
              "    .colab-df-container {\n",
              "      display:flex;\n",
              "      flex-wrap:wrap;\n",
              "      gap: 12px;\n",
              "    }\n",
              "\n",
              "    .colab-df-convert {\n",
              "      background-color: #E8F0FE;\n",
              "      border: none;\n",
              "      border-radius: 50%;\n",
              "      cursor: pointer;\n",
              "      display: none;\n",
              "      fill: #1967D2;\n",
              "      height: 32px;\n",
              "      padding: 0 0 0 0;\n",
              "      width: 32px;\n",
              "    }\n",
              "\n",
              "    .colab-df-convert:hover {\n",
              "      background-color: #E2EBFA;\n",
              "      box-shadow: 0px 1px 2px rgba(60, 64, 67, 0.3), 0px 1px 3px 1px rgba(60, 64, 67, 0.15);\n",
              "      fill: #174EA6;\n",
              "    }\n",
              "\n",
              "    [theme=dark] .colab-df-convert {\n",
              "      background-color: #3B4455;\n",
              "      fill: #D2E3FC;\n",
              "    }\n",
              "\n",
              "    [theme=dark] .colab-df-convert:hover {\n",
              "      background-color: #434B5C;\n",
              "      box-shadow: 0px 1px 3px 1px rgba(0, 0, 0, 0.15);\n",
              "      filter: drop-shadow(0px 1px 2px rgba(0, 0, 0, 0.3));\n",
              "      fill: #FFFFFF;\n",
              "    }\n",
              "  </style>\n",
              "\n",
              "      <script>\n",
              "        const buttonEl =\n",
              "          document.querySelector('#df-95513d06-7cef-4484-a960-ab821d09e924 button.colab-df-convert');\n",
              "        buttonEl.style.display =\n",
              "          google.colab.kernel.accessAllowed ? 'block' : 'none';\n",
              "\n",
              "        async function convertToInteractive(key) {\n",
              "          const element = document.querySelector('#df-95513d06-7cef-4484-a960-ab821d09e924');\n",
              "          const dataTable =\n",
              "            await google.colab.kernel.invokeFunction('convertToInteractive',\n",
              "                                                     [key], {});\n",
              "          if (!dataTable) return;\n",
              "\n",
              "          const docLinkHtml = 'Like what you see? Visit the ' +\n",
              "            '<a target=\"_blank\" href=https://colab.research.google.com/notebooks/data_table.ipynb>data table notebook</a>'\n",
              "            + ' to learn more about interactive tables.';\n",
              "          element.innerHTML = '';\n",
              "          dataTable['output_type'] = 'display_data';\n",
              "          await google.colab.output.renderOutput(dataTable, element);\n",
              "          const docLink = document.createElement('div');\n",
              "          docLink.innerHTML = docLinkHtml;\n",
              "          element.appendChild(docLink);\n",
              "        }\n",
              "      </script>\n",
              "    </div>\n",
              "  </div>\n",
              "  "
            ]
          },
          "metadata": {},
          "execution_count": 5
        }
      ]
    },
    {
      "cell_type": "markdown",
      "source": [
        "The data set contains log data from nine wells in the Panoma Field (Reservior: Council Grove gas reservoir, Southwest Kansas). The log data have been labeled with the corresponding facies type. This makes it a `Supervised Learning` problem since the prediction target (Facies) is included in the dataset for model training."
      ],
      "metadata": {
        "id": "HDkCMb3ivXQE"
      }
    },
    {
      "cell_type": "code",
      "source": [
        "# Get the dimension of the data points in the dataset\n",
        "facies_data.shape"
      ],
      "metadata": {
        "colab": {
          "base_uri": "https://localhost:8080/"
        },
        "id": "xs_IK4L9B6By",
        "outputId": "ee2db0cc-a006-4272-cab1-3a4c85303ec4"
      },
      "execution_count": null,
      "outputs": [
        {
          "output_type": "execute_result",
          "data": {
            "text/plain": [
              "(3232, 11)"
            ]
          },
          "metadata": {},
          "execution_count": 6
        }
      ]
    },
    {
      "cell_type": "code",
      "source": [
        "# See information on data set\n",
        "facies_data.info()"
      ],
      "metadata": {
        "id": "o8HhEdN9PCSp",
        "colab": {
          "base_uri": "https://localhost:8080/"
        },
        "outputId": "20eb957e-de10-453c-9762-557ab6a78bb7"
      },
      "execution_count": null,
      "outputs": [
        {
          "output_type": "stream",
          "name": "stdout",
          "text": [
            "<class 'pandas.core.frame.DataFrame'>\n",
            "RangeIndex: 3232 entries, 0 to 3231\n",
            "Data columns (total 11 columns):\n",
            " #   Column     Non-Null Count  Dtype  \n",
            "---  ------     --------------  -----  \n",
            " 0   Facies     3232 non-null   int64  \n",
            " 1   Formation  3232 non-null   object \n",
            " 2   Well Name  3232 non-null   object \n",
            " 3   Depth      3232 non-null   float64\n",
            " 4   GR         3232 non-null   float64\n",
            " 5   ILD_log10  3232 non-null   float64\n",
            " 6   DeltaPHI   3232 non-null   float64\n",
            " 7   PHIND      3232 non-null   float64\n",
            " 8   PE         3232 non-null   float64\n",
            " 9   NM_M       3232 non-null   int64  \n",
            " 10  RELPOS     3232 non-null   float64\n",
            "dtypes: float64(7), int64(2), object(2)\n",
            "memory usage: 277.9+ KB\n"
          ]
        }
      ]
    },
    {
      "cell_type": "markdown",
      "source": [
        "The data set is made up of 11 columns with `3232 data points` (referred to as instances going forward). The columns are described as follows:\n",
        "\n",
        "`Facies`: This is the target of the Machine Learning (ML) prediction. It is of integer data type because the different facies classes present in this dataset have been represented with numbers. \n",
        "\n",
        "The rest of the columns are potential training Features. Their suitability for model training will be determined based on observation after exploring and analyzing the data set.\n",
        "\n",
        "`Formation`: The formation from which the data point was recorded. It is of object data type which has high memory usage and can slow down data processing during model training and inference.\n",
        "\n",
        "`Well Name`: Indicates the well from which each data point was recorded. Also of Object data type.\n",
        "\n",
        "`Depth`: The data points were measured at half-foot depth intervals\n",
        "\n",
        "`GR`, `ILD_log10`, `DeltaPHI`, `PHIND`, `PE`: Represent wireline log measurements - gamma ray, resistivity logging,  neutron-density porosity, average neutron-density porosity, and photoelectric effect respectively.\n",
        "\n",
        "`NM_M` and `RELPOS`: These are geologic constraining variables.\n",
        "\n",
        "From information in the literature published [here](https://library.seg.org/doi/10.1190/tle35100906.1), the five wireline log measurements and two geologic constraining variables are the parameters usually required for classifying Facies through manual human analysis. "
      ],
      "metadata": {
        "id": "38bIEOq-39yE"
      }
    },
    {
      "cell_type": "code",
      "source": [
        "# Check memory usage\n",
        "facies_data.memory_usage()"
      ],
      "metadata": {
        "id": "mUVg44-w5gWJ",
        "colab": {
          "base_uri": "https://localhost:8080/"
        },
        "outputId": "cd8f2abb-c25c-4aab-a947-4e7203ebfd57"
      },
      "execution_count": null,
      "outputs": [
        {
          "output_type": "execute_result",
          "data": {
            "text/plain": [
              "Index          128\n",
              "Facies       25856\n",
              "Formation    25856\n",
              "Well Name    25856\n",
              "Depth        25856\n",
              "GR           25856\n",
              "ILD_log10    25856\n",
              "DeltaPHI     25856\n",
              "PHIND        25856\n",
              "PE           25856\n",
              "NM_M         25856\n",
              "RELPOS       25856\n",
              "dtype: int64"
            ]
          },
          "metadata": {},
          "execution_count": 8
        }
      ]
    },
    {
      "cell_type": "markdown",
      "source": [
        "The memory usage of each column is measured in bytes. For this dataset, the total memory usage is 277.9+ KB, relatively small when compared to large datasets that take a lot of time to train. Training of algorithms on this dataset will be relatively fast (even with the neural networks)."
      ],
      "metadata": {
        "id": "PHRsL9ymDEd9"
      }
    },
    {
      "cell_type": "code",
      "source": [
        "facies_data['Well Name'].unique()"
      ],
      "metadata": {
        "colab": {
          "base_uri": "https://localhost:8080/"
        },
        "id": "N0DpPctJVlJp",
        "outputId": "c7bdc423-7412-450e-fdb2-3c19822d65dd"
      },
      "execution_count": null,
      "outputs": [
        {
          "output_type": "execute_result",
          "data": {
            "text/plain": [
              "['SHRIMPLIN', 'SHANKLE', 'LUKE G U', 'CROSS H CATTLE', 'NOLAN', 'Recruit F9', 'NEWBY', 'CHURCHMAN BIBLE']\n",
              "Categories (8, object): ['CHURCHMAN BIBLE', 'CROSS H CATTLE', 'LUKE G U', 'NEWBY', 'NOLAN', 'Recruit F9',\n",
              "                         'SHANKLE', 'SHRIMPLIN']"
            ]
          },
          "metadata": {},
          "execution_count": 11
        }
      ]
    },
    {
      "cell_type": "code",
      "source": [
        "facies_data['Formation'].unique()"
      ],
      "metadata": {
        "colab": {
          "base_uri": "https://localhost:8080/"
        },
        "id": "UHMUnXMuVoVK",
        "outputId": "8ac5633c-9dac-4a02-febd-d6dfda7dfc2b"
      },
      "execution_count": null,
      "outputs": [
        {
          "output_type": "execute_result",
          "data": {
            "text/plain": [
              "['A1 SH', 'A1 LM', 'B1 SH', 'B1 LM', 'B2 SH', ..., 'B4 LM', 'B5 SH', 'B5 LM', 'C SH', 'C LM']\n",
              "Length: 14\n",
              "Categories (14, object): ['A1 LM', 'A1 SH', 'B1 LM', 'B1 SH', ..., 'B5 LM', 'B5 SH', 'C LM', 'C SH']"
            ]
          },
          "metadata": {},
          "execution_count": 12
        }
      ]
    },
    {
      "cell_type": "code",
      "source": [
        "facies_data['Facies'].unique()"
      ],
      "metadata": {
        "colab": {
          "base_uri": "https://localhost:8080/"
        },
        "id": "GA050XdiVojq",
        "outputId": "4e937615-d6f7-4543-93b3-a0f83e09671a"
      },
      "execution_count": null,
      "outputs": [
        {
          "output_type": "execute_result",
          "data": {
            "text/plain": [
              "array([3, 2, 8, 6, 7, 4, 5, 9, 1], dtype=object)"
            ]
          },
          "metadata": {},
          "execution_count": 13
        }
      ]
    },
    {
      "cell_type": "markdown",
      "source": [
        "There are 9 classes in the Target label `Facies` column. The Facies classes represented with the numbers 1-9 are ennumerated below:\n",
        "\n",
        "| Target Label | Facies Name                                 | Adjacent Facies |\n",
        "|:------------:|:-------------------------------------------:|:---------------:|\n",
        "| 1            | Nonmarine sandstone (SS)                    | 2               |\n",
        "| 2            | Nonmarine coarse siltstone [CSiS]           | 1,3             |\n",
        "| 3            | Nonmarine fine siltstone [FSiS]             | 2               |\n",
        "| 4            | Marine siltstone and shale [SiSh]           | 5               |\n",
        "| 5            | Mudstone (limestone) [MS]                   | 4,6             |\n",
        "| 6            | Wackestone (limestone) [WS]                 | 5,7             |\n",
        "| 7            | Dolomite [D]                                | 6,8             |\n",
        "| 8            | Packstone-grainstone (limestone) [PS]       | 6,7,9           |\n",
        "| 9            | Phylloid-algal bafflestone (limestone) [BS] | 7,8             |\n",
        "|              |                                             |                 |\n",
        "\n",
        "\n",
        "In the formation the facies aren't discrete but rather blend into one another gradually. Some have adjacent facies that are rather close as shown in the table above. Mislabeling within these neighboring facies can be expected to occur and will be taken into consideration during model training."
      ],
      "metadata": {
        "id": "XPpi4-ge6QOx"
      }
    },
    {
      "cell_type": "markdown",
      "source": [
        "## Exploratory Data Analysis (EDA)"
      ],
      "metadata": {
        "id": "xkzgQn0Zgjp8"
      }
    },
    {
      "cell_type": "code",
      "source": [
        "# Check for missing values\n",
        "facies_data.isnull().sum()"
      ],
      "metadata": {
        "id": "xpdVh9qWem0m",
        "colab": {
          "base_uri": "https://localhost:8080/"
        },
        "outputId": "45c1ad06-6340-42a1-f7f1-8361eba8e032"
      },
      "execution_count": null,
      "outputs": [
        {
          "output_type": "execute_result",
          "data": {
            "text/plain": [
              "Facies       0\n",
              "Formation    0\n",
              "Well Name    0\n",
              "Depth        0\n",
              "GR           0\n",
              "ILD_log10    0\n",
              "DeltaPHI     0\n",
              "PHIND        0\n",
              "PE           0\n",
              "NM_M         0\n",
              "RELPOS       0\n",
              "dtype: int64"
            ]
          },
          "metadata": {},
          "execution_count": 239
        }
      ]
    },
    {
      "cell_type": "markdown",
      "source": [
        "No missing data points."
      ],
      "metadata": {
        "id": "7ZwNzulj7IB6"
      }
    },
    {
      "cell_type": "code",
      "source": [
        "# Get a statistical description of numerical data\n",
        "facies_data.describe()"
      ],
      "metadata": {
        "id": "-ysOO0-6grfc",
        "colab": {
          "base_uri": "https://localhost:8080/",
          "height": 300
        },
        "outputId": "9a73fdda-2c4e-48d9-a0b5-2c3a19e113e3"
      },
      "execution_count": null,
      "outputs": [
        {
          "output_type": "execute_result",
          "data": {
            "text/plain": [
              "             Depth           GR    ILD_log10     DeltaPHI        PHIND  \\\n",
              "count  3232.000000  3232.000000  3232.000000  3232.000000  3232.000000   \n",
              "mean   2875.824567    66.135769     0.642719     3.559642    13.483213   \n",
              "std     131.006274    30.854826     0.241845     5.228948     7.698980   \n",
              "min    2573.500000    13.250000    -0.025949   -21.832000     0.550000   \n",
              "25%    2791.000000    46.918750     0.492750     1.163750     8.346750   \n",
              "50%    2893.500000    65.721500     0.624437     3.500000    12.150000   \n",
              "75%    2980.000000    79.626250     0.812735     6.432500    16.453750   \n",
              "max    3122.500000   361.150000     1.480000    18.600000    84.400000   \n",
              "\n",
              "                PE         NM_M       RELPOS  \n",
              "count  3232.000000  3232.000000  3232.000000  \n",
              "mean      3.725014     1.498453     0.520287  \n",
              "std       0.896152     0.500075     0.286792  \n",
              "min       0.200000     1.000000     0.010000  \n",
              "25%       3.100000     1.000000     0.273000  \n",
              "50%       3.551500     1.000000     0.526000  \n",
              "75%       4.300000     2.000000     0.767250  \n",
              "max       8.094000     2.000000     1.000000  "
            ],
            "text/html": [
              "\n",
              "  <div id=\"df-b96e572c-7a22-4ed0-82fb-67171a054af6\">\n",
              "    <div class=\"colab-df-container\">\n",
              "      <div>\n",
              "<style scoped>\n",
              "    .dataframe tbody tr th:only-of-type {\n",
              "        vertical-align: middle;\n",
              "    }\n",
              "\n",
              "    .dataframe tbody tr th {\n",
              "        vertical-align: top;\n",
              "    }\n",
              "\n",
              "    .dataframe thead th {\n",
              "        text-align: right;\n",
              "    }\n",
              "</style>\n",
              "<table border=\"1\" class=\"dataframe\">\n",
              "  <thead>\n",
              "    <tr style=\"text-align: right;\">\n",
              "      <th></th>\n",
              "      <th>Depth</th>\n",
              "      <th>GR</th>\n",
              "      <th>ILD_log10</th>\n",
              "      <th>DeltaPHI</th>\n",
              "      <th>PHIND</th>\n",
              "      <th>PE</th>\n",
              "      <th>NM_M</th>\n",
              "      <th>RELPOS</th>\n",
              "    </tr>\n",
              "  </thead>\n",
              "  <tbody>\n",
              "    <tr>\n",
              "      <th>count</th>\n",
              "      <td>3232.000000</td>\n",
              "      <td>3232.000000</td>\n",
              "      <td>3232.000000</td>\n",
              "      <td>3232.000000</td>\n",
              "      <td>3232.000000</td>\n",
              "      <td>3232.000000</td>\n",
              "      <td>3232.000000</td>\n",
              "      <td>3232.000000</td>\n",
              "    </tr>\n",
              "    <tr>\n",
              "      <th>mean</th>\n",
              "      <td>2875.824567</td>\n",
              "      <td>66.135769</td>\n",
              "      <td>0.642719</td>\n",
              "      <td>3.559642</td>\n",
              "      <td>13.483213</td>\n",
              "      <td>3.725014</td>\n",
              "      <td>1.498453</td>\n",
              "      <td>0.520287</td>\n",
              "    </tr>\n",
              "    <tr>\n",
              "      <th>std</th>\n",
              "      <td>131.006274</td>\n",
              "      <td>30.854826</td>\n",
              "      <td>0.241845</td>\n",
              "      <td>5.228948</td>\n",
              "      <td>7.698980</td>\n",
              "      <td>0.896152</td>\n",
              "      <td>0.500075</td>\n",
              "      <td>0.286792</td>\n",
              "    </tr>\n",
              "    <tr>\n",
              "      <th>min</th>\n",
              "      <td>2573.500000</td>\n",
              "      <td>13.250000</td>\n",
              "      <td>-0.025949</td>\n",
              "      <td>-21.832000</td>\n",
              "      <td>0.550000</td>\n",
              "      <td>0.200000</td>\n",
              "      <td>1.000000</td>\n",
              "      <td>0.010000</td>\n",
              "    </tr>\n",
              "    <tr>\n",
              "      <th>25%</th>\n",
              "      <td>2791.000000</td>\n",
              "      <td>46.918750</td>\n",
              "      <td>0.492750</td>\n",
              "      <td>1.163750</td>\n",
              "      <td>8.346750</td>\n",
              "      <td>3.100000</td>\n",
              "      <td>1.000000</td>\n",
              "      <td>0.273000</td>\n",
              "    </tr>\n",
              "    <tr>\n",
              "      <th>50%</th>\n",
              "      <td>2893.500000</td>\n",
              "      <td>65.721500</td>\n",
              "      <td>0.624437</td>\n",
              "      <td>3.500000</td>\n",
              "      <td>12.150000</td>\n",
              "      <td>3.551500</td>\n",
              "      <td>1.000000</td>\n",
              "      <td>0.526000</td>\n",
              "    </tr>\n",
              "    <tr>\n",
              "      <th>75%</th>\n",
              "      <td>2980.000000</td>\n",
              "      <td>79.626250</td>\n",
              "      <td>0.812735</td>\n",
              "      <td>6.432500</td>\n",
              "      <td>16.453750</td>\n",
              "      <td>4.300000</td>\n",
              "      <td>2.000000</td>\n",
              "      <td>0.767250</td>\n",
              "    </tr>\n",
              "    <tr>\n",
              "      <th>max</th>\n",
              "      <td>3122.500000</td>\n",
              "      <td>361.150000</td>\n",
              "      <td>1.480000</td>\n",
              "      <td>18.600000</td>\n",
              "      <td>84.400000</td>\n",
              "      <td>8.094000</td>\n",
              "      <td>2.000000</td>\n",
              "      <td>1.000000</td>\n",
              "    </tr>\n",
              "  </tbody>\n",
              "</table>\n",
              "</div>\n",
              "      <button class=\"colab-df-convert\" onclick=\"convertToInteractive('df-b96e572c-7a22-4ed0-82fb-67171a054af6')\"\n",
              "              title=\"Convert this dataframe to an interactive table.\"\n",
              "              style=\"display:none;\">\n",
              "        \n",
              "  <svg xmlns=\"http://www.w3.org/2000/svg\" height=\"24px\"viewBox=\"0 0 24 24\"\n",
              "       width=\"24px\">\n",
              "    <path d=\"M0 0h24v24H0V0z\" fill=\"none\"/>\n",
              "    <path d=\"M18.56 5.44l.94 2.06.94-2.06 2.06-.94-2.06-.94-.94-2.06-.94 2.06-2.06.94zm-11 1L8.5 8.5l.94-2.06 2.06-.94-2.06-.94L8.5 2.5l-.94 2.06-2.06.94zm10 10l.94 2.06.94-2.06 2.06-.94-2.06-.94-.94-2.06-.94 2.06-2.06.94z\"/><path d=\"M17.41 7.96l-1.37-1.37c-.4-.4-.92-.59-1.43-.59-.52 0-1.04.2-1.43.59L10.3 9.45l-7.72 7.72c-.78.78-.78 2.05 0 2.83L4 21.41c.39.39.9.59 1.41.59.51 0 1.02-.2 1.41-.59l7.78-7.78 2.81-2.81c.8-.78.8-2.07 0-2.86zM5.41 20L4 18.59l7.72-7.72 1.47 1.35L5.41 20z\"/>\n",
              "  </svg>\n",
              "      </button>\n",
              "      \n",
              "  <style>\n",
              "    .colab-df-container {\n",
              "      display:flex;\n",
              "      flex-wrap:wrap;\n",
              "      gap: 12px;\n",
              "    }\n",
              "\n",
              "    .colab-df-convert {\n",
              "      background-color: #E8F0FE;\n",
              "      border: none;\n",
              "      border-radius: 50%;\n",
              "      cursor: pointer;\n",
              "      display: none;\n",
              "      fill: #1967D2;\n",
              "      height: 32px;\n",
              "      padding: 0 0 0 0;\n",
              "      width: 32px;\n",
              "    }\n",
              "\n",
              "    .colab-df-convert:hover {\n",
              "      background-color: #E2EBFA;\n",
              "      box-shadow: 0px 1px 2px rgba(60, 64, 67, 0.3), 0px 1px 3px 1px rgba(60, 64, 67, 0.15);\n",
              "      fill: #174EA6;\n",
              "    }\n",
              "\n",
              "    [theme=dark] .colab-df-convert {\n",
              "      background-color: #3B4455;\n",
              "      fill: #D2E3FC;\n",
              "    }\n",
              "\n",
              "    [theme=dark] .colab-df-convert:hover {\n",
              "      background-color: #434B5C;\n",
              "      box-shadow: 0px 1px 3px 1px rgba(0, 0, 0, 0.15);\n",
              "      filter: drop-shadow(0px 1px 2px rgba(0, 0, 0, 0.3));\n",
              "      fill: #FFFFFF;\n",
              "    }\n",
              "  </style>\n",
              "\n",
              "      <script>\n",
              "        const buttonEl =\n",
              "          document.querySelector('#df-b96e572c-7a22-4ed0-82fb-67171a054af6 button.colab-df-convert');\n",
              "        buttonEl.style.display =\n",
              "          google.colab.kernel.accessAllowed ? 'block' : 'none';\n",
              "\n",
              "        async function convertToInteractive(key) {\n",
              "          const element = document.querySelector('#df-b96e572c-7a22-4ed0-82fb-67171a054af6');\n",
              "          const dataTable =\n",
              "            await google.colab.kernel.invokeFunction('convertToInteractive',\n",
              "                                                     [key], {});\n",
              "          if (!dataTable) return;\n",
              "\n",
              "          const docLinkHtml = 'Like what you see? Visit the ' +\n",
              "            '<a target=\"_blank\" href=https://colab.research.google.com/notebooks/data_table.ipynb>data table notebook</a>'\n",
              "            + ' to learn more about interactive tables.';\n",
              "          element.innerHTML = '';\n",
              "          dataTable['output_type'] = 'display_data';\n",
              "          await google.colab.output.renderOutput(dataTable, element);\n",
              "          const docLink = document.createElement('div');\n",
              "          docLink.innerHTML = docLinkHtml;\n",
              "          element.appendChild(docLink);\n",
              "        }\n",
              "      </script>\n",
              "    </div>\n",
              "  </div>\n",
              "  "
            ]
          },
          "metadata": {},
          "execution_count": 5
        }
      ]
    },
    {
      "cell_type": "markdown",
      "source": [
        "The statistical description above shows that the features of the data set are not normally distributed (i.e. Gausian distribution with mean=0 & standard deviation=1). This may affect model training negatively as the deep learning and logistic regression algorithms to be used in this notebook require the data to be normally distributed. I'll do a visualization of the data distribution confirm."
      ],
      "metadata": {
        "id": "WILBHFl7hcAG"
      }
    },
    {
      "cell_type": "code",
      "source": [
        "facies_data.hist(figsize=(12, 10), bins=50);\n",
        "\n",
        "plt.show()"
      ],
      "metadata": {
        "id": "xKfYVh8BgEDG",
        "colab": {
          "base_uri": "https://localhost:8080/",
          "height": 607
        },
        "outputId": "f87bc6b1-21d9-4150-de2a-91b7e1dc28ef"
      },
      "execution_count": null,
      "outputs": [
        {
          "output_type": "display_data",
          "data": {
            "text/plain": [
              "<Figure size 864x720 with 9 Axes>"
            ],
            "image/png": "[encoded data removed]"
          },
          "metadata": {
            "needs_background": "light"
          }
        }
      ]
    },
    {
      "cell_type": "markdown",
      "source": [
        "The distribution plots of the different features shows that the data points are not normally ditributed and will therefore be normalized in the data preprocessing section."
      ],
      "metadata": {
        "id": "CR7mQc3E3_BK"
      }
    },
    {
      "cell_type": "code",
      "source": [
        "# Get Description of the categorical data\n",
        "facies_data.describe(include=object)"
      ],
      "metadata": {
        "id": "GVOESkoNg-ee",
        "colab": {
          "base_uri": "https://localhost:8080/",
          "height": 175
        },
        "outputId": "12c3e6ac-f204-411c-9b4b-ff457bc256f5"
      },
      "execution_count": null,
      "outputs": [
        {
          "output_type": "execute_result",
          "data": {
            "text/plain": [
              "        Facies Formation       Well Name\n",
              "count     3232      3232            3232\n",
              "unique       9        14               8\n",
              "top          2      C LM  CROSS H CATTLE\n",
              "freq       738       483             501"
            ],
            "text/html": [
              "\n",
              "  <div id=\"df-6bfa9f38-ac35-4e21-b848-75207ba7f2ec\">\n",
              "    <div class=\"colab-df-container\">\n",
              "      <div>\n",
              "<style scoped>\n",
              "    .dataframe tbody tr th:only-of-type {\n",
              "        vertical-align: middle;\n",
              "    }\n",
              "\n",
              "    .dataframe tbody tr th {\n",
              "        vertical-align: top;\n",
              "    }\n",
              "\n",
              "    .dataframe thead th {\n",
              "        text-align: right;\n",
              "    }\n",
              "</style>\n",
              "<table border=\"1\" class=\"dataframe\">\n",
              "  <thead>\n",
              "    <tr style=\"text-align: right;\">\n",
              "      <th></th>\n",
              "      <th>Facies</th>\n",
              "      <th>Formation</th>\n",
              "      <th>Well Name</th>\n",
              "    </tr>\n",
              "  </thead>\n",
              "  <tbody>\n",
              "    <tr>\n",
              "      <th>count</th>\n",
              "      <td>3232</td>\n",
              "      <td>3232</td>\n",
              "      <td>3232</td>\n",
              "    </tr>\n",
              "    <tr>\n",
              "      <th>unique</th>\n",
              "      <td>9</td>\n",
              "      <td>14</td>\n",
              "      <td>8</td>\n",
              "    </tr>\n",
              "    <tr>\n",
              "      <th>top</th>\n",
              "      <td>2</td>\n",
              "      <td>C LM</td>\n",
              "      <td>CROSS H CATTLE</td>\n",
              "    </tr>\n",
              "    <tr>\n",
              "      <th>freq</th>\n",
              "      <td>738</td>\n",
              "      <td>483</td>\n",
              "      <td>501</td>\n",
              "    </tr>\n",
              "  </tbody>\n",
              "</table>\n",
              "</div>\n",
              "      <button class=\"colab-df-convert\" onclick=\"convertToInteractive('df-6bfa9f38-ac35-4e21-b848-75207ba7f2ec')\"\n",
              "              title=\"Convert this dataframe to an interactive table.\"\n",
              "              style=\"display:none;\">\n",
              "        \n",
              "  <svg xmlns=\"http://www.w3.org/2000/svg\" height=\"24px\"viewBox=\"0 0 24 24\"\n",
              "       width=\"24px\">\n",
              "    <path d=\"M0 0h24v24H0V0z\" fill=\"none\"/>\n",
              "    <path d=\"M18.56 5.44l.94 2.06.94-2.06 2.06-.94-2.06-.94-.94-2.06-.94 2.06-2.06.94zm-11 1L8.5 8.5l.94-2.06 2.06-.94-2.06-.94L8.5 2.5l-.94 2.06-2.06.94zm10 10l.94 2.06.94-2.06 2.06-.94-2.06-.94-.94-2.06-.94 2.06-2.06.94z\"/><path d=\"M17.41 7.96l-1.37-1.37c-.4-.4-.92-.59-1.43-.59-.52 0-1.04.2-1.43.59L10.3 9.45l-7.72 7.72c-.78.78-.78 2.05 0 2.83L4 21.41c.39.39.9.59 1.41.59.51 0 1.02-.2 1.41-.59l7.78-7.78 2.81-2.81c.8-.78.8-2.07 0-2.86zM5.41 20L4 18.59l7.72-7.72 1.47 1.35L5.41 20z\"/>\n",
              "  </svg>\n",
              "      </button>\n",
              "      \n",
              "  <style>\n",
              "    .colab-df-container {\n",
              "      display:flex;\n",
              "      flex-wrap:wrap;\n",
              "      gap: 12px;\n",
              "    }\n",
              "\n",
              "    .colab-df-convert {\n",
              "      background-color: #E8F0FE;\n",
              "      border: none;\n",
              "      border-radius: 50%;\n",
              "      cursor: pointer;\n",
              "      display: none;\n",
              "      fill: #1967D2;\n",
              "      height: 32px;\n",
              "      padding: 0 0 0 0;\n",
              "      width: 32px;\n",
              "    }\n",
              "\n",
              "    .colab-df-convert:hover {\n",
              "      background-color: #E2EBFA;\n",
              "      box-shadow: 0px 1px 2px rgba(60, 64, 67, 0.3), 0px 1px 3px 1px rgba(60, 64, 67, 0.15);\n",
              "      fill: #174EA6;\n",
              "    }\n",
              "\n",
              "    [theme=dark] .colab-df-convert {\n",
              "      background-color: #3B4455;\n",
              "      fill: #D2E3FC;\n",
              "    }\n",
              "\n",
              "    [theme=dark] .colab-df-convert:hover {\n",
              "      background-color: #434B5C;\n",
              "      box-shadow: 0px 1px 3px 1px rgba(0, 0, 0, 0.15);\n",
              "      filter: drop-shadow(0px 1px 2px rgba(0, 0, 0, 0.3));\n",
              "      fill: #FFFFFF;\n",
              "    }\n",
              "  </style>\n",
              "\n",
              "      <script>\n",
              "        const buttonEl =\n",
              "          document.querySelector('#df-6bfa9f38-ac35-4e21-b848-75207ba7f2ec button.colab-df-convert');\n",
              "        buttonEl.style.display =\n",
              "          google.colab.kernel.accessAllowed ? 'block' : 'none';\n",
              "\n",
              "        async function convertToInteractive(key) {\n",
              "          const element = document.querySelector('#df-6bfa9f38-ac35-4e21-b848-75207ba7f2ec');\n",
              "          const dataTable =\n",
              "            await google.colab.kernel.invokeFunction('convertToInteractive',\n",
              "                                                     [key], {});\n",
              "          if (!dataTable) return;\n",
              "\n",
              "          const docLinkHtml = 'Like what you see? Visit the ' +\n",
              "            '<a target=\"_blank\" href=https://colab.research.google.com/notebooks/data_table.ipynb>data table notebook</a>'\n",
              "            + ' to learn more about interactive tables.';\n",
              "          element.innerHTML = '';\n",
              "          dataTable['output_type'] = 'display_data';\n",
              "          await google.colab.output.renderOutput(dataTable, element);\n",
              "          const docLink = document.createElement('div');\n",
              "          docLink.innerHTML = docLinkHtml;\n",
              "          element.appendChild(docLink);\n",
              "        }\n",
              "      </script>\n",
              "    </div>\n",
              "  </div>\n",
              "  "
            ]
          },
          "metadata": {},
          "execution_count": 12
        }
      ]
    },
    {
      "cell_type": "markdown",
      "source": [
        "The dataset contains 9 Facie classes, 14 formations, and 8 wells. \n",
        "\n",
        "class imbalance in the target vector (Facies) can lead poor training accuracy. Let's check for target class imbalance."
      ],
      "metadata": {
        "id": "GQCaW2H0402s"
      }
    },
    {
      "cell_type": "code",
      "source": [
        "# Color coding the target classes\n",
        "facies_names = ['SS', 'CSiS', 'FSiS', 'SiSh', 'MS', 'WS', 'D', 'PS', 'BS'] # map facies names to the numbers(classes)\n",
        "facies_colours = ['#F4D03F', '#F5B041','#DC7633','#6E2C00', '#1B4F72','#2E86C1', '#AED6F1', '#A569BD', '#196F3D']\n",
        "\n",
        "facies_colour_map = {}   \n",
        "for i, label in enumerate(facies_names):\n",
        "    facies_colour_map[label] = facies_colours[i]\n",
        "\n",
        "facies_colour_map"
      ],
      "metadata": {
        "id": "1BtBa6K8iiew",
        "colab": {
          "base_uri": "https://localhost:8080/"
        },
        "outputId": "a0478611-a57a-4b46-b27d-b918025c60b3"
      },
      "execution_count": null,
      "outputs": [
        {
          "output_type": "execute_result",
          "data": {
            "text/plain": [
              "{'SS': '#F4D03F',\n",
              " 'CSiS': '#F5B041',\n",
              " 'FSiS': '#DC7633',\n",
              " 'SiSh': '#6E2C00',\n",
              " 'MS': '#1B4F72',\n",
              " 'WS': '#2E86C1',\n",
              " 'D': '#AED6F1',\n",
              " 'PS': '#A569BD',\n",
              " 'BS': '#196F3D'}"
            ]
          },
          "metadata": {},
          "execution_count": 34
        }
      ]
    },
    {
      "cell_type": "code",
      "source": [
        "sns.catplot(data=facies_data.all(), x=x, kind=\"count\", palette=facies_colours, order=facies_names);"
      ],
      "metadata": {
        "colab": {
          "base_uri": "https://localhost:8080/",
          "height": 673
        },
        "id": "cn3uDOjulOps",
        "outputId": "a75d143c-9bb4-4465-8f2a-bd3277b88d9e"
      },
      "execution_count": null,
      "outputs": [
        {
          "output_type": "error",
          "ename": "ValueError",
          "evalue": "ignored",
          "traceback": [
            "\u001b[0;31m---------------------------------------------------------------------------\u001b[0m",
            "\u001b[0;31mValueError\u001b[0m                                Traceback (most recent call last)",
            "\u001b[0;32m<ipython-input-73-400c4616b97a>\u001b[0m in \u001b[0;36m<module>\u001b[0;34m\u001b[0m\n\u001b[0;32m----> 1\u001b[0;31m \u001b[0msns\u001b[0m\u001b[0;34m.\u001b[0m\u001b[0mcatplot\u001b[0m\u001b[0;34m(\u001b[0m\u001b[0mdata\u001b[0m\u001b[0;34m=\u001b[0m\u001b[0mfacies_data\u001b[0m\u001b[0;34m.\u001b[0m\u001b[0mall\u001b[0m\u001b[0;34m(\u001b[0m\u001b[0;34m)\u001b[0m\u001b[0;34m,\u001b[0m \u001b[0mx\u001b[0m\u001b[0;34m=\u001b[0m\u001b[0mx\u001b[0m\u001b[0;34m,\u001b[0m \u001b[0mkind\u001b[0m\u001b[0;34m=\u001b[0m\u001b[0;34m\"count\"\u001b[0m\u001b[0;34m,\u001b[0m \u001b[0mpalette\u001b[0m\u001b[0;34m=\u001b[0m\u001b[0mfacies_colours\u001b[0m\u001b[0;34m,\u001b[0m \u001b[0morder\u001b[0m\u001b[0;34m=\u001b[0m\u001b[0mfacies_names\u001b[0m\u001b[0;34m)\u001b[0m\u001b[0;34m;\u001b[0m\u001b[0;34m\u001b[0m\u001b[0;34m\u001b[0m\u001b[0m\n\u001b[0m",
            "\u001b[0;32m/usr/local/lib/python3.7/dist-packages/seaborn/_decorators.py\u001b[0m in \u001b[0;36minner_f\u001b[0;34m(*args, **kwargs)\u001b[0m\n\u001b[1;32m     44\u001b[0m             )\n\u001b[1;32m     45\u001b[0m         \u001b[0mkwargs\u001b[0m\u001b[0;34m.\u001b[0m\u001b[0mupdate\u001b[0m\u001b[0;34m(\u001b[0m\u001b[0;34m{\u001b[0m\u001b[0mk\u001b[0m\u001b[0;34m:\u001b[0m \u001b[0marg\u001b[0m \u001b[0;32mfor\u001b[0m \u001b[0mk\u001b[0m\u001b[0;34m,\u001b[0m \u001b[0marg\u001b[0m \u001b[0;32min\u001b[0m \u001b[0mzip\u001b[0m\u001b[0;34m(\u001b[0m\u001b[0msig\u001b[0m\u001b[0;34m.\u001b[0m\u001b[0mparameters\u001b[0m\u001b[0;34m,\u001b[0m \u001b[0margs\u001b[0m\u001b[0;34m)\u001b[0m\u001b[0;34m}\u001b[0m\u001b[0;34m)\u001b[0m\u001b[0;34m\u001b[0m\u001b[0;34m\u001b[0m\u001b[0m\n\u001b[0;32m---> 46\u001b[0;31m         \u001b[0;32mreturn\u001b[0m \u001b[0mf\u001b[0m\u001b[0;34m(\u001b[0m\u001b[0;34m**\u001b[0m\u001b[0mkwargs\u001b[0m\u001b[0;34m)\u001b[0m\u001b[0;34m\u001b[0m\u001b[0;34m\u001b[0m\u001b[0m\n\u001b[0m\u001b[1;32m     47\u001b[0m     \u001b[0;32mreturn\u001b[0m \u001b[0minner_f\u001b[0m\u001b[0;34m\u001b[0m\u001b[0;34m\u001b[0m\u001b[0m\n\u001b[1;32m     48\u001b[0m \u001b[0;34m\u001b[0m\u001b[0m\n",
            "\u001b[0;32m/usr/local/lib/python3.7/dist-packages/seaborn/categorical.py\u001b[0m in \u001b[0;36mcatplot\u001b[0;34m(x, y, hue, data, row, col, col_wrap, estimator, ci, n_boot, units, seed, order, hue_order, row_order, col_order, kind, height, aspect, orient, color, palette, legend, legend_out, sharex, sharey, margin_titles, facet_kws, **kwargs)\u001b[0m\n\u001b[1;32m   3845\u001b[0m \u001b[0;34m\u001b[0m\u001b[0m\n\u001b[1;32m   3846\u001b[0m     \u001b[0;31m# Draw the plot onto the facets\u001b[0m\u001b[0;34m\u001b[0m\u001b[0;34m\u001b[0m\u001b[0;34m\u001b[0m\u001b[0m\n\u001b[0;32m-> 3847\u001b[0;31m     \u001b[0mg\u001b[0m\u001b[0;34m.\u001b[0m\u001b[0mmap_dataframe\u001b[0m\u001b[0;34m(\u001b[0m\u001b[0mplot_func\u001b[0m\u001b[0;34m,\u001b[0m \u001b[0mx\u001b[0m\u001b[0;34m=\u001b[0m\u001b[0mx\u001b[0m\u001b[0;34m,\u001b[0m \u001b[0my\u001b[0m\u001b[0;34m=\u001b[0m\u001b[0my\u001b[0m\u001b[0;34m,\u001b[0m \u001b[0mhue\u001b[0m\u001b[0;34m=\u001b[0m\u001b[0mhue\u001b[0m\u001b[0;34m,\u001b[0m \u001b[0;34m**\u001b[0m\u001b[0mplot_kws\u001b[0m\u001b[0;34m)\u001b[0m\u001b[0;34m\u001b[0m\u001b[0;34m\u001b[0m\u001b[0m\n\u001b[0m\u001b[1;32m   3848\u001b[0m \u001b[0;34m\u001b[0m\u001b[0m\n\u001b[1;32m   3849\u001b[0m     \u001b[0;32mif\u001b[0m \u001b[0mp\u001b[0m\u001b[0;34m.\u001b[0m\u001b[0morient\u001b[0m \u001b[0;34m==\u001b[0m \u001b[0;34m\"h\"\u001b[0m\u001b[0;34m:\u001b[0m\u001b[0;34m\u001b[0m\u001b[0;34m\u001b[0m\u001b[0m\n",
            "\u001b[0;32m/usr/local/lib/python3.7/dist-packages/seaborn/axisgrid.py\u001b[0m in \u001b[0;36mmap_dataframe\u001b[0;34m(self, func, *args, **kwargs)\u001b[0m\n\u001b[1;32m    782\u001b[0m         \u001b[0;32mfor\u001b[0m \u001b[0mi\u001b[0m\u001b[0;34m,\u001b[0m \u001b[0mval\u001b[0m \u001b[0;32min\u001b[0m \u001b[0menumerate\u001b[0m\u001b[0;34m(\u001b[0m\u001b[0margs\u001b[0m\u001b[0;34m[\u001b[0m\u001b[0;34m:\u001b[0m\u001b[0;36m2\u001b[0m\u001b[0;34m]\u001b[0m\u001b[0;34m)\u001b[0m\u001b[0;34m:\u001b[0m\u001b[0;34m\u001b[0m\u001b[0;34m\u001b[0m\u001b[0m\n\u001b[1;32m    783\u001b[0m             \u001b[0maxis_labels\u001b[0m\u001b[0;34m[\u001b[0m\u001b[0mi\u001b[0m\u001b[0;34m]\u001b[0m \u001b[0;34m=\u001b[0m \u001b[0mval\u001b[0m\u001b[0;34m\u001b[0m\u001b[0;34m\u001b[0m\u001b[0m\n\u001b[0;32m--> 784\u001b[0;31m         \u001b[0mself\u001b[0m\u001b[0;34m.\u001b[0m\u001b[0m_finalize_grid\u001b[0m\u001b[0;34m(\u001b[0m\u001b[0maxis_labels\u001b[0m\u001b[0;34m)\u001b[0m\u001b[0;34m\u001b[0m\u001b[0;34m\u001b[0m\u001b[0m\n\u001b[0m\u001b[1;32m    785\u001b[0m \u001b[0;34m\u001b[0m\u001b[0m\n\u001b[1;32m    786\u001b[0m         \u001b[0;32mreturn\u001b[0m \u001b[0mself\u001b[0m\u001b[0;34m\u001b[0m\u001b[0;34m\u001b[0m\u001b[0m\n",
            "\u001b[0;32m/usr/local/lib/python3.7/dist-packages/seaborn/axisgrid.py\u001b[0m in \u001b[0;36m_finalize_grid\u001b[0;34m(self, axlabels)\u001b[0m\n\u001b[1;32m    811\u001b[0m     \u001b[0;32mdef\u001b[0m \u001b[0m_finalize_grid\u001b[0m\u001b[0;34m(\u001b[0m\u001b[0mself\u001b[0m\u001b[0;34m,\u001b[0m \u001b[0maxlabels\u001b[0m\u001b[0;34m)\u001b[0m\u001b[0;34m:\u001b[0m\u001b[0;34m\u001b[0m\u001b[0;34m\u001b[0m\u001b[0m\n\u001b[1;32m    812\u001b[0m         \u001b[0;34m\"\"\"Finalize the annotations and layout.\"\"\"\u001b[0m\u001b[0;34m\u001b[0m\u001b[0;34m\u001b[0m\u001b[0m\n\u001b[0;32m--> 813\u001b[0;31m         \u001b[0mself\u001b[0m\u001b[0;34m.\u001b[0m\u001b[0mset_axis_labels\u001b[0m\u001b[0;34m(\u001b[0m\u001b[0;34m*\u001b[0m\u001b[0maxlabels\u001b[0m\u001b[0;34m)\u001b[0m\u001b[0;34m\u001b[0m\u001b[0;34m\u001b[0m\u001b[0m\n\u001b[0m\u001b[1;32m    814\u001b[0m         \u001b[0mself\u001b[0m\u001b[0;34m.\u001b[0m\u001b[0mset_titles\u001b[0m\u001b[0;34m(\u001b[0m\u001b[0;34m)\u001b[0m\u001b[0;34m\u001b[0m\u001b[0;34m\u001b[0m\u001b[0m\n\u001b[1;32m    815\u001b[0m         \u001b[0mself\u001b[0m\u001b[0;34m.\u001b[0m\u001b[0mtight_layout\u001b[0m\u001b[0;34m(\u001b[0m\u001b[0;34m)\u001b[0m\u001b[0;34m\u001b[0m\u001b[0;34m\u001b[0m\u001b[0m\n",
            "\u001b[0;32m/usr/local/lib/python3.7/dist-packages/seaborn/axisgrid.py\u001b[0m in \u001b[0;36mset_axis_labels\u001b[0;34m(self, x_var, y_var, clear_inner, **kwargs)\u001b[0m\n\u001b[1;32m    838\u001b[0m         \u001b[0;32mif\u001b[0m \u001b[0mx_var\u001b[0m \u001b[0;32mis\u001b[0m \u001b[0;32mnot\u001b[0m \u001b[0;32mNone\u001b[0m\u001b[0;34m:\u001b[0m\u001b[0;34m\u001b[0m\u001b[0;34m\u001b[0m\u001b[0m\n\u001b[1;32m    839\u001b[0m             \u001b[0mself\u001b[0m\u001b[0;34m.\u001b[0m\u001b[0m_x_var\u001b[0m \u001b[0;34m=\u001b[0m \u001b[0mx_var\u001b[0m\u001b[0;34m\u001b[0m\u001b[0;34m\u001b[0m\u001b[0m\n\u001b[0;32m--> 840\u001b[0;31m             \u001b[0mself\u001b[0m\u001b[0;34m.\u001b[0m\u001b[0mset_xlabels\u001b[0m\u001b[0;34m(\u001b[0m\u001b[0mx_var\u001b[0m\u001b[0;34m,\u001b[0m \u001b[0mclear_inner\u001b[0m\u001b[0;34m=\u001b[0m\u001b[0mclear_inner\u001b[0m\u001b[0;34m,\u001b[0m \u001b[0;34m**\u001b[0m\u001b[0mkwargs\u001b[0m\u001b[0;34m)\u001b[0m\u001b[0;34m\u001b[0m\u001b[0;34m\u001b[0m\u001b[0m\n\u001b[0m\u001b[1;32m    841\u001b[0m         \u001b[0;32mif\u001b[0m \u001b[0my_var\u001b[0m \u001b[0;32mis\u001b[0m \u001b[0;32mnot\u001b[0m \u001b[0;32mNone\u001b[0m\u001b[0;34m:\u001b[0m\u001b[0;34m\u001b[0m\u001b[0;34m\u001b[0m\u001b[0m\n\u001b[1;32m    842\u001b[0m             \u001b[0mself\u001b[0m\u001b[0;34m.\u001b[0m\u001b[0m_y_var\u001b[0m \u001b[0;34m=\u001b[0m \u001b[0my_var\u001b[0m\u001b[0;34m\u001b[0m\u001b[0;34m\u001b[0m\u001b[0m\n",
            "\u001b[0;32m/usr/local/lib/python3.7/dist-packages/seaborn/axisgrid.py\u001b[0m in \u001b[0;36mset_xlabels\u001b[0;34m(self, label, clear_inner, **kwargs)\u001b[0m\n\u001b[1;32m    850\u001b[0m             \u001b[0mlabel\u001b[0m \u001b[0;34m=\u001b[0m \u001b[0mself\u001b[0m\u001b[0;34m.\u001b[0m\u001b[0m_x_var\u001b[0m\u001b[0;34m\u001b[0m\u001b[0;34m\u001b[0m\u001b[0m\n\u001b[1;32m    851\u001b[0m         \u001b[0;32mfor\u001b[0m \u001b[0max\u001b[0m \u001b[0;32min\u001b[0m \u001b[0mself\u001b[0m\u001b[0;34m.\u001b[0m\u001b[0m_bottom_axes\u001b[0m\u001b[0;34m:\u001b[0m\u001b[0;34m\u001b[0m\u001b[0;34m\u001b[0m\u001b[0m\n\u001b[0;32m--> 852\u001b[0;31m             \u001b[0max\u001b[0m\u001b[0;34m.\u001b[0m\u001b[0mset_xlabel\u001b[0m\u001b[0;34m(\u001b[0m\u001b[0mlabel\u001b[0m\u001b[0;34m,\u001b[0m \u001b[0;34m**\u001b[0m\u001b[0mkwargs\u001b[0m\u001b[0;34m)\u001b[0m\u001b[0;34m\u001b[0m\u001b[0;34m\u001b[0m\u001b[0m\n\u001b[0m\u001b[1;32m    853\u001b[0m         \u001b[0;32mif\u001b[0m \u001b[0mclear_inner\u001b[0m\u001b[0;34m:\u001b[0m\u001b[0;34m\u001b[0m\u001b[0;34m\u001b[0m\u001b[0m\n\u001b[1;32m    854\u001b[0m             \u001b[0;32mfor\u001b[0m \u001b[0max\u001b[0m \u001b[0;32min\u001b[0m \u001b[0mself\u001b[0m\u001b[0;34m.\u001b[0m\u001b[0m_not_bottom_axes\u001b[0m\u001b[0;34m:\u001b[0m\u001b[0;34m\u001b[0m\u001b[0;34m\u001b[0m\u001b[0m\n",
            "\u001b[0;32m/usr/local/lib/python3.7/dist-packages/matplotlib/axes/_axes.py\u001b[0m in \u001b[0;36mset_xlabel\u001b[0;34m(self, xlabel, fontdict, labelpad, **kwargs)\u001b[0m\n\u001b[1;32m    246\u001b[0m         \u001b[0;32mif\u001b[0m \u001b[0mlabelpad\u001b[0m \u001b[0;32mis\u001b[0m \u001b[0;32mnot\u001b[0m \u001b[0;32mNone\u001b[0m\u001b[0;34m:\u001b[0m\u001b[0;34m\u001b[0m\u001b[0;34m\u001b[0m\u001b[0m\n\u001b[1;32m    247\u001b[0m             \u001b[0mself\u001b[0m\u001b[0;34m.\u001b[0m\u001b[0mxaxis\u001b[0m\u001b[0;34m.\u001b[0m\u001b[0mlabelpad\u001b[0m \u001b[0;34m=\u001b[0m \u001b[0mlabelpad\u001b[0m\u001b[0;34m\u001b[0m\u001b[0;34m\u001b[0m\u001b[0m\n\u001b[0;32m--> 248\u001b[0;31m         \u001b[0;32mreturn\u001b[0m \u001b[0mself\u001b[0m\u001b[0;34m.\u001b[0m\u001b[0mxaxis\u001b[0m\u001b[0;34m.\u001b[0m\u001b[0mset_label_text\u001b[0m\u001b[0;34m(\u001b[0m\u001b[0mxlabel\u001b[0m\u001b[0;34m,\u001b[0m \u001b[0mfontdict\u001b[0m\u001b[0;34m,\u001b[0m \u001b[0;34m**\u001b[0m\u001b[0mkwargs\u001b[0m\u001b[0;34m)\u001b[0m\u001b[0;34m\u001b[0m\u001b[0;34m\u001b[0m\u001b[0m\n\u001b[0m\u001b[1;32m    249\u001b[0m \u001b[0;34m\u001b[0m\u001b[0m\n\u001b[1;32m    250\u001b[0m     \u001b[0;32mdef\u001b[0m \u001b[0mget_ylabel\u001b[0m\u001b[0;34m(\u001b[0m\u001b[0mself\u001b[0m\u001b[0;34m)\u001b[0m\u001b[0;34m:\u001b[0m\u001b[0;34m\u001b[0m\u001b[0;34m\u001b[0m\u001b[0m\n",
            "\u001b[0;32m/usr/local/lib/python3.7/dist-packages/matplotlib/axis.py\u001b[0m in \u001b[0;36mset_label_text\u001b[0;34m(self, label, fontdict, **kwargs)\u001b[0m\n\u001b[1;32m   1611\u001b[0m         \"\"\"\n\u001b[1;32m   1612\u001b[0m         \u001b[0mself\u001b[0m\u001b[0;34m.\u001b[0m\u001b[0misDefault_label\u001b[0m \u001b[0;34m=\u001b[0m \u001b[0;32mFalse\u001b[0m\u001b[0;34m\u001b[0m\u001b[0;34m\u001b[0m\u001b[0m\n\u001b[0;32m-> 1613\u001b[0;31m         \u001b[0mself\u001b[0m\u001b[0;34m.\u001b[0m\u001b[0mlabel\u001b[0m\u001b[0;34m.\u001b[0m\u001b[0mset_text\u001b[0m\u001b[0;34m(\u001b[0m\u001b[0mlabel\u001b[0m\u001b[0;34m)\u001b[0m\u001b[0;34m\u001b[0m\u001b[0;34m\u001b[0m\u001b[0m\n\u001b[0m\u001b[1;32m   1614\u001b[0m         \u001b[0;32mif\u001b[0m \u001b[0mfontdict\u001b[0m \u001b[0;32mis\u001b[0m \u001b[0;32mnot\u001b[0m \u001b[0;32mNone\u001b[0m\u001b[0;34m:\u001b[0m\u001b[0;34m\u001b[0m\u001b[0;34m\u001b[0m\u001b[0m\n\u001b[1;32m   1615\u001b[0m             \u001b[0mself\u001b[0m\u001b[0;34m.\u001b[0m\u001b[0mlabel\u001b[0m\u001b[0;34m.\u001b[0m\u001b[0mupdate\u001b[0m\u001b[0;34m(\u001b[0m\u001b[0mfontdict\u001b[0m\u001b[0;34m)\u001b[0m\u001b[0;34m\u001b[0m\u001b[0;34m\u001b[0m\u001b[0m\n",
            "\u001b[0;32m/usr/local/lib/python3.7/dist-packages/matplotlib/text.py\u001b[0m in \u001b[0;36mset_text\u001b[0;34m(self, s)\u001b[0m\n\u001b[1;32m   1163\u001b[0m         \u001b[0;32mif\u001b[0m \u001b[0ms\u001b[0m \u001b[0;32mis\u001b[0m \u001b[0;32mNone\u001b[0m\u001b[0;34m:\u001b[0m\u001b[0;34m\u001b[0m\u001b[0;34m\u001b[0m\u001b[0m\n\u001b[1;32m   1164\u001b[0m             \u001b[0ms\u001b[0m \u001b[0;34m=\u001b[0m \u001b[0;34m''\u001b[0m\u001b[0;34m\u001b[0m\u001b[0;34m\u001b[0m\u001b[0m\n\u001b[0;32m-> 1165\u001b[0;31m         \u001b[0;32mif\u001b[0m \u001b[0ms\u001b[0m \u001b[0;34m!=\u001b[0m \u001b[0mself\u001b[0m\u001b[0;34m.\u001b[0m\u001b[0m_text\u001b[0m\u001b[0;34m:\u001b[0m\u001b[0;34m\u001b[0m\u001b[0;34m\u001b[0m\u001b[0m\n\u001b[0m\u001b[1;32m   1166\u001b[0m             \u001b[0mself\u001b[0m\u001b[0;34m.\u001b[0m\u001b[0m_text\u001b[0m \u001b[0;34m=\u001b[0m \u001b[0mstr\u001b[0m\u001b[0;34m(\u001b[0m\u001b[0ms\u001b[0m\u001b[0;34m)\u001b[0m\u001b[0;34m\u001b[0m\u001b[0;34m\u001b[0m\u001b[0m\n\u001b[1;32m   1167\u001b[0m             \u001b[0mself\u001b[0m\u001b[0;34m.\u001b[0m\u001b[0mstale\u001b[0m \u001b[0;34m=\u001b[0m \u001b[0;32mTrue\u001b[0m\u001b[0;34m\u001b[0m\u001b[0;34m\u001b[0m\u001b[0m\n",
            "\u001b[0;32m/usr/local/lib/python3.7/dist-packages/pandas/core/generic.py\u001b[0m in \u001b[0;36m__nonzero__\u001b[0;34m(self)\u001b[0m\n\u001b[1;32m   1536\u001b[0m     \u001b[0;32mdef\u001b[0m \u001b[0m__nonzero__\u001b[0m\u001b[0;34m(\u001b[0m\u001b[0mself\u001b[0m\u001b[0;34m)\u001b[0m\u001b[0;34m:\u001b[0m\u001b[0;34m\u001b[0m\u001b[0;34m\u001b[0m\u001b[0m\n\u001b[1;32m   1537\u001b[0m         raise ValueError(\n\u001b[0;32m-> 1538\u001b[0;31m             \u001b[0;34mf\"The truth value of a {type(self).__name__} is ambiguous. \"\u001b[0m\u001b[0;34m\u001b[0m\u001b[0;34m\u001b[0m\u001b[0m\n\u001b[0m\u001b[1;32m   1539\u001b[0m             \u001b[0;34m\"Use a.empty, a.bool(), a.item(), a.any() or a.all().\"\u001b[0m\u001b[0;34m\u001b[0m\u001b[0;34m\u001b[0m\u001b[0m\n\u001b[1;32m   1540\u001b[0m         )\n",
            "\u001b[0;31mValueError\u001b[0m: The truth value of a Series is ambiguous. Use a.empty, a.bool(), a.item(), a.any() or a.all()."
          ]
        },
        {
          "output_type": "display_data",
          "data": {
            "text/plain": [
              "<Figure size 360x360 with 1 Axes>"
            ],
            "image/png": "[encoded data removed]"
          },
          "metadata": {
            "needs_background": "light"
          }
        }
      ]
    },
    {
      "cell_type": "markdown",
      "source": [
        "The classes are highly imbalanced. To intepret class imbalance during model training, the data distribution in % of the train/test/blind set per target class will be set not too far apart."
      ],
      "metadata": {
        "id": "5kUlrBUd6nSq"
      }
    },
    {
      "cell_type": "code",
      "source": [
        "facies_data.head()"
      ],
      "metadata": {
        "colab": {
          "base_uri": "https://localhost:8080/",
          "height": 206
        },
        "id": "4r3uEPpHDTZa",
        "outputId": "b9155b41-83bd-48d5-ba89-3a0ce6f68f13"
      },
      "execution_count": null,
      "outputs": [
        {
          "output_type": "execute_result",
          "data": {
            "text/plain": [
              "   Facies Formation  Well Name   Depth     GR  ILD_log10  DeltaPHI   PHIND  \\\n",
              "0       3     A1 SH  SHRIMPLIN  2793.0  77.45      0.664       9.9  11.915   \n",
              "1       3     A1 SH  SHRIMPLIN  2793.5  78.26      0.661      14.2  12.565   \n",
              "2       3     A1 SH  SHRIMPLIN  2794.0  79.05      0.658      14.8  13.050   \n",
              "3       3     A1 SH  SHRIMPLIN  2794.5  86.10      0.655      13.9  13.115   \n",
              "4       3     A1 SH  SHRIMPLIN  2795.0  74.58      0.647      13.5  13.300   \n",
              "\n",
              "    PE  NM_M  RELPOS  \n",
              "0  4.6     1   1.000  \n",
              "1  4.1     1   0.979  \n",
              "2  3.6     1   0.957  \n",
              "3  3.5     1   0.936  \n",
              "4  3.4     1   0.915  "
            ],
            "text/html": [
              "\n",
              "  <div id=\"df-471fa8df-6f7e-43d6-8933-4dd246761252\">\n",
              "    <div class=\"colab-df-container\">\n",
              "      <div>\n",
              "<style scoped>\n",
              "    .dataframe tbody tr th:only-of-type {\n",
              "        vertical-align: middle;\n",
              "    }\n",
              "\n",
              "    .dataframe tbody tr th {\n",
              "        vertical-align: top;\n",
              "    }\n",
              "\n",
              "    .dataframe thead th {\n",
              "        text-align: right;\n",
              "    }\n",
              "</style>\n",
              "<table border=\"1\" class=\"dataframe\">\n",
              "  <thead>\n",
              "    <tr style=\"text-align: right;\">\n",
              "      <th></th>\n",
              "      <th>Facies</th>\n",
              "      <th>Formation</th>\n",
              "      <th>Well Name</th>\n",
              "      <th>Depth</th>\n",
              "      <th>GR</th>\n",
              "      <th>ILD_log10</th>\n",
              "      <th>DeltaPHI</th>\n",
              "      <th>PHIND</th>\n",
              "      <th>PE</th>\n",
              "      <th>NM_M</th>\n",
              "      <th>RELPOS</th>\n",
              "    </tr>\n",
              "  </thead>\n",
              "  <tbody>\n",
              "    <tr>\n",
              "      <th>0</th>\n",
              "      <td>3</td>\n",
              "      <td>A1 SH</td>\n",
              "      <td>SHRIMPLIN</td>\n",
              "      <td>2793.0</td>\n",
              "      <td>77.45</td>\n",
              "      <td>0.664</td>\n",
              "      <td>9.9</td>\n",
              "      <td>11.915</td>\n",
              "      <td>4.6</td>\n",
              "      <td>1</td>\n",
              "      <td>1.000</td>\n",
              "    </tr>\n",
              "    <tr>\n",
              "      <th>1</th>\n",
              "      <td>3</td>\n",
              "      <td>A1 SH</td>\n",
              "      <td>SHRIMPLIN</td>\n",
              "      <td>2793.5</td>\n",
              "      <td>78.26</td>\n",
              "      <td>0.661</td>\n",
              "      <td>14.2</td>\n",
              "      <td>12.565</td>\n",
              "      <td>4.1</td>\n",
              "      <td>1</td>\n",
              "      <td>0.979</td>\n",
              "    </tr>\n",
              "    <tr>\n",
              "      <th>2</th>\n",
              "      <td>3</td>\n",
              "      <td>A1 SH</td>\n",
              "      <td>SHRIMPLIN</td>\n",
              "      <td>2794.0</td>\n",
              "      <td>79.05</td>\n",
              "      <td>0.658</td>\n",
              "      <td>14.8</td>\n",
              "      <td>13.050</td>\n",
              "      <td>3.6</td>\n",
              "      <td>1</td>\n",
              "      <td>0.957</td>\n",
              "    </tr>\n",
              "    <tr>\n",
              "      <th>3</th>\n",
              "      <td>3</td>\n",
              "      <td>A1 SH</td>\n",
              "      <td>SHRIMPLIN</td>\n",
              "      <td>2794.5</td>\n",
              "      <td>86.10</td>\n",
              "      <td>0.655</td>\n",
              "      <td>13.9</td>\n",
              "      <td>13.115</td>\n",
              "      <td>3.5</td>\n",
              "      <td>1</td>\n",
              "      <td>0.936</td>\n",
              "    </tr>\n",
              "    <tr>\n",
              "      <th>4</th>\n",
              "      <td>3</td>\n",
              "      <td>A1 SH</td>\n",
              "      <td>SHRIMPLIN</td>\n",
              "      <td>2795.0</td>\n",
              "      <td>74.58</td>\n",
              "      <td>0.647</td>\n",
              "      <td>13.5</td>\n",
              "      <td>13.300</td>\n",
              "      <td>3.4</td>\n",
              "      <td>1</td>\n",
              "      <td>0.915</td>\n",
              "    </tr>\n",
              "  </tbody>\n",
              "</table>\n",
              "</div>\n",
              "      <button class=\"colab-df-convert\" onclick=\"convertToInteractive('df-471fa8df-6f7e-43d6-8933-4dd246761252')\"\n",
              "              title=\"Convert this dataframe to an interactive table.\"\n",
              "              style=\"display:none;\">\n",
              "        \n",
              "  <svg xmlns=\"http://www.w3.org/2000/svg\" height=\"24px\"viewBox=\"0 0 24 24\"\n",
              "       width=\"24px\">\n",
              "    <path d=\"M0 0h24v24H0V0z\" fill=\"none\"/>\n",
              "    <path d=\"M18.56 5.44l.94 2.06.94-2.06 2.06-.94-2.06-.94-.94-2.06-.94 2.06-2.06.94zm-11 1L8.5 8.5l.94-2.06 2.06-.94-2.06-.94L8.5 2.5l-.94 2.06-2.06.94zm10 10l.94 2.06.94-2.06 2.06-.94-2.06-.94-.94-2.06-.94 2.06-2.06.94z\"/><path d=\"M17.41 7.96l-1.37-1.37c-.4-.4-.92-.59-1.43-.59-.52 0-1.04.2-1.43.59L10.3 9.45l-7.72 7.72c-.78.78-.78 2.05 0 2.83L4 21.41c.39.39.9.59 1.41.59.51 0 1.02-.2 1.41-.59l7.78-7.78 2.81-2.81c.8-.78.8-2.07 0-2.86zM5.41 20L4 18.59l7.72-7.72 1.47 1.35L5.41 20z\"/>\n",
              "  </svg>\n",
              "      </button>\n",
              "      \n",
              "  <style>\n",
              "    .colab-df-container {\n",
              "      display:flex;\n",
              "      flex-wrap:wrap;\n",
              "      gap: 12px;\n",
              "    }\n",
              "\n",
              "    .colab-df-convert {\n",
              "      background-color: #E8F0FE;\n",
              "      border: none;\n",
              "      border-radius: 50%;\n",
              "      cursor: pointer;\n",
              "      display: none;\n",
              "      fill: #1967D2;\n",
              "      height: 32px;\n",
              "      padding: 0 0 0 0;\n",
              "      width: 32px;\n",
              "    }\n",
              "\n",
              "    .colab-df-convert:hover {\n",
              "      background-color: #E2EBFA;\n",
              "      box-shadow: 0px 1px 2px rgba(60, 64, 67, 0.3), 0px 1px 3px 1px rgba(60, 64, 67, 0.15);\n",
              "      fill: #174EA6;\n",
              "    }\n",
              "\n",
              "    [theme=dark] .colab-df-convert {\n",
              "      background-color: #3B4455;\n",
              "      fill: #D2E3FC;\n",
              "    }\n",
              "\n",
              "    [theme=dark] .colab-df-convert:hover {\n",
              "      background-color: #434B5C;\n",
              "      box-shadow: 0px 1px 3px 1px rgba(0, 0, 0, 0.15);\n",
              "      filter: drop-shadow(0px 1px 2px rgba(0, 0, 0, 0.3));\n",
              "      fill: #FFFFFF;\n",
              "    }\n",
              "  </style>\n",
              "\n",
              "      <script>\n",
              "        const buttonEl =\n",
              "          document.querySelector('#df-471fa8df-6f7e-43d6-8933-4dd246761252 button.colab-df-convert');\n",
              "        buttonEl.style.display =\n",
              "          google.colab.kernel.accessAllowed ? 'block' : 'none';\n",
              "\n",
              "        async function convertToInteractive(key) {\n",
              "          const element = document.querySelector('#df-471fa8df-6f7e-43d6-8933-4dd246761252');\n",
              "          const dataTable =\n",
              "            await google.colab.kernel.invokeFunction('convertToInteractive',\n",
              "                                                     [key], {});\n",
              "          if (!dataTable) return;\n",
              "\n",
              "          const docLinkHtml = 'Like what you see? Visit the ' +\n",
              "            '<a target=\"_blank\" href=https://colab.research.google.com/notebooks/data_table.ipynb>data table notebook</a>'\n",
              "            + ' to learn more about interactive tables.';\n",
              "          element.innerHTML = '';\n",
              "          dataTable['output_type'] = 'display_data';\n",
              "          await google.colab.output.renderOutput(dataTable, element);\n",
              "          const docLink = document.createElement('div');\n",
              "          docLink.innerHTML = docLinkHtml;\n",
              "          element.appendChild(docLink);\n",
              "        }\n",
              "      </script>\n",
              "    </div>\n",
              "  </div>\n",
              "  "
            ]
          },
          "metadata": {},
          "execution_count": 81
        }
      ]
    },
    {
      "cell_type": "code",
      "source": [
        "# Plot the log data and facies vs Depth on the same axes per well\n",
        "import matplotlib.colors as colors\n",
        "from mpl_toolkits.axes_grid1 import make_axes_locatable\n",
        "\n",
        "# 1=sandstone  2=c_siltstone   3=f_siltstone \n",
        "# 4=marine_silt_shale 5=mudstone 6=wackestone 7=dolomite\n",
        "# 8=packstone 9=bafflestone\n",
        "facies_colors = ['#F4D03F', '#F5B041','#DC7633','#6E2C00',\n",
        "       '#1B4F72','#2E86C1', '#AED6F1', '#A569BD', '#196F3D']\n",
        "\n",
        "facies_labels = ['SS', 'CSiS', 'FSiS', 'SiSh', 'MS',\n",
        "                 'WS', 'D','PS', 'BS']\n",
        "#facies_color_map is a dictionary that maps facies labels\n",
        "#to their respective colors\n",
        "facies_color_map = {}\n",
        "for ind, label in enumerate(facies_labels):\n",
        "    facies_color_map[label] = facies_colors[ind]\n",
        "\n",
        "def label_facies(row, labels):\n",
        "    return labels[ row['Facies'] -1]\n",
        "    \n",
        "facies_data.loc[:,'FaciesLabels'] = facies_data.apply(lambda row: label_facies(row, facies_labels), axis=1)\n",
        "\n",
        "\n",
        "def make_facies_log_plot(logs, facies_colors):\n",
        "    #make sure logs are sorted by depth\n",
        "    logs = logs.sort_values(by='Depth')\n",
        "    cmap_facies = colors.ListedColormap(\n",
        "            facies_colors[0:len(facies_colors)], 'indexed')\n",
        "    \n",
        "    ztop=logs.Depth.min(); zbot=logs.Depth.max()\n",
        "    \n",
        "    cluster=np.repeat(np.expand_dims(logs['Facies'].values,1), 100, 1)\n",
        "    \n",
        "    f, ax = plt.subplots(nrows=1, ncols=6, figsize=(8, 12))\n",
        "    ax[0].plot(logs.GR, logs.Depth, '-g')\n",
        "    ax[1].plot(logs.ILD_log10, logs.Depth, '-')\n",
        "    ax[2].plot(logs.DeltaPHI, logs.Depth, '-', color='0.5')\n",
        "    ax[3].plot(logs.PHIND, logs.Depth, '-', color='r')\n",
        "    ax[4].plot(logs.PE, logs.Depth, '-', color='black')\n",
        "    im=ax[5].imshow(cluster, interpolation='none', aspect='auto',\n",
        "                    cmap=cmap_facies,vmin=1,vmax=9)\n",
        "    \n",
        "    divider = make_axes_locatable(ax[5])\n",
        "    cax = divider.append_axes(\"right\", size=\"20%\", pad=0.05)\n",
        "    cbar=plt.colorbar(im, cax=cax)\n",
        "    cbar.set_label((17*' ').join([' SS ', 'CSiS', 'FSiS', \n",
        "                                'SiSh', ' MS ', ' WS ', ' D  ', \n",
        "                                ' PS ', ' BS ']))\n",
        "    cbar.set_ticks(range(0,1)); cbar.set_ticklabels('')\n",
        "    \n",
        "    for i in range(len(ax)-1):\n",
        "        ax[i].set_ylim(ztop,zbot)\n",
        "        ax[i].invert_yaxis()\n",
        "        ax[i].grid()\n",
        "        ax[i].locator_params(axis='x', nbins=3)\n",
        "    \n",
        "    ax[0].set_xlabel(\"GR\")\n",
        "    ax[0].set_xlim(logs.GR.min(),logs.GR.max())\n",
        "    ax[1].set_xlabel(\"ILD_log10\")\n",
        "    ax[1].set_xlim(logs.ILD_log10.min(),logs.ILD_log10.max())\n",
        "    ax[2].set_xlabel(\"DeltaPHI\")\n",
        "    ax[2].set_xlim(logs.DeltaPHI.min(),logs.DeltaPHI.max())\n",
        "    ax[3].set_xlabel(\"PHIND\")\n",
        "    ax[3].set_xlim(logs.PHIND.min(),logs.PHIND.max())\n",
        "    ax[4].set_xlabel(\"PE\")\n",
        "    ax[4].set_xlim(logs.PE.min(),logs.PE.max())\n",
        "    ax[5].set_xlabel('Facies')\n",
        "    \n",
        "    ax[1].set_yticklabels([]); ax[2].set_yticklabels([]); ax[3].set_yticklabels([])\n",
        "    ax[4].set_yticklabels([]); ax[5].set_yticklabels([])\n",
        "    ax[5].set_xticklabels([])\n",
        "    f.suptitle('Well: %s'%logs.iloc[0]['Well Name'], fontsize=14,y=0.94)\n",
        "\n",
        "\n",
        "\"\"\"for wellId in well_names_validate:\n",
        "    make_facies_log_plot( test_data[test_data['Well Name'] == wellId], facies_colors=facies_colors, y_test=y_test, wellId=wellId)\"\"\""
      ],
      "metadata": {
        "id": "hBsoDJpYmtmK",
        "colab": {
          "base_uri": "https://localhost:8080/",
          "height": 53
        },
        "outputId": "927ad171-0e6f-4548-8658-db69a9b82310"
      },
      "execution_count": null,
      "outputs": [
        {
          "output_type": "execute_result",
          "data": {
            "text/plain": [
              "\"for wellId in well_names_validate:\\n    make_facies_log_plot( test_data[test_data['Well Name'] == wellId], facies_colors=facies_colors, y_test=y_test, wellId=wellId)\""
            ],
            "application/vnd.google.colaboratory.intrinsic+json": {
              "type": "string"
            }
          },
          "metadata": {},
          "execution_count": 42
        }
      ]
    },
    {
      "cell_type": "code",
      "source": [
        "make_facies_log_plot(\n",
        "    facies_data[facies_data['Well Name'] == 'SHRIMPLIN'],\n",
        "    facies_colours)"
      ],
      "metadata": {
        "colab": {
          "base_uri": "https://localhost:8080/",
          "height": 767
        },
        "id": "vS6YoPr_whEX",
        "outputId": "457e0980-5fb4-4577-f9da-bf018192a16b"
      },
      "execution_count": null,
      "outputs": [
        {
          "output_type": "display_data",
          "data": {
            "text/plain": [
              "<Figure size 576x864 with 7 Axes>"
            ],
            "image/png": "[encoded data removed]"
          },
          "metadata": {
            "needs_background": "light"
          }
        }
      ]
    },
    {
      "cell_type": "markdown",
      "source": [
        "This is what a plot of the wireline log measurements for the Facies determined at various depths look like. The correlation plot below the degree of correlation amongst the different numerical features and target."
      ],
      "metadata": {
        "id": "_7BTzjQC2TTo"
      }
    },
    {
      "cell_type": "code",
      "source": [
        "facies_data.head()"
      ],
      "metadata": {
        "colab": {
          "base_uri": "https://localhost:8080/",
          "height": 206
        },
        "id": "hncwSqg0DaLC",
        "outputId": "d4b196b5-b828-40f8-ef20-4480d2e79cdc"
      },
      "execution_count": null,
      "outputs": [
        {
          "output_type": "execute_result",
          "data": {
            "text/plain": [
              "   Facies Formation  Well Name   Depth     GR  ILD_log10  DeltaPHI   PHIND  \\\n",
              "0       3     A1 SH  SHRIMPLIN  2793.0  77.45      0.664       9.9  11.915   \n",
              "1       3     A1 SH  SHRIMPLIN  2793.5  78.26      0.661      14.2  12.565   \n",
              "2       3     A1 SH  SHRIMPLIN  2794.0  79.05      0.658      14.8  13.050   \n",
              "3       3     A1 SH  SHRIMPLIN  2794.5  86.10      0.655      13.9  13.115   \n",
              "4       3     A1 SH  SHRIMPLIN  2795.0  74.58      0.647      13.5  13.300   \n",
              "\n",
              "    PE  NM_M  RELPOS FaciesLabels  \n",
              "0  4.6     1   1.000         FSiS  \n",
              "1  4.1     1   0.979         FSiS  \n",
              "2  3.6     1   0.957         FSiS  \n",
              "3  3.5     1   0.936         FSiS  \n",
              "4  3.4     1   0.915         FSiS  "
            ],
            "text/html": [
              "\n",
              "  <div id=\"df-33123d62-ef39-46c8-bc70-757bc2fae46d\">\n",
              "    <div class=\"colab-df-container\">\n",
              "      <div>\n",
              "<style scoped>\n",
              "    .dataframe tbody tr th:only-of-type {\n",
              "        vertical-align: middle;\n",
              "    }\n",
              "\n",
              "    .dataframe tbody tr th {\n",
              "        vertical-align: top;\n",
              "    }\n",
              "\n",
              "    .dataframe thead th {\n",
              "        text-align: right;\n",
              "    }\n",
              "</style>\n",
              "<table border=\"1\" class=\"dataframe\">\n",
              "  <thead>\n",
              "    <tr style=\"text-align: right;\">\n",
              "      <th></th>\n",
              "      <th>Facies</th>\n",
              "      <th>Formation</th>\n",
              "      <th>Well Name</th>\n",
              "      <th>Depth</th>\n",
              "      <th>GR</th>\n",
              "      <th>ILD_log10</th>\n",
              "      <th>DeltaPHI</th>\n",
              "      <th>PHIND</th>\n",
              "      <th>PE</th>\n",
              "      <th>NM_M</th>\n",
              "      <th>RELPOS</th>\n",
              "      <th>FaciesLabels</th>\n",
              "    </tr>\n",
              "  </thead>\n",
              "  <tbody>\n",
              "    <tr>\n",
              "      <th>0</th>\n",
              "      <td>3</td>\n",
              "      <td>A1 SH</td>\n",
              "      <td>SHRIMPLIN</td>\n",
              "      <td>2793.0</td>\n",
              "      <td>77.45</td>\n",
              "      <td>0.664</td>\n",
              "      <td>9.9</td>\n",
              "      <td>11.915</td>\n",
              "      <td>4.6</td>\n",
              "      <td>1</td>\n",
              "      <td>1.000</td>\n",
              "      <td>FSiS</td>\n",
              "    </tr>\n",
              "    <tr>\n",
              "      <th>1</th>\n",
              "      <td>3</td>\n",
              "      <td>A1 SH</td>\n",
              "      <td>SHRIMPLIN</td>\n",
              "      <td>2793.5</td>\n",
              "      <td>78.26</td>\n",
              "      <td>0.661</td>\n",
              "      <td>14.2</td>\n",
              "      <td>12.565</td>\n",
              "      <td>4.1</td>\n",
              "      <td>1</td>\n",
              "      <td>0.979</td>\n",
              "      <td>FSiS</td>\n",
              "    </tr>\n",
              "    <tr>\n",
              "      <th>2</th>\n",
              "      <td>3</td>\n",
              "      <td>A1 SH</td>\n",
              "      <td>SHRIMPLIN</td>\n",
              "      <td>2794.0</td>\n",
              "      <td>79.05</td>\n",
              "      <td>0.658</td>\n",
              "      <td>14.8</td>\n",
              "      <td>13.050</td>\n",
              "      <td>3.6</td>\n",
              "      <td>1</td>\n",
              "      <td>0.957</td>\n",
              "      <td>FSiS</td>\n",
              "    </tr>\n",
              "    <tr>\n",
              "      <th>3</th>\n",
              "      <td>3</td>\n",
              "      <td>A1 SH</td>\n",
              "      <td>SHRIMPLIN</td>\n",
              "      <td>2794.5</td>\n",
              "      <td>86.10</td>\n",
              "      <td>0.655</td>\n",
              "      <td>13.9</td>\n",
              "      <td>13.115</td>\n",
              "      <td>3.5</td>\n",
              "      <td>1</td>\n",
              "      <td>0.936</td>\n",
              "      <td>FSiS</td>\n",
              "    </tr>\n",
              "    <tr>\n",
              "      <th>4</th>\n",
              "      <td>3</td>\n",
              "      <td>A1 SH</td>\n",
              "      <td>SHRIMPLIN</td>\n",
              "      <td>2795.0</td>\n",
              "      <td>74.58</td>\n",
              "      <td>0.647</td>\n",
              "      <td>13.5</td>\n",
              "      <td>13.300</td>\n",
              "      <td>3.4</td>\n",
              "      <td>1</td>\n",
              "      <td>0.915</td>\n",
              "      <td>FSiS</td>\n",
              "    </tr>\n",
              "  </tbody>\n",
              "</table>\n",
              "</div>\n",
              "      <button class=\"colab-df-convert\" onclick=\"convertToInteractive('df-33123d62-ef39-46c8-bc70-757bc2fae46d')\"\n",
              "              title=\"Convert this dataframe to an interactive table.\"\n",
              "              style=\"display:none;\">\n",
              "        \n",
              "  <svg xmlns=\"http://www.w3.org/2000/svg\" height=\"24px\"viewBox=\"0 0 24 24\"\n",
              "       width=\"24px\">\n",
              "    <path d=\"M0 0h24v24H0V0z\" fill=\"none\"/>\n",
              "    <path d=\"M18.56 5.44l.94 2.06.94-2.06 2.06-.94-2.06-.94-.94-2.06-.94 2.06-2.06.94zm-11 1L8.5 8.5l.94-2.06 2.06-.94-2.06-.94L8.5 2.5l-.94 2.06-2.06.94zm10 10l.94 2.06.94-2.06 2.06-.94-2.06-.94-.94-2.06-.94 2.06-2.06.94z\"/><path d=\"M17.41 7.96l-1.37-1.37c-.4-.4-.92-.59-1.43-.59-.52 0-1.04.2-1.43.59L10.3 9.45l-7.72 7.72c-.78.78-.78 2.05 0 2.83L4 21.41c.39.39.9.59 1.41.59.51 0 1.02-.2 1.41-.59l7.78-7.78 2.81-2.81c.8-.78.8-2.07 0-2.86zM5.41 20L4 18.59l7.72-7.72 1.47 1.35L5.41 20z\"/>\n",
              "  </svg>\n",
              "      </button>\n",
              "      \n",
              "  <style>\n",
              "    .colab-df-container {\n",
              "      display:flex;\n",
              "      flex-wrap:wrap;\n",
              "      gap: 12px;\n",
              "    }\n",
              "\n",
              "    .colab-df-convert {\n",
              "      background-color: #E8F0FE;\n",
              "      border: none;\n",
              "      border-radius: 50%;\n",
              "      cursor: pointer;\n",
              "      display: none;\n",
              "      fill: #1967D2;\n",
              "      height: 32px;\n",
              "      padding: 0 0 0 0;\n",
              "      width: 32px;\n",
              "    }\n",
              "\n",
              "    .colab-df-convert:hover {\n",
              "      background-color: #E2EBFA;\n",
              "      box-shadow: 0px 1px 2px rgba(60, 64, 67, 0.3), 0px 1px 3px 1px rgba(60, 64, 67, 0.15);\n",
              "      fill: #174EA6;\n",
              "    }\n",
              "\n",
              "    [theme=dark] .colab-df-convert {\n",
              "      background-color: #3B4455;\n",
              "      fill: #D2E3FC;\n",
              "    }\n",
              "\n",
              "    [theme=dark] .colab-df-convert:hover {\n",
              "      background-color: #434B5C;\n",
              "      box-shadow: 0px 1px 3px 1px rgba(0, 0, 0, 0.15);\n",
              "      filter: drop-shadow(0px 1px 2px rgba(0, 0, 0, 0.3));\n",
              "      fill: #FFFFFF;\n",
              "    }\n",
              "  </style>\n",
              "\n",
              "      <script>\n",
              "        const buttonEl =\n",
              "          document.querySelector('#df-33123d62-ef39-46c8-bc70-757bc2fae46d button.colab-df-convert');\n",
              "        buttonEl.style.display =\n",
              "          google.colab.kernel.accessAllowed ? 'block' : 'none';\n",
              "\n",
              "        async function convertToInteractive(key) {\n",
              "          const element = document.querySelector('#df-33123d62-ef39-46c8-bc70-757bc2fae46d');\n",
              "          const dataTable =\n",
              "            await google.colab.kernel.invokeFunction('convertToInteractive',\n",
              "                                                     [key], {});\n",
              "          if (!dataTable) return;\n",
              "\n",
              "          const docLinkHtml = 'Like what you see? Visit the ' +\n",
              "            '<a target=\"_blank\" href=https://colab.research.google.com/notebooks/data_table.ipynb>data table notebook</a>'\n",
              "            + ' to learn more about interactive tables.';\n",
              "          element.innerHTML = '';\n",
              "          dataTable['output_type'] = 'display_data';\n",
              "          await google.colab.output.renderOutput(dataTable, element);\n",
              "          const docLink = document.createElement('div');\n",
              "          docLink.innerHTML = docLinkHtml;\n",
              "          element.appendChild(docLink);\n",
              "        }\n",
              "      </script>\n",
              "    </div>\n",
              "  </div>\n",
              "  "
            ]
          },
          "metadata": {},
          "execution_count": 84
        }
      ]
    },
    {
      "cell_type": "markdown",
      "source": [
        "The `FaciesLabels` column was added in the Wire log measurement plotting function. It is not needed further on in the notebook so it will be dropped."
      ],
      "metadata": {
        "id": "XCCCAuXpDstQ"
      }
    },
    {
      "cell_type": "code",
      "source": [
        "facies_data = facies_data.drop('FaciesLabels', axis=1)\n",
        "facies_data.head()"
      ],
      "metadata": {
        "colab": {
          "base_uri": "https://localhost:8080/",
          "height": 206
        },
        "id": "kZz__9f7D-EU",
        "outputId": "99e0aee9-1e6d-4a49-ead7-76255d88ab0a"
      },
      "execution_count": null,
      "outputs": [
        {
          "output_type": "execute_result",
          "data": {
            "text/plain": [
              "   Facies Formation  Well Name   Depth     GR  ILD_log10  DeltaPHI   PHIND  \\\n",
              "0       3     A1 SH  SHRIMPLIN  2793.0  77.45      0.664       9.9  11.915   \n",
              "1       3     A1 SH  SHRIMPLIN  2793.5  78.26      0.661      14.2  12.565   \n",
              "2       3     A1 SH  SHRIMPLIN  2794.0  79.05      0.658      14.8  13.050   \n",
              "3       3     A1 SH  SHRIMPLIN  2794.5  86.10      0.655      13.9  13.115   \n",
              "4       3     A1 SH  SHRIMPLIN  2795.0  74.58      0.647      13.5  13.300   \n",
              "\n",
              "    PE  NM_M  RELPOS  \n",
              "0  4.6     1   1.000  \n",
              "1  4.1     1   0.979  \n",
              "2  3.6     1   0.957  \n",
              "3  3.5     1   0.936  \n",
              "4  3.4     1   0.915  "
            ],
            "text/html": [
              "\n",
              "  <div id=\"df-d5a55d3e-43a3-435b-9601-b6c1e84447af\">\n",
              "    <div class=\"colab-df-container\">\n",
              "      <div>\n",
              "<style scoped>\n",
              "    .dataframe tbody tr th:only-of-type {\n",
              "        vertical-align: middle;\n",
              "    }\n",
              "\n",
              "    .dataframe tbody tr th {\n",
              "        vertical-align: top;\n",
              "    }\n",
              "\n",
              "    .dataframe thead th {\n",
              "        text-align: right;\n",
              "    }\n",
              "</style>\n",
              "<table border=\"1\" class=\"dataframe\">\n",
              "  <thead>\n",
              "    <tr style=\"text-align: right;\">\n",
              "      <th></th>\n",
              "      <th>Facies</th>\n",
              "      <th>Formation</th>\n",
              "      <th>Well Name</th>\n",
              "      <th>Depth</th>\n",
              "      <th>GR</th>\n",
              "      <th>ILD_log10</th>\n",
              "      <th>DeltaPHI</th>\n",
              "      <th>PHIND</th>\n",
              "      <th>PE</th>\n",
              "      <th>NM_M</th>\n",
              "      <th>RELPOS</th>\n",
              "    </tr>\n",
              "  </thead>\n",
              "  <tbody>\n",
              "    <tr>\n",
              "      <th>0</th>\n",
              "      <td>3</td>\n",
              "      <td>A1 SH</td>\n",
              "      <td>SHRIMPLIN</td>\n",
              "      <td>2793.0</td>\n",
              "      <td>77.45</td>\n",
              "      <td>0.664</td>\n",
              "      <td>9.9</td>\n",
              "      <td>11.915</td>\n",
              "      <td>4.6</td>\n",
              "      <td>1</td>\n",
              "      <td>1.000</td>\n",
              "    </tr>\n",
              "    <tr>\n",
              "      <th>1</th>\n",
              "      <td>3</td>\n",
              "      <td>A1 SH</td>\n",
              "      <td>SHRIMPLIN</td>\n",
              "      <td>2793.5</td>\n",
              "      <td>78.26</td>\n",
              "      <td>0.661</td>\n",
              "      <td>14.2</td>\n",
              "      <td>12.565</td>\n",
              "      <td>4.1</td>\n",
              "      <td>1</td>\n",
              "      <td>0.979</td>\n",
              "    </tr>\n",
              "    <tr>\n",
              "      <th>2</th>\n",
              "      <td>3</td>\n",
              "      <td>A1 SH</td>\n",
              "      <td>SHRIMPLIN</td>\n",
              "      <td>2794.0</td>\n",
              "      <td>79.05</td>\n",
              "      <td>0.658</td>\n",
              "      <td>14.8</td>\n",
              "      <td>13.050</td>\n",
              "      <td>3.6</td>\n",
              "      <td>1</td>\n",
              "      <td>0.957</td>\n",
              "    </tr>\n",
              "    <tr>\n",
              "      <th>3</th>\n",
              "      <td>3</td>\n",
              "      <td>A1 SH</td>\n",
              "      <td>SHRIMPLIN</td>\n",
              "      <td>2794.5</td>\n",
              "      <td>86.10</td>\n",
              "      <td>0.655</td>\n",
              "      <td>13.9</td>\n",
              "      <td>13.115</td>\n",
              "      <td>3.5</td>\n",
              "      <td>1</td>\n",
              "      <td>0.936</td>\n",
              "    </tr>\n",
              "    <tr>\n",
              "      <th>4</th>\n",
              "      <td>3</td>\n",
              "      <td>A1 SH</td>\n",
              "      <td>SHRIMPLIN</td>\n",
              "      <td>2795.0</td>\n",
              "      <td>74.58</td>\n",
              "      <td>0.647</td>\n",
              "      <td>13.5</td>\n",
              "      <td>13.300</td>\n",
              "      <td>3.4</td>\n",
              "      <td>1</td>\n",
              "      <td>0.915</td>\n",
              "    </tr>\n",
              "  </tbody>\n",
              "</table>\n",
              "</div>\n",
              "      <button class=\"colab-df-convert\" onclick=\"convertToInteractive('df-d5a55d3e-43a3-435b-9601-b6c1e84447af')\"\n",
              "              title=\"Convert this dataframe to an interactive table.\"\n",
              "              style=\"display:none;\">\n",
              "        \n",
              "  <svg xmlns=\"http://www.w3.org/2000/svg\" height=\"24px\"viewBox=\"0 0 24 24\"\n",
              "       width=\"24px\">\n",
              "    <path d=\"M0 0h24v24H0V0z\" fill=\"none\"/>\n",
              "    <path d=\"M18.56 5.44l.94 2.06.94-2.06 2.06-.94-2.06-.94-.94-2.06-.94 2.06-2.06.94zm-11 1L8.5 8.5l.94-2.06 2.06-.94-2.06-.94L8.5 2.5l-.94 2.06-2.06.94zm10 10l.94 2.06.94-2.06 2.06-.94-2.06-.94-.94-2.06-.94 2.06-2.06.94z\"/><path d=\"M17.41 7.96l-1.37-1.37c-.4-.4-.92-.59-1.43-.59-.52 0-1.04.2-1.43.59L10.3 9.45l-7.72 7.72c-.78.78-.78 2.05 0 2.83L4 21.41c.39.39.9.59 1.41.59.51 0 1.02-.2 1.41-.59l7.78-7.78 2.81-2.81c.8-.78.8-2.07 0-2.86zM5.41 20L4 18.59l7.72-7.72 1.47 1.35L5.41 20z\"/>\n",
              "  </svg>\n",
              "      </button>\n",
              "      \n",
              "  <style>\n",
              "    .colab-df-container {\n",
              "      display:flex;\n",
              "      flex-wrap:wrap;\n",
              "      gap: 12px;\n",
              "    }\n",
              "\n",
              "    .colab-df-convert {\n",
              "      background-color: #E8F0FE;\n",
              "      border: none;\n",
              "      border-radius: 50%;\n",
              "      cursor: pointer;\n",
              "      display: none;\n",
              "      fill: #1967D2;\n",
              "      height: 32px;\n",
              "      padding: 0 0 0 0;\n",
              "      width: 32px;\n",
              "    }\n",
              "\n",
              "    .colab-df-convert:hover {\n",
              "      background-color: #E2EBFA;\n",
              "      box-shadow: 0px 1px 2px rgba(60, 64, 67, 0.3), 0px 1px 3px 1px rgba(60, 64, 67, 0.15);\n",
              "      fill: #174EA6;\n",
              "    }\n",
              "\n",
              "    [theme=dark] .colab-df-convert {\n",
              "      background-color: #3B4455;\n",
              "      fill: #D2E3FC;\n",
              "    }\n",
              "\n",
              "    [theme=dark] .colab-df-convert:hover {\n",
              "      background-color: #434B5C;\n",
              "      box-shadow: 0px 1px 3px 1px rgba(0, 0, 0, 0.15);\n",
              "      filter: drop-shadow(0px 1px 2px rgba(0, 0, 0, 0.3));\n",
              "      fill: #FFFFFF;\n",
              "    }\n",
              "  </style>\n",
              "\n",
              "      <script>\n",
              "        const buttonEl =\n",
              "          document.querySelector('#df-d5a55d3e-43a3-435b-9601-b6c1e84447af button.colab-df-convert');\n",
              "        buttonEl.style.display =\n",
              "          google.colab.kernel.accessAllowed ? 'block' : 'none';\n",
              "\n",
              "        async function convertToInteractive(key) {\n",
              "          const element = document.querySelector('#df-d5a55d3e-43a3-435b-9601-b6c1e84447af');\n",
              "          const dataTable =\n",
              "            await google.colab.kernel.invokeFunction('convertToInteractive',\n",
              "                                                     [key], {});\n",
              "          if (!dataTable) return;\n",
              "\n",
              "          const docLinkHtml = 'Like what you see? Visit the ' +\n",
              "            '<a target=\"_blank\" href=https://colab.research.google.com/notebooks/data_table.ipynb>data table notebook</a>'\n",
              "            + ' to learn more about interactive tables.';\n",
              "          element.innerHTML = '';\n",
              "          dataTable['output_type'] = 'display_data';\n",
              "          await google.colab.output.renderOutput(dataTable, element);\n",
              "          const docLink = document.createElement('div');\n",
              "          docLink.innerHTML = docLinkHtml;\n",
              "          element.appendChild(docLink);\n",
              "        }\n",
              "      </script>\n",
              "    </div>\n",
              "  </div>\n",
              "  "
            ]
          },
          "metadata": {},
          "execution_count": 85
        }
      ]
    },
    {
      "cell_type": "code",
      "source": [
        "# Get the data correlation\n",
        "correlation = facies_data.corr()"
      ],
      "metadata": {
        "id": "A1HdoRCioBxs"
      },
      "execution_count": null,
      "outputs": []
    },
    {
      "cell_type": "code",
      "source": [
        "# Correlation Plot\n",
        "sns.heatmap(correlation, cmap='RdYlGn_r');"
      ],
      "metadata": {
        "id": "-aEpWwG1oF6v",
        "colab": {
          "base_uri": "https://localhost:8080/",
          "height": 308
        },
        "outputId": "b394402f-d795-420a-b73b-05fdee4c2ed4"
      },
      "execution_count": null,
      "outputs": [
        {
          "output_type": "display_data",
          "data": {
            "text/plain": [
              "<Figure size 432x288 with 2 Axes>"
            ],
            "image/png": "[encoded data removed]"
          },
          "metadata": {
            "needs_background": "light"
          }
        }
      ]
    },
    {
      "cell_type": "markdown",
      "source": [
        "`Facies` has high positive correlation with `NM_M` & `PE` and a high negative correlation with `PHIND`, `GR`, & `DeltaPHI`. This makes them eligible as training features. \n",
        "\n",
        "`Facies` has a low negative correlation with `RELPOS`, moderate positive correlation with `ILD_log10` and a low positive correlation with `Depth`. Since the correlations are greater than zero these features will also be used training in the classification model.\n",
        "\n",
        "No colinearity is observed between the features. Below we see the behaviour of the relationships between the variables."
      ],
      "metadata": {
        "id": "z2z6l0CC5I19"
      }
    },
    {
      "cell_type": "code",
      "source": [
        "# Pair-plot all the variables in a scatter matrix \n",
        "pd.plotting.scatter_matrix(facies_data, figsize=(12,10));"
      ],
      "metadata": {
        "id": "Iqcxo4gnsmip",
        "colab": {
          "base_uri": "https://localhost:8080/",
          "height": 616
        },
        "outputId": "27cc1720-1bd5-438a-9415-380e71b024c9"
      },
      "execution_count": null,
      "outputs": [
        {
          "output_type": "display_data",
          "data": {
            "text/plain": [
              "<Figure size 864x720 with 81 Axes>"
            ],
            "image/png": "[encoded data removed]"
          },
          "metadata": {
            "needs_background": "light"
          }
        }
      ]
    },
    {
      "cell_type": "markdown",
      "source": [
        "The features all show variations for the different target (Facies) classes. `PE` for example appears to record higher values as the classes go from 1 to 9. Knowlegde of this relationship can be helpful when the model performance is to be improved. i.e if the model prediction is higher or lower than expected."
      ],
      "metadata": {
        "id": "vUXo5xq58qDT"
      }
    },
    {
      "cell_type": "code",
      "source": [
        "# Scatter plot `Formation` and `Well Name` vs `Facies`\n",
        "sns.stripplot(data=facies_data, x=x, y=\"Formation\", palette=facies_colours, order=facies_names)"
      ],
      "metadata": {
        "colab": {
          "base_uri": "https://localhost:8080/",
          "height": 296
        },
        "id": "Hff6s2mK78Z2",
        "outputId": "eddafac6-17a0-48ec-bde2-40330489af1e"
      },
      "execution_count": null,
      "outputs": [
        {
          "output_type": "execute_result",
          "data": {
            "text/plain": [
              "<matplotlib.axes._subplots.AxesSubplot at 0x7fa43101cf10>"
            ]
          },
          "metadata": {},
          "execution_count": 77
        },
        {
          "output_type": "display_data",
          "data": {
            "text/plain": [
              "<Figure size 432x288 with 1 Axes>"
            ],
            "image/png": "[encoded data removed]"
          },
          "metadata": {
            "needs_background": "light"
          }
        }
      ]
    },
    {
      "cell_type": "markdown",
      "source": [
        "The target class vary with the `Formation`. B3 LM formation for example has no `SS` class `Facie`, it has `MS` to `BS` classes. Formation C SH has only the `CSiS` & `FSiS`  Facie classes. This makes it import for the model to be trained on the `Formation` data. Since it is of categorical data type, the data will be encoded before being fed to the training algorithm."
      ],
      "metadata": {
        "id": "smngXDNp-k6n"
      }
    },
    {
      "cell_type": "code",
      "source": [
        "# Scatter plot `Formation` and `Well Name` vs `Facies`\n",
        "sns.stripplot(data=facies_data, x=x, y=\"Well Name\", palette=facies_colours, order=facies_names)"
      ],
      "metadata": {
        "colab": {
          "base_uri": "https://localhost:8080/",
          "height": 296
        },
        "id": "W4QoiEd3-lc-",
        "outputId": "a8c18251-7ff2-415a-fd13-4bea5013da37"
      },
      "execution_count": null,
      "outputs": [
        {
          "output_type": "execute_result",
          "data": {
            "text/plain": [
              "<matplotlib.axes._subplots.AxesSubplot at 0x7fa4375c6b10>"
            ]
          },
          "metadata": {},
          "execution_count": 78
        },
        {
          "output_type": "display_data",
          "data": {
            "text/plain": [
              "<Figure size 432x288 with 1 Axes>"
            ],
            "image/png": "[encoded data removed]"
          },
          "metadata": {
            "needs_background": "light"
          }
        }
      ]
    },
    {
      "cell_type": "markdown",
      "source": [
        "`BS` Facies class is only found in wells 'Recruit F9', 'NEWBY', 'SHRIMPLIN' & 'CHURCHMAN BIBLE'. The `Well Name` play a role in the class of `Facies ` present and should therefore be a part of the training data. As a categorical data, it will be encoded before being fed to the training."
      ],
      "metadata": {
        "id": "ACfhzpnVAJrA"
      }
    },
    {
      "cell_type": "code",
      "source": [
        "# Boxplots to check for outliers\n",
        "\n",
        "fig, ax = plt.subplots(figsize=(10,8))\n",
        "\n",
        "sns.boxplot(data=facies_data, ax=ax, orient='h')\n",
        "\n",
        "plt.show()"
      ],
      "metadata": {
        "id": "d8jOaET-q6cl",
        "colab": {
          "base_uri": "https://localhost:8080/",
          "height": 483
        },
        "outputId": "8c5b949a-8252-4267-d04f-b5f212269a31"
      },
      "execution_count": null,
      "outputs": [
        {
          "output_type": "display_data",
          "data": {
            "text/plain": [
              "<Figure size 720x576 with 1 Axes>"
            ],
            "image/png": "[encoded data removed]"
          },
          "metadata": {
            "needs_background": "light"
          }
        }
      ]
    },
    {
      "cell_type": "markdown",
      "source": [
        "The box plot above shows that the data features fall within different ranges of values. There also a lot of columns with noisy data falling outside the top percentile of the data range. These conditions of the data set call for normalization as opposed to standardization of the data."
      ],
      "metadata": {
        "id": "vztpH9Zft1Bv"
      }
    },
    {
      "cell_type": "markdown",
      "source": [
        "##Data Preprocessing"
      ],
      "metadata": {
        "id": "XGLbKKDofVyO"
      }
    },
    {
      "cell_type": "markdown",
      "source": [
        "Before heading on to preprocess the data, I will assign `feature` and `target` variables from the original data set so that I can benchmark the performance of the model when trained with the original version of the data compared to when it is trained with preprocessed versions of the data.\n",
        "\n",
        "I will also assign `feature` and `target` variables for the one-hot encoded version of the data and the encoded & normalized version of the data in this section."
      ],
      "metadata": {
        "id": "W874JhTAyORk"
      }
    },
    {
      "cell_type": "code",
      "source": [
        "# Assign feature & target vectors\n",
        "\n",
        "X_original = facies_data.drop([\"Facies\", \"Well Name\", \"Formation\"], axis=1)\n",
        "y_original = facies_data[\"Facies\"]"
      ],
      "metadata": {
        "id": "O1G7HtfzyI0k"
      },
      "execution_count": null,
      "outputs": []
    },
    {
      "cell_type": "markdown",
      "source": [
        "### One-hot Encode categorical data"
      ],
      "metadata": {
        "id": "ApdlcimJfbu5"
      }
    },
    {
      "cell_type": "markdown",
      "source": [
        "I chose the one-hot method of encoding categorical data because the categorical data points were non-hierachial and independent of each other."
      ],
      "metadata": {
        "id": "f_uGXtle1dY_"
      }
    },
    {
      "cell_type": "code",
      "source": [
        "# encode data\n",
        "facies_data_encoded = pd.get_dummies(facies_data)\n",
        "\n",
        "facies_data_encoded.head()"
      ],
      "metadata": {
        "colab": {
          "base_uri": "https://localhost:8080/",
          "height": 334
        },
        "id": "h0-kfDr_ACts",
        "outputId": "e5509521-a3c8-4b7c-f253-b44334ee3f58"
      },
      "execution_count": 4,
      "outputs": [
        {
          "output_type": "execute_result",
          "data": {
            "text/plain": [
              "   Facies   Depth     GR  ILD_log10  DeltaPHI   PHIND   PE  NM_M  RELPOS  \\\n",
              "0       3  2793.0  77.45      0.664       9.9  11.915  4.6     1   1.000   \n",
              "1       3  2793.5  78.26      0.661      14.2  12.565  4.1     1   0.979   \n",
              "2       3  2794.0  79.05      0.658      14.8  13.050  3.6     1   0.957   \n",
              "3       3  2794.5  86.10      0.655      13.9  13.115  3.5     1   0.936   \n",
              "4       3  2795.0  74.58      0.647      13.5  13.300  3.4     1   0.915   \n",
              "\n",
              "   Formation_A1 LM  ...  Formation_C LM  Formation_C SH  \\\n",
              "0                0  ...               0               0   \n",
              "1                0  ...               0               0   \n",
              "2                0  ...               0               0   \n",
              "3                0  ...               0               0   \n",
              "4                0  ...               0               0   \n",
              "\n",
              "   Well Name_CHURCHMAN BIBLE  Well Name_CROSS H CATTLE  Well Name_LUKE G U  \\\n",
              "0                          0                         0                   0   \n",
              "1                          0                         0                   0   \n",
              "2                          0                         0                   0   \n",
              "3                          0                         0                   0   \n",
              "4                          0                         0                   0   \n",
              "\n",
              "   Well Name_NEWBY  Well Name_NOLAN  Well Name_Recruit F9  Well Name_SHANKLE  \\\n",
              "0                0                0                     0                  0   \n",
              "1                0                0                     0                  0   \n",
              "2                0                0                     0                  0   \n",
              "3                0                0                     0                  0   \n",
              "4                0                0                     0                  0   \n",
              "\n",
              "   Well Name_SHRIMPLIN  \n",
              "0                    1  \n",
              "1                    1  \n",
              "2                    1  \n",
              "3                    1  \n",
              "4                    1  \n",
              "\n",
              "[5 rows x 31 columns]"
            ],
            "text/html": [
              "\n",
              "  <div id=\"df-a2a92dbb-4217-4f9e-8b1d-6bd3c4f3683d\">\n",
              "    <div class=\"colab-df-container\">\n",
              "      <div>\n",
              "<style scoped>\n",
              "    .dataframe tbody tr th:only-of-type {\n",
              "        vertical-align: middle;\n",
              "    }\n",
              "\n",
              "    .dataframe tbody tr th {\n",
              "        vertical-align: top;\n",
              "    }\n",
              "\n",
              "    .dataframe thead th {\n",
              "        text-align: right;\n",
              "    }\n",
              "</style>\n",
              "<table border=\"1\" class=\"dataframe\">\n",
              "  <thead>\n",
              "    <tr style=\"text-align: right;\">\n",
              "      <th></th>\n",
              "      <th>Facies</th>\n",
              "      <th>Depth</th>\n",
              "      <th>GR</th>\n",
              "      <th>ILD_log10</th>\n",
              "      <th>DeltaPHI</th>\n",
              "      <th>PHIND</th>\n",
              "      <th>PE</th>\n",
              "      <th>NM_M</th>\n",
              "      <th>RELPOS</th>\n",
              "      <th>Formation_A1 LM</th>\n",
              "      <th>...</th>\n",
              "      <th>Formation_C LM</th>\n",
              "      <th>Formation_C SH</th>\n",
              "      <th>Well Name_CHURCHMAN BIBLE</th>\n",
              "      <th>Well Name_CROSS H CATTLE</th>\n",
              "      <th>Well Name_LUKE G U</th>\n",
              "      <th>Well Name_NEWBY</th>\n",
              "      <th>Well Name_NOLAN</th>\n",
              "      <th>Well Name_Recruit F9</th>\n",
              "      <th>Well Name_SHANKLE</th>\n",
              "      <th>Well Name_SHRIMPLIN</th>\n",
              "    </tr>\n",
              "  </thead>\n",
              "  <tbody>\n",
              "    <tr>\n",
              "      <th>0</th>\n",
              "      <td>3</td>\n",
              "      <td>2793.0</td>\n",
              "      <td>77.45</td>\n",
              "      <td>0.664</td>\n",
              "      <td>9.9</td>\n",
              "      <td>11.915</td>\n",
              "      <td>4.6</td>\n",
              "      <td>1</td>\n",
              "      <td>1.000</td>\n",
              "      <td>0</td>\n",
              "      <td>...</td>\n",
              "      <td>0</td>\n",
              "      <td>0</td>\n",
              "      <td>0</td>\n",
              "      <td>0</td>\n",
              "      <td>0</td>\n",
              "      <td>0</td>\n",
              "      <td>0</td>\n",
              "      <td>0</td>\n",
              "      <td>0</td>\n",
              "      <td>1</td>\n",
              "    </tr>\n",
              "    <tr>\n",
              "      <th>1</th>\n",
              "      <td>3</td>\n",
              "      <td>2793.5</td>\n",
              "      <td>78.26</td>\n",
              "      <td>0.661</td>\n",
              "      <td>14.2</td>\n",
              "      <td>12.565</td>\n",
              "      <td>4.1</td>\n",
              "      <td>1</td>\n",
              "      <td>0.979</td>\n",
              "      <td>0</td>\n",
              "      <td>...</td>\n",
              "      <td>0</td>\n",
              "      <td>0</td>\n",
              "      <td>0</td>\n",
              "      <td>0</td>\n",
              "      <td>0</td>\n",
              "      <td>0</td>\n",
              "      <td>0</td>\n",
              "      <td>0</td>\n",
              "      <td>0</td>\n",
              "      <td>1</td>\n",
              "    </tr>\n",
              "    <tr>\n",
              "      <th>2</th>\n",
              "      <td>3</td>\n",
              "      <td>2794.0</td>\n",
              "      <td>79.05</td>\n",
              "      <td>0.658</td>\n",
              "      <td>14.8</td>\n",
              "      <td>13.050</td>\n",
              "      <td>3.6</td>\n",
              "      <td>1</td>\n",
              "      <td>0.957</td>\n",
              "      <td>0</td>\n",
              "      <td>...</td>\n",
              "      <td>0</td>\n",
              "      <td>0</td>\n",
              "      <td>0</td>\n",
              "      <td>0</td>\n",
              "      <td>0</td>\n",
              "      <td>0</td>\n",
              "      <td>0</td>\n",
              "      <td>0</td>\n",
              "      <td>0</td>\n",
              "      <td>1</td>\n",
              "    </tr>\n",
              "    <tr>\n",
              "      <th>3</th>\n",
              "      <td>3</td>\n",
              "      <td>2794.5</td>\n",
              "      <td>86.10</td>\n",
              "      <td>0.655</td>\n",
              "      <td>13.9</td>\n",
              "      <td>13.115</td>\n",
              "      <td>3.5</td>\n",
              "      <td>1</td>\n",
              "      <td>0.936</td>\n",
              "      <td>0</td>\n",
              "      <td>...</td>\n",
              "      <td>0</td>\n",
              "      <td>0</td>\n",
              "      <td>0</td>\n",
              "      <td>0</td>\n",
              "      <td>0</td>\n",
              "      <td>0</td>\n",
              "      <td>0</td>\n",
              "      <td>0</td>\n",
              "      <td>0</td>\n",
              "      <td>1</td>\n",
              "    </tr>\n",
              "    <tr>\n",
              "      <th>4</th>\n",
              "      <td>3</td>\n",
              "      <td>2795.0</td>\n",
              "      <td>74.58</td>\n",
              "      <td>0.647</td>\n",
              "      <td>13.5</td>\n",
              "      <td>13.300</td>\n",
              "      <td>3.4</td>\n",
              "      <td>1</td>\n",
              "      <td>0.915</td>\n",
              "      <td>0</td>\n",
              "      <td>...</td>\n",
              "      <td>0</td>\n",
              "      <td>0</td>\n",
              "      <td>0</td>\n",
              "      <td>0</td>\n",
              "      <td>0</td>\n",
              "      <td>0</td>\n",
              "      <td>0</td>\n",
              "      <td>0</td>\n",
              "      <td>0</td>\n",
              "      <td>1</td>\n",
              "    </tr>\n",
              "  </tbody>\n",
              "</table>\n",
              "<p>5 rows × 31 columns</p>\n",
              "</div>\n",
              "      <button class=\"colab-df-convert\" onclick=\"convertToInteractive('df-a2a92dbb-4217-4f9e-8b1d-6bd3c4f3683d')\"\n",
              "              title=\"Convert this dataframe to an interactive table.\"\n",
              "              style=\"display:none;\">\n",
              "        \n",
              "  <svg xmlns=\"http://www.w3.org/2000/svg\" height=\"24px\"viewBox=\"0 0 24 24\"\n",
              "       width=\"24px\">\n",
              "    <path d=\"M0 0h24v24H0V0z\" fill=\"none\"/>\n",
              "    <path d=\"M18.56 5.44l.94 2.06.94-2.06 2.06-.94-2.06-.94-.94-2.06-.94 2.06-2.06.94zm-11 1L8.5 8.5l.94-2.06 2.06-.94-2.06-.94L8.5 2.5l-.94 2.06-2.06.94zm10 10l.94 2.06.94-2.06 2.06-.94-2.06-.94-.94-2.06-.94 2.06-2.06.94z\"/><path d=\"M17.41 7.96l-1.37-1.37c-.4-.4-.92-.59-1.43-.59-.52 0-1.04.2-1.43.59L10.3 9.45l-7.72 7.72c-.78.78-.78 2.05 0 2.83L4 21.41c.39.39.9.59 1.41.59.51 0 1.02-.2 1.41-.59l7.78-7.78 2.81-2.81c.8-.78.8-2.07 0-2.86zM5.41 20L4 18.59l7.72-7.72 1.47 1.35L5.41 20z\"/>\n",
              "  </svg>\n",
              "      </button>\n",
              "      \n",
              "  <style>\n",
              "    .colab-df-container {\n",
              "      display:flex;\n",
              "      flex-wrap:wrap;\n",
              "      gap: 12px;\n",
              "    }\n",
              "\n",
              "    .colab-df-convert {\n",
              "      background-color: #E8F0FE;\n",
              "      border: none;\n",
              "      border-radius: 50%;\n",
              "      cursor: pointer;\n",
              "      display: none;\n",
              "      fill: #1967D2;\n",
              "      height: 32px;\n",
              "      padding: 0 0 0 0;\n",
              "      width: 32px;\n",
              "    }\n",
              "\n",
              "    .colab-df-convert:hover {\n",
              "      background-color: #E2EBFA;\n",
              "      box-shadow: 0px 1px 2px rgba(60, 64, 67, 0.3), 0px 1px 3px 1px rgba(60, 64, 67, 0.15);\n",
              "      fill: #174EA6;\n",
              "    }\n",
              "\n",
              "    [theme=dark] .colab-df-convert {\n",
              "      background-color: #3B4455;\n",
              "      fill: #D2E3FC;\n",
              "    }\n",
              "\n",
              "    [theme=dark] .colab-df-convert:hover {\n",
              "      background-color: #434B5C;\n",
              "      box-shadow: 0px 1px 3px 1px rgba(0, 0, 0, 0.15);\n",
              "      filter: drop-shadow(0px 1px 2px rgba(0, 0, 0, 0.3));\n",
              "      fill: #FFFFFF;\n",
              "    }\n",
              "  </style>\n",
              "\n",
              "      <script>\n",
              "        const buttonEl =\n",
              "          document.querySelector('#df-a2a92dbb-4217-4f9e-8b1d-6bd3c4f3683d button.colab-df-convert');\n",
              "        buttonEl.style.display =\n",
              "          google.colab.kernel.accessAllowed ? 'block' : 'none';\n",
              "\n",
              "        async function convertToInteractive(key) {\n",
              "          const element = document.querySelector('#df-a2a92dbb-4217-4f9e-8b1d-6bd3c4f3683d');\n",
              "          const dataTable =\n",
              "            await google.colab.kernel.invokeFunction('convertToInteractive',\n",
              "                                                     [key], {});\n",
              "          if (!dataTable) return;\n",
              "\n",
              "          const docLinkHtml = 'Like what you see? Visit the ' +\n",
              "            '<a target=\"_blank\" href=https://colab.research.google.com/notebooks/data_table.ipynb>data table notebook</a>'\n",
              "            + ' to learn more about interactive tables.';\n",
              "          element.innerHTML = '';\n",
              "          dataTable['output_type'] = 'display_data';\n",
              "          await google.colab.output.renderOutput(dataTable, element);\n",
              "          const docLink = document.createElement('div');\n",
              "          docLink.innerHTML = docLinkHtml;\n",
              "          element.appendChild(docLink);\n",
              "        }\n",
              "      </script>\n",
              "    </div>\n",
              "  </div>\n",
              "  "
            ]
          },
          "metadata": {},
          "execution_count": 4
        }
      ]
    },
    {
      "cell_type": "markdown",
      "source": [
        "I will set aside one well to use to validate the performance of the model after training and testing. The predicted facies of this well will be visualized to show what the model's predictions look like in comparison to the through facies."
      ],
      "metadata": {
        "id": "DqphHjlr0P3D"
      }
    },
    {
      "cell_type": "code",
      "source": [
        "# Data points from one of the wells in the data set will be used for model validation (Blind data)\n",
        "\n",
        "blind = facies_data_encoded[facies_data_encoded['Well Name_SHANKLE'] == 1]\n",
        "facies_data_encoded = facies_data_encoded[facies_data_encoded['Well Name_SHANKLE'] != 1]\n",
        "blind.info()"
      ],
      "metadata": {
        "id": "YaNBhTT2aLxq",
        "colab": {
          "base_uri": "https://localhost:8080/"
        },
        "outputId": "df26d70f-f404-495f-e7ec-fa662f14a8f8"
      },
      "execution_count": 5,
      "outputs": [
        {
          "output_type": "stream",
          "name": "stdout",
          "text": [
            "<class 'pandas.core.frame.DataFrame'>\n",
            "Int64Index: 449 entries, 471 to 919\n",
            "Data columns (total 31 columns):\n",
            " #   Column                     Non-Null Count  Dtype  \n",
            "---  ------                     --------------  -----  \n",
            " 0   Facies                     449 non-null    int64  \n",
            " 1   Depth                      449 non-null    float64\n",
            " 2   GR                         449 non-null    float64\n",
            " 3   ILD_log10                  449 non-null    float64\n",
            " 4   DeltaPHI                   449 non-null    float64\n",
            " 5   PHIND                      449 non-null    float64\n",
            " 6   PE                         449 non-null    float64\n",
            " 7   NM_M                       449 non-null    int64  \n",
            " 8   RELPOS                     449 non-null    float64\n",
            " 9   Formation_A1 LM            449 non-null    uint8  \n",
            " 10  Formation_A1 SH            449 non-null    uint8  \n",
            " 11  Formation_B1 LM            449 non-null    uint8  \n",
            " 12  Formation_B1 SH            449 non-null    uint8  \n",
            " 13  Formation_B2 LM            449 non-null    uint8  \n",
            " 14  Formation_B2 SH            449 non-null    uint8  \n",
            " 15  Formation_B3 LM            449 non-null    uint8  \n",
            " 16  Formation_B3 SH            449 non-null    uint8  \n",
            " 17  Formation_B4 LM            449 non-null    uint8  \n",
            " 18  Formation_B4 SH            449 non-null    uint8  \n",
            " 19  Formation_B5 LM            449 non-null    uint8  \n",
            " 20  Formation_B5 SH            449 non-null    uint8  \n",
            " 21  Formation_C LM             449 non-null    uint8  \n",
            " 22  Formation_C SH             449 non-null    uint8  \n",
            " 23  Well Name_CHURCHMAN BIBLE  449 non-null    uint8  \n",
            " 24  Well Name_CROSS H CATTLE   449 non-null    uint8  \n",
            " 25  Well Name_LUKE G U         449 non-null    uint8  \n",
            " 26  Well Name_NEWBY            449 non-null    uint8  \n",
            " 27  Well Name_NOLAN            449 non-null    uint8  \n",
            " 28  Well Name_Recruit F9       449 non-null    uint8  \n",
            " 29  Well Name_SHANKLE          449 non-null    uint8  \n",
            " 30  Well Name_SHRIMPLIN        449 non-null    uint8  \n",
            "dtypes: float64(7), int64(2), uint8(22)\n",
            "memory usage: 44.7 KB\n"
          ]
        }
      ]
    },
    {
      "cell_type": "code",
      "source": [
        "# Assign feature & target vectors for encoded version of dataset\n",
        "\n",
        "X_encoded= facies_data_encoded.drop([\"Facies\"], axis=1)\n",
        "y_encoded = facies_data_encoded[\"Facies\"]"
      ],
      "metadata": {
        "id": "Ch7Sl5ygwp6M"
      },
      "execution_count": null,
      "outputs": []
    },
    {
      "cell_type": "markdown",
      "source": [
        "###Normalize Data"
      ],
      "metadata": {
        "id": "Qq8Yve18waQq"
      }
    },
    {
      "cell_type": "markdown",
      "source": [
        "The method of normalization chosen for this dataset is `Power Transform` because it applies a mean of `0` and a variance of `1` to the tranformed data. It was chosen over alternatives like `StandardScaler` (which gives unit variance(1) but a mean that is not always equal to 0 but is rather still dependent on the scale of the data values) and `Normalize` (which a normal distribution but not having a mean of `0` and a variance of `1`) because this all the features of the data set are not on the same scale of values and the data contains outliers. Power Transforms normalizes data, setting all the features on the same scale and minimizes the impact outliers."
      ],
      "metadata": {
        "id": "bHf9u9WXwUFT"
      }
    },
    {
      "cell_type": "code",
      "source": [
        "# Normalize the feature vectors after one-hot encoding\n",
        "from sklearn.preprocessing import PowerTransformer\n",
        "pt = PowerTransformer()\n",
        "\n",
        "# Assign feature & target vectors for normalized and encoded version of the dataset\n",
        "X_norm = pt.fit_transform(X_encoded)\n",
        "y_norm = facies_data_encoded[\"Facies\"]"
      ],
      "metadata": {
        "id": "9bEauu5Auf9Q",
        "colab": {
          "base_uri": "https://localhost:8080/"
        },
        "outputId": "1b057e22-21a4-41d1-be6f-acef99762c16"
      },
      "execution_count": null,
      "outputs": [
        {
          "output_type": "stream",
          "name": "stderr",
          "text": [
            "/usr/local/lib/python3.7/dist-packages/sklearn/preprocessing/_data.py:3253: RuntimeWarning: divide by zero encountered in log\n",
            "  loglike = -n_samples / 2 * np.log(x_trans.var())\n"
          ]
        }
      ]
    },
    {
      "cell_type": "markdown",
      "source": [
        "The Dataset variations to be used for training:\n",
        "\n",
        "  * original dataset: X_original (features) & y_original (target)\n",
        "  * encoded dataset: X_encoded (features) & y_encoded (target)\n",
        "  * encoded & normalized dataset: X_norm (features) & y_norm (target)"
      ],
      "metadata": {
        "id": "D_QL5Irf2kWi"
      }
    },
    {
      "cell_type": "markdown",
      "source": [
        "###Train-Test-Validation Split"
      ],
      "metadata": {
        "id": "qDxvUCq9XRN0"
      }
    },
    {
      "cell_type": "markdown",
      "source": [
        "A test set size of 25% was chosen arbitrarily concidering that this a moderate size data set."
      ],
      "metadata": {
        "id": "TEJpV7yZQRCB"
      }
    },
    {
      "cell_type": "code",
      "source": [
        "# Split the data such that the distribution in % of the train/test/blind set per target class is not far apart\n",
        "\n",
        "from sklearn.model_selection import train_test_split\n",
        "\n",
        "X_train, X_test, y_train, y_test = train_test_split(X_original, y_original, test_size=0.25, random_state=20, shuffle=True)"
      ],
      "metadata": {
        "id": "0RbnG5IXEMLI"
      },
      "execution_count": null,
      "outputs": []
    },
    {
      "cell_type": "code",
      "source": [
        "# Split the data such that the distribution in % of the train/test/blind set per target class is not far apart\n",
        "\n",
        "from sklearn.model_selection import train_test_split\n",
        "\n",
        "X_train_encoded, X_test_encoded, y_train_encoded, y_test_encoded = train_test_split(X_encoded, y_encoded, test_size=0.25, random_state=20, shuffle=True)"
      ],
      "metadata": {
        "id": "HYmIc1j6EaVn"
      },
      "execution_count": null,
      "outputs": []
    },
    {
      "cell_type": "code",
      "source": [
        "# Split the data such that the distribution in % of the train/test/blind set per target class is not far apart\n",
        "\n",
        "from sklearn.model_selection import train_test_split\n",
        "\n",
        "X_train_norm, X_test_norm, y_train_norm, y_test_norm = train_test_split(X_norm, y_norm, test_size=0.25, random_state=20, shuffle=True)"
      ],
      "metadata": {
        "id": "SoGJkAVpEe5G"
      },
      "execution_count": null,
      "outputs": []
    },
    {
      "cell_type": "markdown",
      "source": [
        "## Model Training & Evaluation"
      ],
      "metadata": {
        "id": "zEeeocbRRmwL"
      }
    },
    {
      "cell_type": "markdown",
      "source": [
        "*Choosing evaluation metrics*\n",
        "\n",
        "The K-fold cross-validation will be used for evaluating the model because it gives a more wholistic view of the performance of the trained model. This method divides the training data into k-number of subsets (with approximately equal number of samples), trains the model on k-1 subsets of the data and validates the model's generalization on unseen data with the one subset that was left out during training. It repeats this process k-number of times, each time keeping aside a different subset for validation, and at the end, it returns an average of the validation performance score or the different subsets. \n",
        "\n",
        "I have chosen to use the `StratifiedKFold` method because it splits the data samples while ensuring that each `Target class` is approximately evenly distributed in the folds. This gives a performance score of the model on predicting different portions of the data while reducing the effect of class imbalance (observed during the data exploration) on the model performance.\n",
        "\n",
        "There is a bias-variance trade-off associated with the choice of k in k-fold cross-validation. Typically, given these considerations, one performs k-fold cross-validation using k = 5 or k = 10, as these values have been shown empirically to yield test error rate estimates that suffer neither from excessively high bias nor from very high variance [An Introduction to Statistical Learning, 2013](https://amzn.to/2FkHqvW). \n",
        "\n",
        "After experimenting with both, I have decided to go with k=5 because it yields the same accuracy as 10 in this project and is less computationally expensive.\n",
        "\n",
        "I scored the kfold cross-validation on the recommended metrics for the entire dataset."
      ],
      "metadata": {
        "id": "pRpQXR0Ha_7Z"
      }
    },
    {
      "cell_type": "code",
      "source": [
        "# Import evaluation metrics\n",
        "from sklearn.metrics import accuracy_score, f1_score, recall_score, precision_score, ConfusionMatrixDisplay\n",
        "from sklearn.model_selection import cross_val_score\n",
        "from sklearn.model_selection import StratifiedKFold"
      ],
      "metadata": {
        "id": "blBdF-gfi5YB"
      },
      "execution_count": null,
      "outputs": []
    },
    {
      "cell_type": "code",
      "source": [
        "# Function for model stratified kfold evaluation\n",
        "\n",
        "def eval_kfold(model, X_train, y_train):\n",
        "  \"\"\"\n",
        "  Function to evaluate the model based on kfold crossvalidation using 'Accuracy'.\n",
        "\n",
        "  Kwargs:\n",
        "  model = Instatiated estimator\n",
        "  X_train = feature variable in the dataset version used for training\n",
        "  y_train = target variable in the dataset version used for training\n",
        "  \"\"\"\n",
        "\n",
        "  kfold_acc = cross_val_score(estimator=model, X=X_train, y=y_train, cv=StratifiedKFold(n_splits=10, random_state=20, shuffle=True), scoring='accuracy')\n",
        " \n",
        "  print('KFold Accuracy: %.2f%%' % (np.mean(kfold_acc)*100))\n",
        "\n",
        "  return"
      ],
      "metadata": {
        "id": "U4lWFVn0TjNw"
      },
      "execution_count": null,
      "outputs": []
    },
    {
      "cell_type": "code",
      "source": [
        "from google.colab import files\n",
        "\n",
        "files.upload()"
      ],
      "metadata": {
        "id": "aHSAPBcKYbj_"
      },
      "execution_count": null,
      "outputs": []
    },
    {
      "cell_type": "code",
      "source": [
        "from sklearn.metrics import confusion_matrix, f1_score\n",
        "# Function for model evaluation (Hackerthon version)\n",
        "\n",
        "from classification_utilities import display_cm, display_adj_cm\n",
        "\n",
        "\n",
        "adjacent_facies = np.array([[1], [0,2], [1], [4], [3,5], [4,6,7], [5,7], [5,6,8], [6,7]])\n",
        "\n",
        "def adjacent_accuracy(conf_matrix, adjacent_facies):\n",
        "    nb_classes = conf_matrix.shape[0]\n",
        "    total_correct = 0.\n",
        "    for i in np.arange(0,nb_classes):\n",
        "        total_correct += conf_matrix[i][i]\n",
        "        for j in adjacent_facies[i]:\n",
        "            total_correct += conf_matrix[i][j]\n",
        "    return total_correct / sum(sum(conf_matrix))\n",
        "\n",
        "def evaluate_model(y_pred, y_true=y_test):\n",
        "\n",
        "  facies_names = ['SS', 'CSiS', 'FSiS', 'SiSh', 'MS', 'WS', 'D', 'PS', 'BS']\n",
        "\n",
        "  acc_score = accuracy_score(y_true, y_pred)\n",
        "\n",
        "  # Confusion Matrix\n",
        "  conf_matrix = confusion_matrix(y_true, y_pred)\n",
        "\n",
        "  adj_acc_score = adjacent_accuracy(conf_matrix, adjacent_facies)\n",
        "\n",
        "\n",
        "  print('Accuracy: ', acc_score)\n",
        "  print('Adjacent Facie Accuracy: ', adj_acc_score, '\\n')\n",
        "\n",
        "  display_cm(conf_matrix, facies_names, display_metrics=True, hide_zeros=True)\n",
        "\n",
        "  return"
      ],
      "metadata": {
        "colab": {
          "base_uri": "https://localhost:8080/"
        },
        "id": "WZ7HHjh7z89d",
        "outputId": "8266110a-e6a6-4318-dee5-1d151f7692cd"
      },
      "execution_count": null,
      "outputs": [
        {
          "output_type": "stream",
          "name": "stderr",
          "text": [
            "/usr/local/lib/python3.7/dist-packages/ipykernel_launcher.py:7: VisibleDeprecationWarning: Creating an ndarray from ragged nested sequences (which is a list-or-tuple of lists-or-tuples-or ndarrays with different lengths or shapes) is deprecated. If you meant to do this, you must specify 'dtype=object' when creating the ndarray.\n",
            "  import sys\n"
          ]
        }
      ]
    },
    {
      "cell_type": "markdown",
      "source": [
        "###Logistic Regression"
      ],
      "metadata": {
        "id": "oCkX9GqJbm7l"
      }
    },
    {
      "cell_type": "code",
      "source": [
        "# Instantiate model\n",
        "\n",
        "from sklearn.linear_model import LogisticRegression\n",
        "\n",
        "logr_model = LogisticRegression(solver='lbfgs', max_iter=500)"
      ],
      "metadata": {
        "id": "WgZwBDsebjxz"
      },
      "execution_count": null,
      "outputs": []
    },
    {
      "cell_type": "code",
      "source": [
        "# Check model kfold performance\n",
        "eval_kfold(model=logr_model, X_train=X_train_norm, y_train=y_train_norm)"
      ],
      "metadata": {
        "colab": {
          "base_uri": "https://localhost:8080/"
        },
        "id": "acdXW8eO_rL7",
        "outputId": "58335c26-3edd-47b9-feb7-a0495128112a"
      },
      "execution_count": null,
      "outputs": [
        {
          "output_type": "stream",
          "name": "stdout",
          "text": [
            "KFold Accuracy: 68.61%\n"
          ]
        }
      ]
    },
    {
      "cell_type": "code",
      "source": [
        "# train model\n",
        "logr_model_norm = logr_model.fit(X_train_norm, y_train_norm)\n",
        "\n",
        "# make prediction\n",
        "y_pred_norm = logr_model_norm.predict(X_test_norm)\n",
        "\n",
        "# evaluate model\n",
        "evaluate_model(y_pred=y_pred_norm, y_true=y_test_norm)"
      ],
      "metadata": {
        "colab": {
          "base_uri": "https://localhost:8080/"
        },
        "id": "PCZPkW6Q_rY9",
        "outputId": "e9343d00-820a-4ff2-ca75-3244d1089d4b"
      },
      "execution_count": null,
      "outputs": [
        {
          "output_type": "stream",
          "name": "stdout",
          "text": [
            "Accuracy:  0.6853448275862069\n",
            "Adjacent Facie Accuracy:  0.9324712643678161 \n",
            "\n",
            "     Pred    SS  CSiS  FSiS  SiSh    MS    WS     D    PS    BS Total\n",
            "     True\n",
            "       SS    33     5                                              38\n",
            "     CSiS     8   133    31                                       172\n",
            "     FSiS          38    81     1           2                     122\n",
            "     SiSh           2          18     5     9           4          38\n",
            "       MS           1           6    28     7     1     6          49\n",
            "       WS                       8     7    65     3    13     1    97\n",
            "        D                                   2    12     5     1    20\n",
            "       PS                 2     1     6    31     3    78     6   127\n",
            "       BS                                   2           2    29    33\n",
            "\n",
            "Precision  0.80  0.74  0.71  0.53  0.61  0.55  0.63  0.72  0.78  0.69\n",
            "   Recall  0.87  0.77  0.66  0.47  0.57  0.67  0.60  0.61  0.88  0.69\n",
            "       F1  0.84  0.76  0.69  0.50  0.59  0.60  0.62  0.66  0.83  0.68\n"
          ]
        }
      ]
    },
    {
      "cell_type": "markdown",
      "source": [
        "The logistic regression model trained on the normalized data had an accuracy of approximately 68%. on both kfold cross-validation and the test set used for evaluation."
      ],
      "metadata": {
        "id": "zNkp9zR3_0UN"
      }
    },
    {
      "cell_type": "code",
      "source": [
        "# Check model kfold performance \n",
        "eval_kfold(model=logr_model, X_train=X_train_encoded, y_train=y_train_encoded)"
      ],
      "metadata": {
        "id": "M6lwC_lb_qmS"
      },
      "execution_count": null,
      "outputs": []
    },
    {
      "cell_type": "code",
      "source": [
        "# train model\n",
        "logr_model_encoded = logr_model.fit(X_train_encoded, y_train_encoded)\n",
        "\n",
        "# make prediction\n",
        "y_pred_encoded = logr_model_encoded.predict(X_test_encoded)\n",
        "\n",
        "# evaluate model\n",
        "evaluate_model(y_pred=y_pred_encoded, y_true=y_test_encoded)"
      ],
      "metadata": {
        "colab": {
          "base_uri": "https://localhost:8080/"
        },
        "id": "W1ODPRs7_q4J",
        "outputId": "559d6e47-d018-4aae-f38d-d800c9a20d95"
      },
      "execution_count": null,
      "outputs": [
        {
          "output_type": "stream",
          "name": "stdout",
          "text": [
            "Accuracy:  0.4295977011494253\n",
            "Adjacent Facie Accuracy:  0.8074712643678161 \n",
            "\n",
            "     Pred    SS  CSiS  FSiS  SiSh    MS    WS     D    PS    BS Total\n",
            "     True\n",
            "       SS          34     1                 2           1          38\n",
            "     CSiS         125    29                11           7         172\n",
            "     FSiS     3    55    53                 4           5     2   122\n",
            "     SiSh          15     2     6          11           4          38\n",
            "       MS          12                      33           3     1    49\n",
            "       WS          13     2                59          23          97\n",
            "        D           5     4                 4           6     1    20\n",
            "       PS          18     2     2          47          52     6   127\n",
            "       BS           1                       2          26     4    33\n",
            "\n",
            "Precision  0.00  0.45  0.57  0.75  0.00  0.34  0.00  0.41  0.29  0.39\n",
            "   Recall  0.00  0.73  0.43  0.16  0.00  0.61  0.00  0.41  0.12  0.43\n",
            "       F1  0.00  0.56  0.49  0.26  0.00  0.44  0.00  0.41  0.17  0.38\n"
          ]
        },
        {
          "output_type": "stream",
          "name": "stderr",
          "text": [
            "/usr/local/lib/python3.7/dist-packages/sklearn/linear_model/_logistic.py:818: ConvergenceWarning: lbfgs failed to converge (status=1):\n",
            "STOP: TOTAL NO. of ITERATIONS REACHED LIMIT.\n",
            "\n",
            "Increase the number of iterations (max_iter) or scale the data as shown in:\n",
            "    https://scikit-learn.org/stable/modules/preprocessing.html\n",
            "Please also refer to the documentation for alternative solver options:\n",
            "    https://scikit-learn.org/stable/modules/linear_model.html#logistic-regression\n",
            "  extra_warning_msg=_LOGISTIC_SOLVER_CONVERGENCE_MSG,\n",
            "/content/classification_utilities.py:13: RuntimeWarning: invalid value encountered in true_divide\n",
            "  precision = np.diagonal(cm)/cm.sum(axis=0).astype('float')\n",
            "/content/classification_utilities.py:15: RuntimeWarning: invalid value encountered in true_divide\n",
            "  F1 = 2 * (precision * recall) / (precision + recall)\n"
          ]
        }
      ]
    },
    {
      "cell_type": "markdown",
      "source": [
        "The kfold cross-validation on encoded dataset did not converge despite setting high `max-iter` value of 10000. The test set evaluation gave an accuracy 43%. This is lower than the normalized training logistic regression model."
      ],
      "metadata": {
        "id": "HwJm0WzHHMRl"
      }
    },
    {
      "cell_type": "code",
      "source": [
        "# Check model kfold performance\n",
        "eval_kfold(model=logr_model, X_train=X_train, y_train=y_train)"
      ],
      "metadata": {
        "id": "A1VUYxqNHMwc"
      },
      "execution_count": null,
      "outputs": []
    },
    {
      "cell_type": "code",
      "source": [
        "# train model\n",
        "logr_model_original = logr_model.fit(X_train, y_train)\n",
        "\n",
        "# make prediction\n",
        "y_pred = logr_model_original.predict(X_test)\n",
        "\n",
        "# evaluate model\n",
        "evaluate_model(y_pred=y_pred, y_true=y_test)"
      ],
      "metadata": {
        "colab": {
          "base_uri": "https://localhost:8080/"
        },
        "id": "xLH_R3zhHNHR",
        "outputId": "acbc2a57-9b97-4d1d-d889-571c11d6ad0e"
      },
      "execution_count": null,
      "outputs": [
        {
          "output_type": "stream",
          "name": "stdout",
          "text": [
            "Accuracy:  0.3873762376237624\n",
            "Adjacent Facie Accuracy:  0.7784653465346535 \n",
            "\n",
            "     Pred    SS  CSiS  FSiS  SiSh    MS    WS     D    PS    BS Total\n",
            "     True\n",
            "       SS          54    12                 4           5          75\n",
            "     CSiS         125    37                12           9         183\n",
            "     FSiS          74    68                 2           5         149\n",
            "     SiSh          26           2          17           5          50\n",
            "       MS           7     3     1          28          14          53\n",
            "       WS          13     1     2          68          42         126\n",
            "        D           5     5     2           1           7     1    21\n",
            "       PS          16     2     3          33          48     6   108\n",
            "       BS           3           2           3          33     2    43\n",
            "\n",
            "Precision  0.00  0.39  0.53  0.17  0.00  0.40  0.00  0.29  0.22  0.31\n",
            "   Recall  0.00  0.68  0.46  0.04  0.00  0.54  0.00  0.44  0.05  0.39\n",
            "       F1  0.00  0.49  0.49  0.06  0.00  0.46  0.00  0.35  0.08  0.33\n"
          ]
        },
        {
          "output_type": "stream",
          "name": "stderr",
          "text": [
            "/usr/local/lib/python3.7/dist-packages/sklearn/linear_model/_logistic.py:818: ConvergenceWarning: lbfgs failed to converge (status=1):\n",
            "STOP: TOTAL NO. of ITERATIONS REACHED LIMIT.\n",
            "\n",
            "Increase the number of iterations (max_iter) or scale the data as shown in:\n",
            "    https://scikit-learn.org/stable/modules/preprocessing.html\n",
            "Please also refer to the documentation for alternative solver options:\n",
            "    https://scikit-learn.org/stable/modules/linear_model.html#logistic-regression\n",
            "  extra_warning_msg=_LOGISTIC_SOLVER_CONVERGENCE_MSG,\n",
            "/content/classification_utilities.py:13: RuntimeWarning: invalid value encountered in true_divide\n",
            "  precision = np.diagonal(cm)/cm.sum(axis=0).astype('float')\n"
          ]
        }
      ]
    },
    {
      "cell_type": "markdown",
      "source": [
        "The kfold cross-validation on original dataset did not converge despite setting high `max-iter` value of 10000. The test set evaluation gave an accuracy 38.7%. This is the lowest performance so far."
      ],
      "metadata": {
        "id": "nx-25MkxPzyb"
      }
    },
    {
      "cell_type": "markdown",
      "source": [
        "###Decision Tree"
      ],
      "metadata": {
        "id": "xiFdjY0ab1kz"
      }
    },
    {
      "cell_type": "code",
      "source": [
        "# # Instantiate model\n",
        "from sklearn.tree import DecisionTreeClassifier\n",
        "\n",
        "d_tree_model = DecisionTreeClassifier(random_state=20)"
      ],
      "metadata": {
        "id": "fmolJ5BLb7AK"
      },
      "execution_count": null,
      "outputs": []
    },
    {
      "cell_type": "code",
      "source": [
        "# Check model kfold performance\n",
        "eval_kfold(model=d_tree_model, X_train=X_train_norm, y_train=y_train_norm)"
      ],
      "metadata": {
        "colab": {
          "base_uri": "https://localhost:8080/"
        },
        "id": "NYbB3ezvYfhW",
        "outputId": "9a1d71c5-e643-4686-ab2d-f71813139bfa"
      },
      "execution_count": null,
      "outputs": [
        {
          "output_type": "stream",
          "name": "stdout",
          "text": [
            "KFold Accuracy: 72.16%\n"
          ]
        }
      ]
    },
    {
      "cell_type": "code",
      "source": [
        "# train model\n",
        "d_tree_model_norm = d_tree_model.fit(X_train_norm, y_train_norm)\n",
        "\n",
        "# make prediction\n",
        "y_pred_norm = d_tree_model_norm.predict(X_test_norm)\n",
        "\n",
        "# evaluate model\n",
        "evaluate_model(y_pred=y_pred_norm, y_true=y_test_norm)"
      ],
      "metadata": {
        "colab": {
          "base_uri": "https://localhost:8080/"
        },
        "id": "o7iImESbfQ_f",
        "outputId": "5fdc1ab2-8b41-4b3b-8569-f91396ceb344"
      },
      "execution_count": null,
      "outputs": [
        {
          "output_type": "stream",
          "name": "stdout",
          "text": [
            "Accuracy:  0.7385057471264368\n",
            "Adjacent Facie Accuracy:  0.9109195402298851 \n",
            "\n",
            "     Pred    SS  CSiS  FSiS  SiSh    MS    WS     D    PS    BS Total\n",
            "     True\n",
            "       SS    36     1     1                                        38\n",
            "     CSiS     7   149    16                                       172\n",
            "     FSiS     1    29    83     2     4           2           1   122\n",
            "     SiSh                      24     2     7     1     4          38\n",
            "       MS           1           2    33     8     1     3     1    49\n",
            "       WS                       5     5    70     2    14     1    97\n",
            "        D           1     1                      16     1     1    20\n",
            "       PS     1     4     2     4    10    25     3    75     3   127\n",
            "       BS                                   3           2    28    33\n",
            "\n",
            "Precision  0.80  0.81  0.81  0.65  0.61  0.62  0.64  0.76  0.80  0.74\n",
            "   Recall  0.95  0.87  0.68  0.63  0.67  0.72  0.80  0.59  0.85  0.74\n",
            "       F1  0.87  0.83  0.74  0.64  0.64  0.67  0.71  0.66  0.82  0.74\n"
          ]
        }
      ]
    },
    {
      "cell_type": "markdown",
      "source": [
        "The Decision Tree model trained with the normalized data has a kfold accuracy of 72.16% and a test accuracy of 73.9% this is the in the notebook so far."
      ],
      "metadata": {
        "id": "d_vfG0SPI4DR"
      }
    },
    {
      "cell_type": "code",
      "source": [
        "# Check model kfold performance\n",
        "eval_kfold(model=d_tree_model, X_train=X_train_encoded, y_train=y_train_encoded)"
      ],
      "metadata": {
        "id": "YAqgFmdt3IC7",
        "colab": {
          "base_uri": "https://localhost:8080/"
        },
        "outputId": "7f018211-b3d7-4a1a-95a3-2b22eacaad8d"
      },
      "execution_count": null,
      "outputs": [
        {
          "output_type": "stream",
          "name": "stdout",
          "text": [
            "KFold Accuracy: 71.97%\n"
          ]
        }
      ]
    },
    {
      "cell_type": "code",
      "source": [
        "# train model\n",
        "d_tree_model.fit(X_train_encoded, y_train_encoded)\n",
        "\n",
        "# make prediction\n",
        "y_pred_encoded = d_tree_model.predict(X_test_encoded)\n",
        "\n",
        "# evaluate model\n",
        "evaluate_model(y_pred=y_pred_encoded, y_true=y_test_norm)"
      ],
      "metadata": {
        "colab": {
          "base_uri": "https://localhost:8080/"
        },
        "id": "O9blOkZDzVFJ",
        "outputId": "5e672844-1408-4d15-d619-4ab5ab54b658"
      },
      "execution_count": null,
      "outputs": [
        {
          "output_type": "stream",
          "name": "stdout",
          "text": [
            "Accuracy:  0.7399425287356322\n",
            "Adjacent Facie Accuracy:  0.9109195402298851 \n",
            "\n",
            "     Pred    SS  CSiS  FSiS  SiSh    MS    WS     D    PS    BS Total\n",
            "     True\n",
            "       SS    36     1     1                                        38\n",
            "     CSiS     7   149    16                                       172\n",
            "     FSiS     1    28    84     2     4           2           1   122\n",
            "     SiSh                      24     2     7     1     4          38\n",
            "       MS           1           2    33     8     1     3     1    49\n",
            "       WS                       5     5    70     2    14     1    97\n",
            "        D           1     1                      16     1     1    20\n",
            "       PS     1     4     2     4    10    25     3    75     3   127\n",
            "       BS                                   3           2    28    33\n",
            "\n",
            "Precision  0.80  0.81  0.81  0.65  0.61  0.62  0.64  0.76  0.80  0.74\n",
            "   Recall  0.95  0.87  0.69  0.63  0.67  0.72  0.80  0.59  0.85  0.74\n",
            "       F1  0.87  0.84  0.74  0.64  0.64  0.67  0.71  0.66  0.82  0.74\n"
          ]
        }
      ]
    },
    {
      "cell_type": "markdown",
      "source": [
        "The Decision Tree model trained with the encoded data has a kfold accuracy of 71.97% and a test accuracy of 73.99% this very close the the normalized data decision tree but since the normalized data decision tree has a higher kfold value, it will be taken as the higher performing model."
      ],
      "metadata": {
        "id": "ffFlcqhRJXsM"
      }
    },
    {
      "cell_type": "code",
      "source": [
        "# Check model kfold performance\n",
        "eval_kfold(model=d_tree_model, X_train=X_train, y_train=y_train)"
      ],
      "metadata": {
        "colab": {
          "base_uri": "https://localhost:8080/"
        },
        "id": "zVTS4JmfZuSq",
        "outputId": "cc37ea03-9cd3-439b-e993-69daedd4cdb4"
      },
      "execution_count": null,
      "outputs": [
        {
          "output_type": "stream",
          "name": "stdout",
          "text": [
            "KFold Accuracy: 66.41%\n"
          ]
        }
      ]
    },
    {
      "cell_type": "code",
      "source": [
        "# train model\n",
        "d_tree_model_original = d_tree_model.fit(X_train, y_train)\n",
        "\n",
        "# make prediction\n",
        "y_pred = d_tree_model_original.predict(X_test)\n",
        "\n",
        "# evaluate model\n",
        "evaluate_model(y_pred=y_pred, y_true=y_test)"
      ],
      "metadata": {
        "colab": {
          "base_uri": "https://localhost:8080/"
        },
        "id": "phBVyRmLJcsf",
        "outputId": "bff75d57-d39c-42ab-bc94-52d4f4e7a9a5"
      },
      "execution_count": null,
      "outputs": [
        {
          "output_type": "stream",
          "name": "stdout",
          "text": [
            "Accuracy:  0.6954022988505747\n",
            "Adjacent Facie Accuracy:  0.9252873563218391 \n",
            "\n",
            "     Pred    SS  CSiS  FSiS  SiSh    MS    WS     D    PS    BS Total\n",
            "     True\n",
            "       SS    29     7     2                                        38\n",
            "     CSiS     7   138    27                                       172\n",
            "     FSiS          36    84     2                                 122\n",
            "     SiSh     1     2     1    22     3     5           4          38\n",
            "       MS           1           4    31     5           8          49\n",
            "       WS                       3    10    65          18     1    97\n",
            "        D                                   2    14     3     1    20\n",
            "       PS           2     6     6     6    28     4    71     4   127\n",
            "       BS                             1                 2    30    33\n",
            "\n",
            "Precision  0.78  0.74  0.70  0.59  0.61  0.62  0.78  0.67  0.83  0.69\n",
            "   Recall  0.76  0.80  0.69  0.58  0.63  0.67  0.70  0.56  0.91  0.70\n",
            "       F1  0.77  0.77  0.69  0.59  0.62  0.64  0.74  0.61  0.87  0.69\n"
          ]
        }
      ]
    },
    {
      "cell_type": "markdown",
      "source": [
        "The Decision tree model trained on the original data set performs lower than the 2 other decision tree models."
      ],
      "metadata": {
        "id": "m-H0f_U0XoGe"
      }
    },
    {
      "cell_type": "markdown",
      "source": [
        "###Multi-layer Perception ANN\n"
      ],
      "metadata": {
        "id": "Ih5MCFnYb7S5"
      }
    },
    {
      "cell_type": "code",
      "source": [
        "# Import Tensorflow Framework\n",
        "import tensorflow as tf\n",
        "from tensorflow.keras import layers"
      ],
      "metadata": {
        "id": "aoQ6DN6qcLtR"
      },
      "execution_count": null,
      "outputs": []
    },
    {
      "cell_type": "code",
      "source": [
        "# Convert dataset to numpy array for training neural networks(nn) \n",
        "X_train_nn = np.asarray(X_train)\n",
        "\n",
        "X_test_nn = np.asarray(X_test)\n",
        "\n",
        "y_train_nn = np.asarray(y_train)\n",
        "\n",
        "y_test_nn= np.asarray(y_test)\n",
        "\n",
        "# add normalization layer\n",
        "normalize = layers.Normalization()\n",
        "normalize.adapt(X_train_nn)"
      ],
      "metadata": {
        "id": "_CHy7-CBJG1A"
      },
      "execution_count": null,
      "outputs": []
    },
    {
      "cell_type": "code",
      "source": [
        "# create model\n",
        "\n",
        "mlp_model = tf.keras.models.Sequential([\n",
        "  normalize,\n",
        "  tf.keras.layers.Dense(128, activation='relu'),\n",
        "  tf.keras.layers.Dropout(0.2),\n",
        "  tf.keras.layers.Dense(10, activation='softmax')\n",
        "])\n",
        "\n",
        "# Assign model parameters\n",
        "mlp_model.compile(optimizer='adam',\n",
        "              loss='sparse_categorical_crossentropy',\n",
        "              metrics=['accuracy'])\n",
        "\n",
        "# train model\n",
        "mlp_model = mlp_model.fit(X_train_nn, y_train_nn, epochs=20)"
      ],
      "metadata": {
        "colab": {
          "base_uri": "https://localhost:8080/"
        },
        "id": "4AgtuKS_KEdL",
        "outputId": "755795dc-9d5a-40c0-edfc-3d5b26c8811e"
      },
      "execution_count": null,
      "outputs": [
        {
          "output_type": "stream",
          "name": "stdout",
          "text": [
            "Epoch 1/20\n",
            "66/66 [==============================] - 0s 1ms/step - loss: 1.8169 - accuracy: 0.3517\n",
            "Epoch 2/20\n",
            "66/66 [==============================] - 0s 1ms/step - loss: 1.3596 - accuracy: 0.4878\n",
            "Epoch 3/20\n",
            "66/66 [==============================] - 0s 1ms/step - loss: 1.1908 - accuracy: 0.5486\n",
            "Epoch 4/20\n",
            "66/66 [==============================] - 0s 2ms/step - loss: 1.1188 - accuracy: 0.5553\n",
            "Epoch 5/20\n",
            "66/66 [==============================] - 0s 1ms/step - loss: 1.0666 - accuracy: 0.5774\n",
            "Epoch 6/20\n",
            "66/66 [==============================] - 0s 2ms/step - loss: 1.0414 - accuracy: 0.5769\n",
            "Epoch 7/20\n",
            "66/66 [==============================] - 0s 2ms/step - loss: 1.0114 - accuracy: 0.6004\n",
            "Epoch 8/20\n",
            "66/66 [==============================] - 0s 1ms/step - loss: 0.9864 - accuracy: 0.6023\n",
            "Epoch 9/20\n",
            "66/66 [==============================] - 0s 2ms/step - loss: 0.9782 - accuracy: 0.5985\n",
            "Epoch 10/20\n",
            "66/66 [==============================] - 0s 1ms/step - loss: 0.9672 - accuracy: 0.6095\n",
            "Epoch 11/20\n",
            "66/66 [==============================] - 0s 1ms/step - loss: 0.9551 - accuracy: 0.6133\n",
            "Epoch 12/20\n",
            "66/66 [==============================] - 0s 1ms/step - loss: 0.9471 - accuracy: 0.6152\n",
            "Epoch 13/20\n",
            "66/66 [==============================] - 0s 1ms/step - loss: 0.9268 - accuracy: 0.6263\n",
            "Epoch 14/20\n",
            "66/66 [==============================] - 0s 1ms/step - loss: 0.9335 - accuracy: 0.6181\n",
            "Epoch 15/20\n",
            "66/66 [==============================] - 0s 1ms/step - loss: 0.9158 - accuracy: 0.6272\n",
            "Epoch 16/20\n",
            "66/66 [==============================] - 0s 1ms/step - loss: 0.9071 - accuracy: 0.6296\n",
            "Epoch 17/20\n",
            "66/66 [==============================] - 0s 1ms/step - loss: 0.9101 - accuracy: 0.6354\n",
            "Epoch 18/20\n",
            "66/66 [==============================] - 0s 1ms/step - loss: 0.8984 - accuracy: 0.6425\n",
            "Epoch 19/20\n",
            "66/66 [==============================] - 0s 1ms/step - loss: 0.8967 - accuracy: 0.6397\n",
            "Epoch 20/20\n",
            "66/66 [==============================] - 0s 1ms/step - loss: 0.8820 - accuracy: 0.6469\n"
          ]
        },
        {
          "output_type": "execute_result",
          "data": {
            "text/plain": [
              "<keras.callbacks.History at 0x7fe44aa82350>"
            ]
          },
          "metadata": {},
          "execution_count": 170
        }
      ]
    },
    {
      "cell_type": "markdown",
      "source": [
        "The kfold evaluation was not implemented on the neural network because it isn't a sci-kit learn estimator. The neural network model performance is evaluated on the test data."
      ],
      "metadata": {
        "id": "O5Dwt2_8bpiI"
      }
    },
    {
      "cell_type": "code",
      "source": [
        "#, batch_size=10\n",
        "y_pred_perceptron = mlp_model.predict(X_test_nn)\n",
        "\n",
        "# Return prediction with highest probability\n",
        "y_pred_perceptron = np.argmax(y_pred_perceptron, axis=1)\n",
        "\n",
        "# Evaluate model\n",
        "evaluate_model(y_pred=y_pred_perceptron, y_true=y_test_nn)"
      ],
      "metadata": {
        "colab": {
          "base_uri": "https://localhost:8080/"
        },
        "id": "qDC0x8cDMAsY",
        "outputId": "bb7528fe-70f4-406f-f76b-19a51f4ff70c"
      },
      "execution_count": null,
      "outputs": [
        {
          "output_type": "stream",
          "name": "stdout",
          "text": [
            "Accuracy:  0.6522988505747126\n",
            "Adjacent Facie Accuracy:  0.9238505747126436 \n",
            "\n",
            "     Pred    SS  CSiS  FSiS  SiSh    MS    WS     D    PS    BS Total\n",
            "     True\n",
            "       SS    20    18                                              38\n",
            "     CSiS     6   146    20                                       172\n",
            "     FSiS     1    46    72     2                       1         122\n",
            "     SiSh           2          23     2     9           2          38\n",
            "       MS           1           4    18    16     2     8          49\n",
            "       WS                       8     6    65     2    15     1    97\n",
            "        D                       2           2    10     4     2    20\n",
            "       PS           5     2     1     2    31     3    75     8   127\n",
            "       BS                             1     1           6    25    33\n",
            "\n",
            "Precision  0.74  0.67  0.77  0.57  0.62  0.52  0.59  0.68  0.69  0.66\n",
            "   Recall  0.53  0.85  0.59  0.61  0.37  0.67  0.50  0.59  0.76  0.65\n",
            "       F1  0.62  0.75  0.67  0.59  0.46  0.59  0.54  0.63  0.72  0.65\n"
          ]
        }
      ]
    },
    {
      "cell_type": "markdown",
      "source": [
        "The neural network model trained on the original data has an test accuracy of 65.2%."
      ],
      "metadata": {
        "id": "_4GX_1CcMTRe"
      }
    },
    {
      "cell_type": "code",
      "source": [
        "# Convert dataset to numpy array for training neural networks(nn) \n",
        "X_train_nn = np.asarray(X_train_encoded)\n",
        "\n",
        "X_test_nn = np.asarray(X_test_encoded)\n",
        "\n",
        "y_train_nn = np.asarray(y_train_encoded)\n",
        "\n",
        "y_test_nn= np.asarray(y_test_encoded)\n",
        "\n",
        "# add normalization layer\n",
        "normalize = layers.Normalization()\n",
        "normalize.adapt(X_train_nn)\n",
        "\n",
        "# create model\n",
        "mlp_model = tf.keras.models.Sequential([\n",
        "  normalize,\n",
        "  tf.keras.layers.Dense(128, activation='relu'),\n",
        "  tf.keras.layers.Dropout(0.2),\n",
        "  tf.keras.layers.Dense(10, activation='softmax')\n",
        "])\n",
        "\n",
        "# Assign model parameters\n",
        "mlp_model.compile(optimizer='adam',\n",
        "              loss='sparse_categorical_crossentropy',\n",
        "              metrics=['accuracy'])\n",
        "\n",
        "# train model\n",
        "mlp_model.fit(X_train_nn, y_train_nn, epochs=20)"
      ],
      "metadata": {
        "colab": {
          "base_uri": "https://localhost:8080/"
        },
        "id": "wEglq_F9MUPd",
        "outputId": "373bf516-48e7-43d7-8be1-ecd0494b3673"
      },
      "execution_count": null,
      "outputs": [
        {
          "output_type": "stream",
          "name": "stdout",
          "text": [
            "Epoch 1/20\n",
            "66/66 [==============================] - 0s 1ms/step - loss: 1.7432 - accuracy: 0.3862\n",
            "Epoch 2/20\n",
            "66/66 [==============================] - 0s 1ms/step - loss: 1.1423 - accuracy: 0.5803\n",
            "Epoch 3/20\n",
            "66/66 [==============================] - 0s 1ms/step - loss: 0.9688 - accuracy: 0.6483\n",
            "Epoch 4/20\n",
            "66/66 [==============================] - 0s 1ms/step - loss: 0.9017 - accuracy: 0.6608\n",
            "Epoch 5/20\n",
            "66/66 [==============================] - 0s 1ms/step - loss: 0.8565 - accuracy: 0.6727\n",
            "Epoch 6/20\n",
            "66/66 [==============================] - 0s 1ms/step - loss: 0.8049 - accuracy: 0.6962\n",
            "Epoch 7/20\n",
            "66/66 [==============================] - 0s 1ms/step - loss: 0.7684 - accuracy: 0.7082\n",
            "Epoch 8/20\n",
            "66/66 [==============================] - 0s 1ms/step - loss: 0.7510 - accuracy: 0.7053\n",
            "Epoch 9/20\n",
            "66/66 [==============================] - 0s 1ms/step - loss: 0.7240 - accuracy: 0.7278\n",
            "Epoch 10/20\n",
            "66/66 [==============================] - 0s 2ms/step - loss: 0.6993 - accuracy: 0.7384\n",
            "Epoch 11/20\n",
            "66/66 [==============================] - 0s 1ms/step - loss: 0.6953 - accuracy: 0.7298\n",
            "Epoch 12/20\n",
            "66/66 [==============================] - 0s 2ms/step - loss: 0.6789 - accuracy: 0.7384\n",
            "Epoch 13/20\n",
            "66/66 [==============================] - 0s 1ms/step - loss: 0.6643 - accuracy: 0.7528\n",
            "Epoch 14/20\n",
            "66/66 [==============================] - 0s 2ms/step - loss: 0.6469 - accuracy: 0.7590\n",
            "Epoch 15/20\n",
            "66/66 [==============================] - 0s 2ms/step - loss: 0.6363 - accuracy: 0.7595\n",
            "Epoch 16/20\n",
            "66/66 [==============================] - 0s 1ms/step - loss: 0.6233 - accuracy: 0.7556\n",
            "Epoch 17/20\n",
            "66/66 [==============================] - 0s 1ms/step - loss: 0.6169 - accuracy: 0.7667\n",
            "Epoch 18/20\n",
            "66/66 [==============================] - 0s 1ms/step - loss: 0.6118 - accuracy: 0.7695\n",
            "Epoch 19/20\n",
            "66/66 [==============================] - 0s 2ms/step - loss: 0.5928 - accuracy: 0.7748\n",
            "Epoch 20/20\n",
            "66/66 [==============================] - 0s 3ms/step - loss: 0.5913 - accuracy: 0.7782\n"
          ]
        },
        {
          "output_type": "execute_result",
          "data": {
            "text/plain": [
              "<keras.callbacks.History at 0x7fe44a132990>"
            ]
          },
          "metadata": {},
          "execution_count": 176
        }
      ]
    },
    {
      "cell_type": "code",
      "source": [
        "#, batch_size=10\n",
        "y_pred_perceptron_encoded = mlp_model.predict(X_test_nn)\n",
        "\n",
        "# Return prediction with highest probability\n",
        "y_pred_perceptron_encoded = np.argmax(y_pred_perceptron_encoded, axis=1)\n",
        "\n",
        "# Evaluate model\n",
        "evaluate_model(y_pred=y_pred_perceptron_encoded, y_true=y_test_nn)"
      ],
      "metadata": {
        "colab": {
          "base_uri": "https://localhost:8080/"
        },
        "id": "Xg7RgyzdMoys",
        "outputId": "d8a7b367-2412-481b-d65d-683e9c6c681a"
      },
      "execution_count": null,
      "outputs": [
        {
          "output_type": "stream",
          "name": "stdout",
          "text": [
            "Accuracy:  0.7385057471264368\n",
            "Adjacent Facie Accuracy:  0.9382183908045977 \n",
            "\n",
            "     Pred    SS  CSiS  FSiS  SiSh    MS    WS     D    PS    BS Total\n",
            "     True\n",
            "       SS    34     4                                              38\n",
            "     CSiS     6   144    22                                       172\n",
            "     FSiS          20   100                 2                     122\n",
            "     SiSh     1     1          19     6    11                      38\n",
            "       MS           1           4    28     8     1     6     1    49\n",
            "       WS                       5     2    72     1    16     1    97\n",
            "        D                                   2    16     1     1    20\n",
            "       PS                 1     5     4    39     2    70     6   127\n",
            "       BS                                   2                31    33\n",
            "\n",
            "Precision  0.83  0.85  0.81  0.58  0.70  0.53  0.80  0.75  0.78  0.75\n",
            "   Recall  0.89  0.84  0.82  0.50  0.57  0.74  0.80  0.55  0.94  0.74\n",
            "       F1  0.86  0.84  0.82  0.54  0.63  0.62  0.80  0.64  0.85  0.74\n"
          ]
        }
      ]
    },
    {
      "cell_type": "markdown",
      "source": [
        "The neural network model trained on the encoded data has an test accuracy of 73.8%."
      ],
      "metadata": {
        "id": "q56NOwzsM1Ff"
      }
    },
    {
      "cell_type": "code",
      "source": [
        "# Convert dataset to numpy array for training neural networks(nn) \n",
        "X_train_nn = np.asarray(X_train_norm)\n",
        "\n",
        "X_test_nn = np.asarray(X_test_norm)\n",
        "\n",
        "y_train_nn = np.asarray(y_train_norm)\n",
        "\n",
        "y_test_nn= np.asarray(y_test_norm)\n",
        "\n",
        "# add normalization layer\n",
        "normalize = layers.Normalization()\n",
        "normalize.adapt(X_train_nn)\n",
        "\n",
        "# create model\n",
        "mlp_model = tf.keras.models.Sequential([\n",
        "  normalize,\n",
        "  tf.keras.layers.Dense(128, activation='relu'),\n",
        "  tf.keras.layers.Dropout(0.2),\n",
        "  tf.keras.layers.Dense(10, activation='softmax')\n",
        "])\n",
        "\n",
        "# Assign model parameters\n",
        "mlp_model.compile(optimizer='adam',\n",
        "              loss='sparse_categorical_crossentropy',\n",
        "              metrics=['accuracy'])\n",
        "\n",
        "# train model\n",
        "mlp_model.fit(X_train_nn, y_train_nn, epochs=20)"
      ],
      "metadata": {
        "colab": {
          "base_uri": "https://localhost:8080/"
        },
        "id": "u3Bi0_C2M1uA",
        "outputId": "2fa42115-2dd8-4a29-ce34-93d457732db6"
      },
      "execution_count": null,
      "outputs": [
        {
          "output_type": "stream",
          "name": "stdout",
          "text": [
            "Epoch 1/20\n",
            "66/66 [==============================] - 0s 1ms/step - loss: 1.7901 - accuracy: 0.3618\n",
            "Epoch 2/20\n",
            "66/66 [==============================] - 0s 1ms/step - loss: 1.1427 - accuracy: 0.5769\n",
            "Epoch 3/20\n",
            "66/66 [==============================] - 0s 1ms/step - loss: 0.9681 - accuracy: 0.6291\n",
            "Epoch 4/20\n",
            "66/66 [==============================] - 0s 2ms/step - loss: 0.8868 - accuracy: 0.6694\n",
            "Epoch 5/20\n",
            "66/66 [==============================] - 0s 1ms/step - loss: 0.8240 - accuracy: 0.6938\n",
            "Epoch 6/20\n",
            "66/66 [==============================] - 0s 1ms/step - loss: 0.7932 - accuracy: 0.7063\n",
            "Epoch 7/20\n",
            "66/66 [==============================] - 0s 2ms/step - loss: 0.7654 - accuracy: 0.7154\n",
            "Epoch 8/20\n",
            "66/66 [==============================] - 0s 2ms/step - loss: 0.7376 - accuracy: 0.7139\n",
            "Epoch 9/20\n",
            "66/66 [==============================] - 0s 2ms/step - loss: 0.7225 - accuracy: 0.7240\n",
            "Epoch 10/20\n",
            "66/66 [==============================] - 0s 1ms/step - loss: 0.7076 - accuracy: 0.7369\n",
            "Epoch 11/20\n",
            "66/66 [==============================] - 0s 2ms/step - loss: 0.6816 - accuracy: 0.7403\n",
            "Epoch 12/20\n",
            "66/66 [==============================] - 0s 2ms/step - loss: 0.6651 - accuracy: 0.7456\n",
            "Epoch 13/20\n",
            "66/66 [==============================] - 0s 1ms/step - loss: 0.6561 - accuracy: 0.7518\n",
            "Epoch 14/20\n",
            "66/66 [==============================] - 0s 1ms/step - loss: 0.6444 - accuracy: 0.7513\n",
            "Epoch 15/20\n",
            "66/66 [==============================] - 0s 2ms/step - loss: 0.6297 - accuracy: 0.7595\n",
            "Epoch 16/20\n",
            "66/66 [==============================] - 0s 1ms/step - loss: 0.6105 - accuracy: 0.7796\n",
            "Epoch 17/20\n",
            "66/66 [==============================] - 0s 2ms/step - loss: 0.6177 - accuracy: 0.7623\n",
            "Epoch 18/20\n",
            "66/66 [==============================] - 0s 1ms/step - loss: 0.6007 - accuracy: 0.7662\n",
            "Epoch 19/20\n",
            "66/66 [==============================] - 0s 1ms/step - loss: 0.5898 - accuracy: 0.7777\n",
            "Epoch 20/20\n",
            "66/66 [==============================] - 0s 2ms/step - loss: 0.5857 - accuracy: 0.7810\n"
          ]
        },
        {
          "output_type": "execute_result",
          "data": {
            "text/plain": [
              "<keras.callbacks.History at 0x7fe449f6a190>"
            ]
          },
          "metadata": {},
          "execution_count": 178
        }
      ]
    },
    {
      "cell_type": "code",
      "source": [
        "#, batch_size=10\n",
        "y_pred_perceptron_norm = mlp_model.predict(X_test_nn)\n",
        "\n",
        "# Return prediction with highest probability\n",
        "y_pred_perceptron_norm = np.argmax(y_pred_perceptron_norm, axis=1)\n",
        "\n",
        "# Evaluate model\n",
        "evaluate_model(y_pred=y_pred_perceptron_norm, y_true=y_test_nn)"
      ],
      "metadata": {
        "colab": {
          "base_uri": "https://localhost:8080/"
        },
        "id": "TQ2rdBfqM7e6",
        "outputId": "31363f19-3f6f-45c5-9da4-e72b24cd244b"
      },
      "execution_count": null,
      "outputs": [
        {
          "output_type": "stream",
          "name": "stdout",
          "text": [
            "Accuracy:  0.757183908045977\n",
            "Adjacent Facie Accuracy:  0.9367816091954023 \n",
            "\n",
            "     Pred    SS  CSiS  FSiS  SiSh    MS    WS     D    PS    BS Total\n",
            "     True\n",
            "       SS    31     7                                              38\n",
            "     CSiS     3   145    24                                       172\n",
            "     FSiS          24    95     1           1           1         122\n",
            "     SiSh     1     1          22     3     8           3          38\n",
            "       MS           1           6    27     6     1     7     1    49\n",
            "       WS                       6     2    66     2    20     1    97\n",
            "        D                                        16     3     1    20\n",
            "       PS                 1     4     3    18     3    94     4   127\n",
            "       BS                                   2                31    33\n",
            "\n",
            "Precision  0.89  0.81  0.79  0.56  0.77  0.65  0.73  0.73  0.82  0.76\n",
            "   Recall  0.82  0.84  0.78  0.58  0.55  0.68  0.80  0.74  0.94  0.76\n",
            "       F1  0.85  0.83  0.79  0.57  0.64  0.67  0.76  0.74  0.87  0.76\n"
          ]
        }
      ]
    },
    {
      "cell_type": "markdown",
      "source": [
        "The neural network model trained on the normalized data has an test accuracy of 75.7%."
      ],
      "metadata": {
        "id": "tv0MguSRNUdr"
      }
    },
    {
      "cell_type": "markdown",
      "source": [
        "\n",
        "###1D CNN"
      ],
      "metadata": {
        "id": "ChFEeQENcMA6"
      }
    },
    {
      "cell_type": "code",
      "source": [
        "print(X_train_nn.shape)\n",
        "print(X_test_nn.shape)"
      ],
      "metadata": {
        "colab": {
          "base_uri": "https://localhost:8080/"
        },
        "id": "JYqX_l6aSuCK",
        "outputId": "cb08f0a4-8041-4386-81ac-f435d961d3e5"
      },
      "execution_count": null,
      "outputs": [
        {
          "output_type": "stream",
          "name": "stdout",
          "text": [
            "(2424, 8)\n",
            "(808, 8)\n"
          ]
        }
      ]
    },
    {
      "cell_type": "code",
      "source": [
        "#data = facies_data.values # load data as numpy arrays\n",
        "\n",
        "# data.shape array dimension (n_rows, n_features)\n",
        "\n",
        "# Assign feature & target vectors\n",
        "\n",
        "#y = facies_data[\"Facies\"]\n",
        "\n",
        "#X = facies_data.drop([\"Formation\", \"Well Name\", \"Facies\"], axis=1) # dropping categorical columns for now\n",
        "\n",
        "# Convert dataset to numpy array for deep learning models\n",
        "# Convert dataset to numpy array for training neural networks(nn) \n",
        "X_train_nn1 = np.asarray(X_train_norm)\n",
        "\n",
        "X_test_nn1 = np.asarray(X_test_norm)\n",
        "\n",
        "#y_train_nn = np.asarray(y_train)\n",
        "#y_test_nn= np.asarray(y_test)\n",
        "\n",
        "# The known number of output classes.\n",
        "num_classes = 9\n",
        "\n",
        "# Input dimensions\n",
        "input_shape = (8,)\n",
        "\n",
        "# one hot encode these class integers so that the data is suitable for fitting a neural network multi-class classification model\n",
        "Y_train = y_train_nn - 1\n",
        "# Y_test = Y_test - 1\n",
        "\n",
        "Y_train = tf.keras.utils.to_categorical(Y_train, num_classes)\n",
        "# Y_test = tf.keras.utils.to_categorical(Y_test, num_classes)\n",
        "\n",
        "#X_train = tf.expand_dims(X_train, axis=-1)\n",
        "x_train = X_train_nn1.reshape(2424, 8, -1)\n",
        "x_test = X_test_nn1.reshape(808, 8, -1)\n",
        "\n",
        "x_train.shape"
      ],
      "metadata": {
        "id": "55HUj0FK3bUb",
        "colab": {
          "base_uri": "https://localhost:8080/"
        },
        "outputId": "33b76001-f711-4742-f1ee-0e106709a088"
      },
      "execution_count": null,
      "outputs": [
        {
          "output_type": "execute_result",
          "data": {
            "text/plain": [
              "(2424, 8, 1)"
            ]
          },
          "metadata": {},
          "execution_count": 263
        }
      ]
    },
    {
      "cell_type": "code",
      "source": [
        "#X_train = tf.expand_dims(X_train, axis=-1)\n",
        "\"\"\"x_train = X_train_nn.reshape(2424, 8, -1)\n",
        "x_test = X_test_nn.reshape(808, 8, -1)\n",
        "\n",
        "x_train.shape\"\"\""
      ],
      "metadata": {
        "colab": {
          "base_uri": "https://localhost:8080/"
        },
        "id": "QSJBd-2m_Cwm",
        "outputId": "33b9cb6b-1b44-4526-cb9d-17c95e99ab57"
      },
      "execution_count": null,
      "outputs": [
        {
          "output_type": "execute_result",
          "data": {
            "text/plain": [
              "(2424, 8, 1)"
            ]
          },
          "metadata": {},
          "execution_count": 198
        }
      ]
    },
    {
      "cell_type": "code",
      "source": [
        "print(x_train.shape)\n",
        "print(X_train_nn.shape, '\\n')\n",
        "print(Y_train.shape)\n",
        "print(y_train_nn.shape)\n"
      ],
      "metadata": {
        "colab": {
          "base_uri": "https://localhost:8080/"
        },
        "id": "vHQINqrfI-xV",
        "outputId": "df9d1555-e0d4-41f1-ea5a-c91281a317a2"
      },
      "execution_count": null,
      "outputs": [
        {
          "output_type": "stream",
          "name": "stdout",
          "text": [
            "(2424, 8, 1)\n",
            "(2424, 8) \n",
            "\n",
            "(2424, 9)\n",
            "(2424,)\n"
          ]
        }
      ]
    },
    {
      "cell_type": "code",
      "source": [
        "# Create model\n",
        "cnn1D_model = tf.keras.Sequential([\n",
        "  #normalize, \n",
        "  layers.Conv1D(16, (3), activation='relu', input_shape=(8,1)),\n",
        "  layers.Flatten(),\n",
        "  layers.Dense(64, activation='relu'),\n",
        "  layers.Dense(num_classes, activation='softmax')\n",
        "])\n",
        "\n",
        "cnn1D_model.compile(loss=tf.keras.losses.categorical_crossentropy,\n",
        "              optimizer=tf.keras.optimizers.Adadelta(),\n",
        "              metrics=['accuracy'])\n",
        "\n",
        "cnn1D_model.summary()"
      ],
      "metadata": {
        "id": "cBEwVsTqVXFN",
        "colab": {
          "base_uri": "https://localhost:8080/"
        },
        "outputId": "979d720a-5299-40c5-d370-c952f6c81378"
      },
      "execution_count": null,
      "outputs": [
        {
          "output_type": "stream",
          "name": "stdout",
          "text": [
            "Model: \"sequential_30\"\n",
            "_________________________________________________________________\n",
            " Layer (type)                Output Shape              Param #   \n",
            "=================================================================\n",
            " conv1d_20 (Conv1D)          (None, 6, 16)             64        \n",
            "                                                                 \n",
            " flatten_17 (Flatten)        (None, 96)                0         \n",
            "                                                                 \n",
            " dense_60 (Dense)            (None, 64)                6208      \n",
            "                                                                 \n",
            " dense_61 (Dense)            (None, 9)                 585       \n",
            "                                                                 \n",
            "=================================================================\n",
            "Total params: 6,857\n",
            "Trainable params: 6,857\n",
            "Non-trainable params: 0\n",
            "_________________________________________________________________\n"
          ]
        }
      ]
    },
    {
      "cell_type": "code",
      "source": [
        "cnn1D_model.fit(x_train, Y_train, epochs=10)"
      ],
      "metadata": {
        "id": "MaLuQv0eVZcz",
        "colab": {
          "base_uri": "https://localhost:8080/"
        },
        "outputId": "97bfec6c-12ca-4a1c-e6c9-423ab1dccc56"
      },
      "execution_count": null,
      "outputs": [
        {
          "output_type": "stream",
          "name": "stdout",
          "text": [
            "Epoch 1/10\n",
            "76/76 [==============================] - 1s 2ms/step - loss: 2.1136 - accuracy: 0.2785\n",
            "Epoch 2/10\n",
            "76/76 [==============================] - 0s 2ms/step - loss: 2.1120 - accuracy: 0.2822\n",
            "Epoch 3/10\n",
            "76/76 [==============================] - 0s 2ms/step - loss: 2.1104 - accuracy: 0.2851\n",
            "Epoch 4/10\n",
            "76/76 [==============================] - 0s 2ms/step - loss: 2.1087 - accuracy: 0.2863\n",
            "Epoch 5/10\n",
            "76/76 [==============================] - 0s 2ms/step - loss: 2.1071 - accuracy: 0.2900\n",
            "Epoch 6/10\n",
            "76/76 [==============================] - 0s 2ms/step - loss: 2.1054 - accuracy: 0.2941\n",
            "Epoch 7/10\n",
            "76/76 [==============================] - 0s 2ms/step - loss: 2.1037 - accuracy: 0.2966\n",
            "Epoch 8/10\n",
            "76/76 [==============================] - 0s 2ms/step - loss: 2.1020 - accuracy: 0.2974\n",
            "Epoch 9/10\n",
            "76/76 [==============================] - 0s 2ms/step - loss: 2.1002 - accuracy: 0.3007\n",
            "Epoch 10/10\n",
            "76/76 [==============================] - 0s 2ms/step - loss: 2.0985 - accuracy: 0.3036\n"
          ]
        },
        {
          "output_type": "execute_result",
          "data": {
            "text/plain": [
              "<keras.callbacks.History at 0x7f4befea2310>"
            ]
          },
          "metadata": {},
          "execution_count": 314
        }
      ]
    },
    {
      "cell_type": "code",
      "source": [
        "y_pred_cnn1d = cnn1D_model.predict(x_test)\n",
        "y_pred_cnn1d.shape"
      ],
      "metadata": {
        "id": "U5ko2bnnVaAc",
        "colab": {
          "base_uri": "https://localhost:8080/"
        },
        "outputId": "45b301a2-31ec-402c-fce4-8ffb8425f441"
      },
      "execution_count": null,
      "outputs": [
        {
          "output_type": "execute_result",
          "data": {
            "text/plain": [
              "(808, 9)"
            ]
          },
          "metadata": {},
          "execution_count": 315
        }
      ]
    },
    {
      "cell_type": "code",
      "source": [
        "y_pred_cnn1d = np.argmax(y_pred_cnn1d, axis=1)+1\n",
        "y_pred_cnn1d.shape"
      ],
      "metadata": {
        "colab": {
          "base_uri": "https://localhost:8080/"
        },
        "id": "V-QYzhQhyHgh",
        "outputId": "58f9c75d-2a2e-4875-ec0f-be81d4f3f0d3"
      },
      "execution_count": null,
      "outputs": [
        {
          "output_type": "execute_result",
          "data": {
            "text/plain": [
              "(808,)"
            ]
          },
          "metadata": {},
          "execution_count": 316
        }
      ]
    },
    {
      "cell_type": "code",
      "source": [
        "y_pred_cnn1d"
      ],
      "metadata": {
        "colab": {
          "base_uri": "https://localhost:8080/"
        },
        "id": "8zzt0slsLjR0",
        "outputId": "efed1a31-eeb2-46fa-beb1-a2f953518518"
      },
      "execution_count": null,
      "outputs": [
        {
          "output_type": "execute_result",
          "data": {
            "text/plain": [
              "array([8, 8, 3, 8, 3, 3, 8, 3, 8, 8, 3, 8, 3, 2, 8, 3, 3, 2, 8, 3, 3, 5,\n",
              "       6, 3, 8, 8, 8, 2, 1, 8, 3, 8, 3, 3, 3, 8, 8, 8, 8, 3, 3, 3, 3, 8,\n",
              "       8, 3, 1, 8, 3, 3, 8, 3, 8, 8, 1, 3, 8, 3, 8, 8, 2, 8, 3, 3, 8, 2,\n",
              "       3, 6, 8, 8, 8, 3, 8, 1, 3, 8, 5, 8, 3, 8, 1, 3, 8, 8, 1, 1, 8, 8,\n",
              "       8, 8, 8, 3, 8, 3, 8, 8, 8, 3, 3, 3, 3, 1, 8, 8, 3, 3, 8, 3, 3, 8,\n",
              "       8, 3, 8, 8, 3, 3, 3, 3, 3, 2, 8, 1, 8, 8, 2, 3, 3, 8, 6, 3, 8, 3,\n",
              "       3, 8, 8, 1, 2, 3, 3, 3, 2, 3, 1, 8, 1, 8, 8, 8, 3, 8, 3, 8, 3, 8,\n",
              "       3, 8, 8, 3, 3, 8, 8, 3, 8, 8, 3, 3, 3, 1, 1, 8, 1, 3, 3, 8, 8, 8,\n",
              "       3, 3, 8, 8, 3, 8, 8, 7, 6, 8, 3, 1, 8, 3, 2, 8, 3, 8, 8, 8, 3, 1,\n",
              "       3, 3, 8, 3, 1, 2, 8, 5, 8, 3, 3, 3, 8, 3, 3, 3, 8, 8, 1, 8, 3, 8,\n",
              "       3, 3, 3, 3, 8, 3, 1, 1, 3, 3, 3, 3, 8, 3, 8, 8, 6, 1, 3, 3, 3, 3,\n",
              "       8, 3, 8, 3, 3, 3, 3, 2, 8, 3, 3, 8, 7, 8, 8, 3, 8, 3, 3, 1, 3, 3,\n",
              "       8, 1, 3, 8, 3, 2, 3, 3, 8, 8, 3, 7, 6, 8, 8, 8, 8, 8, 8, 8, 3, 1,\n",
              "       8, 8, 8, 8, 3, 8, 3, 8, 1, 2, 8, 3, 3, 8, 3, 3, 3, 8, 8, 8, 8, 1,\n",
              "       2, 3, 3, 3, 8, 1, 8, 8, 1, 8, 3, 3, 2, 3, 3, 8, 2, 3, 8, 3, 8, 8,\n",
              "       1, 1, 3, 1, 3, 8, 8, 3, 8, 3, 8, 3, 8, 3, 8, 8, 3, 3, 8, 8, 8, 8,\n",
              "       3, 3, 3, 3, 8, 1, 8, 3, 8, 2, 3, 1, 1, 2, 3, 8, 6, 8, 3, 8, 3, 8,\n",
              "       3, 8, 6, 1, 8, 3, 1, 3, 8, 3, 3, 8, 8, 3, 3, 3, 3, 3, 3, 8, 3, 8,\n",
              "       1, 2, 3, 8, 8, 8, 1, 1, 8, 8, 8, 8, 3, 3, 8, 8, 3, 8, 3, 8, 3, 7,\n",
              "       8, 8, 1, 2, 3, 3, 8, 8, 8, 6, 8, 1, 8, 1, 3, 3, 3, 3, 3, 3, 8, 3,\n",
              "       1, 1, 8, 3, 3, 8, 8, 8, 3, 8, 8, 3, 8, 3, 3, 8, 8, 3, 1, 8, 3, 6,\n",
              "       8, 3, 1, 8, 2, 3, 8, 8, 8, 3, 3, 8, 3, 3, 3, 6, 1, 2, 3, 1, 1, 6,\n",
              "       3, 3, 3, 3, 2, 3, 8, 8, 2, 3, 3, 3, 3, 3, 8, 8, 3, 1, 1, 8, 8, 8,\n",
              "       3, 7, 3, 3, 3, 8, 8, 3, 1, 2, 8, 3, 3, 1, 8, 3, 2, 3, 8, 3, 1, 8,\n",
              "       8, 3, 1, 3, 8, 6, 8, 8, 3, 8, 8, 8, 1, 3, 3, 8, 5, 3, 8, 5, 8, 8,\n",
              "       6, 8, 8, 8, 8, 3, 5, 8, 8, 8, 1, 2, 3, 3, 8, 6, 8, 8, 1, 3, 3, 3,\n",
              "       3, 2, 8, 8, 7, 3, 3, 3, 8, 3, 8, 1, 8, 3, 8, 8, 4, 8, 1, 8, 3, 2,\n",
              "       3, 3, 3, 1, 3, 3, 3, 3, 1, 3, 3, 3, 6, 3, 8, 8, 1, 8, 3, 3, 3, 3,\n",
              "       7, 3, 2, 8, 3, 3, 8, 2, 8, 8, 8, 8, 1, 3, 8, 1, 3, 3, 8, 8, 3, 3,\n",
              "       8, 3, 8, 8, 3, 8, 2, 8, 3, 8, 8, 2, 3, 3, 8, 3, 8, 3, 8, 3, 1, 3,\n",
              "       3, 5, 3, 3, 3, 8, 8, 8, 3, 3, 8, 3, 8, 3, 8, 8, 3, 8, 8, 1, 3, 8,\n",
              "       7, 1, 3, 8, 3, 3, 8, 8, 8, 3, 8, 8, 3, 3, 8, 2, 2, 3, 3, 3, 3, 8,\n",
              "       8, 3, 8, 3, 8, 8, 8, 1, 3, 3, 1, 2, 3, 8, 8, 8, 8, 3, 8, 3, 2, 1,\n",
              "       8, 3, 3, 8, 3, 3, 3, 8, 8, 8, 3, 1, 8, 3, 3, 3, 3, 2, 8, 8, 3, 8,\n",
              "       8, 3, 3, 1, 8, 3, 3, 8, 8, 8, 3, 3, 8, 3, 6, 2, 3, 8, 8, 3, 8, 3,\n",
              "       8, 1, 3, 3, 3, 1, 3, 8, 3, 8, 8, 3, 3, 8, 8, 3, 3, 6, 8, 8, 1, 3,\n",
              "       8, 1, 3, 3, 8, 8, 3, 3, 8, 3, 8, 8, 2, 8, 8, 8])"
            ]
          },
          "metadata": {},
          "execution_count": 317
        }
      ]
    },
    {
      "cell_type": "code",
      "source": [
        "evaluate_model(y_pred=y_pred_cnn1d, y_true=y_test_nn)"
      ],
      "metadata": {
        "id": "UuJX0jc7VXSt",
        "colab": {
          "base_uri": "https://localhost:8080/"
        },
        "outputId": "ccf6d331-45f8-4783-85ca-54ef77dd31ec"
      },
      "execution_count": null,
      "outputs": [
        {
          "output_type": "stream",
          "name": "stdout",
          "text": [
            "Accuracy:  0.27970297029702973\n",
            "Adjacent Facie Accuracy:  0.5915841584158416 \n",
            "\n",
            "     Pred    SS  CSiS  FSiS  SiSh    MS    WS     D    PS    BS Total\n",
            "     True\n",
            "       SS     8     9    16                 3          39          75\n",
            "     CSiS    30    27    87                 3          36         183\n",
            "     FSiS    12     3   114     1           6          13         149\n",
            "     SiSh     2     1    27           1     2          17          50\n",
            "       MS     1          10           1     3     1    37          53\n",
            "       WS     4     1    38           3     1     7    72         126\n",
            "        D     8                                        13          21\n",
            "       PS    10          21           2                75         108\n",
            "       BS     3          16                            24          43\n",
            "\n",
            "Precision  0.10  0.66  0.35  0.00  0.14  0.06  0.00  0.23  0.00  0.27\n",
            "   Recall  0.11  0.15  0.77  0.00  0.02  0.01  0.00  0.69  0.00  0.28\n",
            "       F1  0.10  0.24  0.48  0.00  0.03  0.01  0.00  0.35  0.00  0.20\n"
          ]
        },
        {
          "output_type": "stream",
          "name": "stderr",
          "text": [
            "/content/classification_utilities.py:13: RuntimeWarning: invalid value encountered in true_divide\n",
            "  precision = np.diagonal(cm)/cm.sum(axis=0).astype('float')\n",
            "/content/classification_utilities.py:15: RuntimeWarning: invalid value encountered in true_divide\n",
            "  F1 = 2 * (precision * recall) / (precision + recall)\n"
          ]
        }
      ]
    },
    {
      "cell_type": "markdown",
      "source": [
        "##Model Validation"
      ],
      "metadata": {
        "id": "b0fWXZ_GctlM"
      }
    },
    {
      "cell_type": "code",
      "source": [
        "# Encode\n",
        "blind = pd.get_dummies(blind)\n",
        "\n",
        "# Assign features\n",
        "X_blind = blind.drop(['Facies'], axis=1)\n",
        "y_blind = blind['Facies'].values\n",
        "\n",
        "# Normalize\n",
        "X_blind = pt.fit_transform(X_blind)\n",
        "\n",
        "# Predict\n",
        "blind['Prediction'] = d_tree_model_norm.predict(X_blind)"
      ],
      "metadata": {
        "colab": {
          "base_uri": "https://localhost:8080/"
        },
        "id": "2EVcMEdaaKNl",
        "outputId": "aaf0fa2b-9af6-4afb-ab08-cdffcdc6b4ac"
      },
      "execution_count": null,
      "outputs": [
        {
          "output_type": "stream",
          "name": "stderr",
          "text": [
            "/usr/local/lib/python3.7/dist-packages/sklearn/preprocessing/_data.py:3253: RuntimeWarning: divide by zero encountered in log\n",
            "  loglike = -n_samples / 2 * np.log(x_trans.var())\n"
          ]
        }
      ]
    },
    {
      "cell_type": "code",
      "source": [
        "# Plot predicted vs true facies data\n",
        "def compare_facies_plot(logs, compadre, facies_colours):\n",
        "    #make sure logs are sorted by depth\n",
        "    logs = logs.sort_values(by='Depth')\n",
        "    cmap_facies = colors.ListedColormap(\n",
        "            facies_colors[0:len(facies_colors)], 'indexed')\n",
        "    \n",
        "    ztop=logs.Depth.min(); zbot=logs.Depth.max()\n",
        "    \n",
        "    cluster1 = np.repeat(np.expand_dims(logs['Facies'].values,1), 100, 1)\n",
        "    cluster2 = np.repeat(np.expand_dims(logs[compadre].values,1), 100, 1)\n",
        "    \n",
        "    f, ax = plt.subplots(nrows=1, ncols=7, figsize=(9, 12))\n",
        "    ax[0].plot(logs.GR, logs.Depth, '-g')\n",
        "    ax[1].plot(logs.ILD_log10, logs.Depth, '-')\n",
        "    ax[2].plot(logs.DeltaPHI, logs.Depth, '-', color='0.5')\n",
        "    ax[3].plot(logs.PHIND, logs.Depth, '-', color='r')\n",
        "    ax[4].plot(logs.PE, logs.Depth, '-', color='black')\n",
        "    im1 = ax[5].imshow(cluster1, interpolation='none', aspect='auto',\n",
        "                    cmap=cmap_facies,vmin=1,vmax=9)\n",
        "    im2 = ax[6].imshow(cluster2, interpolation='none', aspect='auto',\n",
        "                    cmap=cmap_facies,vmin=1,vmax=9)\n",
        "    \n",
        "    divider = make_axes_locatable(ax[6])\n",
        "    cax = divider.append_axes(\"right\", size=\"20%\", pad=0.05)\n",
        "    cbar=plt.colorbar(im2, cax=cax)\n",
        "    cbar.set_label((17*' ').join([' SS ', 'CSiS', 'FSiS', \n",
        "                                'SiSh', ' MS ', ' WS ', ' D  ', \n",
        "                                ' PS ', ' BS ']))\n",
        "    cbar.set_ticks(range(0,1)); cbar.set_ticklabels('')\n",
        "    \n",
        "    for i in range(len(ax)-2):\n",
        "        ax[i].set_ylim(ztop,zbot)\n",
        "        ax[i].invert_yaxis()\n",
        "        ax[i].grid()\n",
        "        ax[i].locator_params(axis='x', nbins=3)\n",
        "    \n",
        "    ax[0].set_xlabel(\"GR\")\n",
        "    ax[0].set_xlim(logs.GR.min(),logs.GR.max())\n",
        "    ax[1].set_xlabel(\"ILD_log10\")\n",
        "    ax[1].set_xlim(logs.ILD_log10.min(),logs.ILD_log10.max())\n",
        "    ax[2].set_xlabel(\"DeltaPHI\")\n",
        "    ax[2].set_xlim(logs.DeltaPHI.min(),logs.DeltaPHI.max())\n",
        "    ax[3].set_xlabel(\"PHIND\")\n",
        "    ax[3].set_xlim(logs.PHIND.min(),logs.PHIND.max())\n",
        "    ax[4].set_xlabel(\"PE\")\n",
        "    ax[4].set_xlim(logs.PE.min(),logs.PE.max())\n",
        "    ax[5].set_xlabel('Facies')\n",
        "    ax[6].set_xlabel(compadre)\n",
        "    \n",
        "    ax[1].set_yticklabels([]); ax[2].set_yticklabels([]); ax[3].set_yticklabels([])\n",
        "    ax[4].set_yticklabels([]); ax[5].set_yticklabels([])\n",
        "    ax[5].set_xticklabels([])\n",
        "    ax[6].set_xticklabels([])\n",
        "    f.suptitle('Well Name: SHANKLE')"
      ],
      "metadata": {
        "id": "mAOHUdYzdRZC"
      },
      "execution_count": null,
      "outputs": []
    },
    {
      "cell_type": "code",
      "source": [
        "compare_facies_plot(blind, 'Prediction', facies_colours)"
      ],
      "metadata": {
        "colab": {
          "base_uri": "https://localhost:8080/",
          "height": 718
        },
        "id": "JTHTsZRFdbi8",
        "outputId": "7f8fe826-93a8-4af2-c4ee-ccdc50776975"
      },
      "execution_count": null,
      "outputs": [
        {
          "output_type": "display_data",
          "data": {
            "text/plain": [
              "<Figure size 648x864 with 8 Axes>"
            ],
            "image/png": "[encoded data removed]"
          },
          "metadata": {
            "needs_background": "light"
          }
        }
      ]
    },
    {
      "cell_type": "code",
      "source": [
        "# Save model as pickle file\n",
        "\n",
        "import pickle\n",
        "\n",
        "pickle_out = open(\"classifier.pkl\", \"wb\")\n",
        "\n",
        "pickle.dump(d_tree_model_norm, pickle_out)\n",
        "pickle_out.close()"
      ],
      "metadata": {
        "id": "J8v3GXzGL3rJ"
      },
      "execution_count": null,
      "outputs": []
    }
  ]
}